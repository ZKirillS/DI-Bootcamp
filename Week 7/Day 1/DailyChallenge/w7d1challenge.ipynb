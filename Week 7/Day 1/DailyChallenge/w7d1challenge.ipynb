{
  "nbformat": 4,
  "nbformat_minor": 0,
  "metadata": {
    "colab": {
      "provenance": []
    },
    "kernelspec": {
      "name": "python3",
      "display_name": "Python 3"
    },
    "language_info": {
      "name": "python"
    }
  },
  "cells": [
    {
      "cell_type": "code",
      "execution_count": 39,
      "metadata": {
        "colab": {
          "base_uri": "https://localhost:8080/"
        },
        "id": "FLcbxV0B7vWa",
        "outputId": "21dead1d-5980-4963-a1fb-36d8d2a8d918"
      },
      "outputs": [
        {
          "output_type": "stream",
          "name": "stdout",
          "text": [
            "200\n"
          ]
        }
      ],
      "source": [
        "# End-to-End Web Scraping In Python\n",
        "import requests\n",
        "from bs4 import BeautifulSoup\n",
        "\n",
        "url = 'https://github.com/topics'\n",
        "response = requests.get(url)\n",
        "print(response.status_code)"
      ]
    },
    {
      "cell_type": "code",
      "source": [
        "print(response.text[:100])"
      ],
      "metadata": {
        "colab": {
          "base_uri": "https://localhost:8080/"
        },
        "id": "-SOmSeN9NbEu",
        "outputId": "12f71c51-2bdb-422d-9750-44c8bc6c358d"
      },
      "execution_count": 40,
      "outputs": [
        {
          "output_type": "stream",
          "name": "stdout",
          "text": [
            "\n",
            "\n",
            "<!DOCTYPE html>\n",
            "<html\n",
            "  lang=\"en\"\n",
            "  \n",
            "  data-color-mode=\"auto\" data-light-theme=\"light\" data-dark-t\n"
          ]
        }
      ]
    },
    {
      "cell_type": "code",
      "source": [
        "soup = BeautifulSoup(response.text, 'html.parser')"
      ],
      "metadata": {
        "id": "SVhncP8nO81e"
      },
      "execution_count": 41,
      "outputs": []
    },
    {
      "cell_type": "code",
      "source": [
        "file_name = 'webpage.html'\n",
        "with open(file_name, 'w') as file:\n",
        "    file.write(str(soup))\n",
        "    file.close()\n",
        "    print('File Created')"
      ],
      "metadata": {
        "colab": {
          "base_uri": "https://localhost:8080/"
        },
        "id": "eY-OCMhpN7t0",
        "outputId": "a5b57cda-8e09-4d7f-e3f4-613e6e245266"
      },
      "execution_count": 42,
      "outputs": [
        {
          "output_type": "stream",
          "name": "stdout",
          "text": [
            "File Created\n"
          ]
        }
      ]
    },
    {
      "cell_type": "code",
      "source": [
        "soup.title"
      ],
      "metadata": {
        "colab": {
          "base_uri": "https://localhost:8080/"
        },
        "id": "C7F3vGt8PPu0",
        "outputId": "6adc8f0a-2b0a-4824-d725-f0f6ca1db03f"
      },
      "execution_count": 43,
      "outputs": [
        {
          "output_type": "execute_result",
          "data": {
            "text/plain": [
              "<title>Topics on GitHub · GitHub</title>"
            ]
          },
          "metadata": {},
          "execution_count": 43
        }
      ]
    },
    {
      "cell_type": "code",
      "source": [
        "names = soup.find_all(class_='f3 lh-condensed mb-0 mt-1 Link--primary')\n",
        "print(names[0].text)\n",
        "print(names[1].text)\n",
        "print(names[2].text)"
      ],
      "metadata": {
        "colab": {
          "base_uri": "https://localhost:8080/"
        },
        "id": "yh-KZJ10PUMq",
        "outputId": "b7a90487-236b-444b-8779-083e2acb1ef1"
      },
      "execution_count": 44,
      "outputs": [
        {
          "output_type": "stream",
          "name": "stdout",
          "text": [
            "3D\n",
            "Ajax\n",
            "Algorithm\n"
          ]
        }
      ]
    },
    {
      "cell_type": "code",
      "source": [
        "list1 = []\n",
        "names2 = soup.find_all('div', class_='d-lg-flex container-lg p-responsive')\n",
        "for name in names2:\n",
        "    name_tags = name.find_all('p', class_='f3 lh-condensed mb-0 mt-1 Link--primary')\n",
        "    description_tags = name.find_all('p', class_='f5 color-fg-muted mb-0 mt-1')\n",
        "    print(f'Names found: {len(name_tags)}')\n",
        "    print(f'Descriptions found: {len(description_tags)}')\n",
        "    for i, name_tag in enumerate(name_tags):\n",
        "        nam = name_tag.text.strip()\n",
        "        dscr = description_tags[i].text.strip()\n",
        "        print(f\"Name: {nam}\\nDescription: {dscr}\\n\")\n",
        "        dict1 = {'name': nam, 'description': dscr}\n",
        "        list1.append(dict1)"
      ],
      "metadata": {
        "colab": {
          "base_uri": "https://localhost:8080/"
        },
        "id": "z_H6HvFcSXun",
        "outputId": "174a23c5-09c3-4fb0-bba1-ee6df973f1be"
      },
      "execution_count": 62,
      "outputs": [
        {
          "output_type": "stream",
          "name": "stdout",
          "text": [
            "Names found: 30\n",
            "Descriptions found: 30\n",
            "Name: 3D\n",
            "Description: 3D refers to the use of three-dimensional graphics, modeling, and animation in various industries.\n",
            "\n",
            "Name: Ajax\n",
            "Description: Ajax is a technique for creating interactive web applications.\n",
            "\n",
            "Name: Algorithm\n",
            "Description: Algorithms are self-contained sequences that carry out a variety of tasks.\n",
            "\n",
            "Name: Amp\n",
            "Description: Amp is a non-blocking concurrency library for PHP.\n",
            "\n",
            "Name: Android\n",
            "Description: Android is an operating system built by Google designed for mobile devices.\n",
            "\n",
            "Name: Angular\n",
            "Description: Angular is an open source web application platform.\n",
            "\n",
            "Name: Ansible\n",
            "Description: Ansible is a simple and powerful automation engine.\n",
            "\n",
            "Name: API\n",
            "Description: An API (Application Programming Interface) is a collection of protocols and subroutines for building software.\n",
            "\n",
            "Name: Arduino\n",
            "Description: Arduino is an open source platform for building electronic devices.\n",
            "\n",
            "Name: ASP.NET\n",
            "Description: ASP.NET is a web framework for building modern web apps and services.\n",
            "\n",
            "Name: Awesome Lists\n",
            "Description: An awesome list is a list of awesome things curated by the community.\n",
            "\n",
            "Name: Amazon Web Services\n",
            "Description: Amazon Web Services provides on-demand cloud computing platforms on a subscription basis.\n",
            "\n",
            "Name: Azure\n",
            "Description: Azure is a cloud computing service created by Microsoft.\n",
            "\n",
            "Name: Babel\n",
            "Description: Babel is a compiler for writing next generation JavaScript, today.\n",
            "\n",
            "Name: Bash\n",
            "Description: Bash is a shell and command language interpreter for the GNU operating system.\n",
            "\n",
            "Name: Bitcoin\n",
            "Description: Bitcoin is a cryptocurrency developed by Satoshi Nakamoto.\n",
            "\n",
            "Name: Bootstrap\n",
            "Description: Bootstrap is an HTML, CSS, and JavaScript framework.\n",
            "\n",
            "Name: Bot\n",
            "Description: A bot is an application that runs automated tasks over the Internet.\n",
            "\n",
            "Name: C\n",
            "Description: C is a general purpose programming language that first appeared in 1972.\n",
            "\n",
            "Name: Chrome\n",
            "Description: Chrome is a web browser from the tech company Google.\n",
            "\n",
            "Name: Chrome extension\n",
            "Description: Chrome extensions enable users to customize the Chrome browsing experience.\n",
            "\n",
            "Name: Command-line interface\n",
            "Description: A CLI, or command-line interface, is a console that helps users issue commands to a program.\n",
            "\n",
            "Name: Clojure\n",
            "Description: Clojure is a dynamic, general-purpose programming language.\n",
            "\n",
            "Name: Code quality\n",
            "Description: Automate your code review with style, quality, security, and test‑coverage checks when you need them.\n",
            "\n",
            "Name: Code review\n",
            "Description: Ensure your code meets quality standards and ship with confidence.\n",
            "\n",
            "Name: Compiler\n",
            "Description: Compilers are software that translate higher-level programming languages to lower-level languages (e.g. machine code).\n",
            "\n",
            "Name: Continuous integration\n",
            "Description: Automatically build and test your code as you push it upstream, preventing bugs from being deployed to production.\n",
            "\n",
            "Name: C++\n",
            "Description: C++ is a general purpose and object-oriented programming language.\n",
            "\n",
            "Name: Cryptocurrency\n",
            "Description: A cryptocurrency is a digital currency that uses cryptography.\n",
            "\n",
            "Name: Crystal\n",
            "Description: Crystal is a self-hosted, general purpose programming language.\n",
            "\n"
          ]
        }
      ]
    },
    {
      "cell_type": "code",
      "source": [
        "for i in list1:\n",
        "    print(i)"
      ],
      "metadata": {
        "colab": {
          "base_uri": "https://localhost:8080/"
        },
        "id": "gfYsjux-VXpF",
        "outputId": "c9a591e2-cc15-4c89-d7ca-e29e0accb4ae"
      },
      "execution_count": 64,
      "outputs": [
        {
          "output_type": "stream",
          "name": "stdout",
          "text": [
            "{'name': '3D', 'description': '3D refers to the use of three-dimensional graphics, modeling, and animation in various industries.'}\n",
            "{'name': 'Ajax', 'description': 'Ajax is a technique for creating interactive web applications.'}\n",
            "{'name': 'Algorithm', 'description': 'Algorithms are self-contained sequences that carry out a variety of tasks.'}\n",
            "{'name': 'Amp', 'description': 'Amp is a non-blocking concurrency library for PHP.'}\n",
            "{'name': 'Android', 'description': 'Android is an operating system built by Google designed for mobile devices.'}\n",
            "{'name': 'Angular', 'description': 'Angular is an open source web application platform.'}\n",
            "{'name': 'Ansible', 'description': 'Ansible is a simple and powerful automation engine.'}\n",
            "{'name': 'API', 'description': 'An API (Application Programming Interface) is a collection of protocols and subroutines for building software.'}\n",
            "{'name': 'Arduino', 'description': 'Arduino is an open source platform for building electronic devices.'}\n",
            "{'name': 'ASP.NET', 'description': 'ASP.NET is a web framework for building modern web apps and services.'}\n",
            "{'name': 'Awesome Lists', 'description': 'An awesome list is a list of awesome things curated by the community.'}\n",
            "{'name': 'Amazon Web Services', 'description': 'Amazon Web Services provides on-demand cloud computing platforms on a subscription basis.'}\n",
            "{'name': 'Azure', 'description': 'Azure is a cloud computing service created by Microsoft.'}\n",
            "{'name': 'Babel', 'description': 'Babel is a compiler for writing next generation JavaScript, today.'}\n",
            "{'name': 'Bash', 'description': 'Bash is a shell and command language interpreter for the GNU operating system.'}\n",
            "{'name': 'Bitcoin', 'description': 'Bitcoin is a cryptocurrency developed by Satoshi Nakamoto.'}\n",
            "{'name': 'Bootstrap', 'description': 'Bootstrap is an HTML, CSS, and JavaScript framework.'}\n",
            "{'name': 'Bot', 'description': 'A bot is an application that runs automated tasks over the Internet.'}\n",
            "{'name': 'C', 'description': 'C is a general purpose programming language that first appeared in 1972.'}\n",
            "{'name': 'Chrome', 'description': 'Chrome is a web browser from the tech company Google.'}\n",
            "{'name': 'Chrome extension', 'description': 'Chrome extensions enable users to customize the Chrome browsing experience.'}\n",
            "{'name': 'Command-line interface', 'description': 'A CLI, or command-line interface, is a console that helps users issue commands to a program.'}\n",
            "{'name': 'Clojure', 'description': 'Clojure is a dynamic, general-purpose programming language.'}\n",
            "{'name': 'Code quality', 'description': 'Automate your code review with style, quality, security, and test‑coverage checks when you need them.'}\n",
            "{'name': 'Code review', 'description': 'Ensure your code meets quality standards and ship with confidence.'}\n",
            "{'name': 'Compiler', 'description': 'Compilers are software that translate higher-level programming languages to lower-level languages (e.g. machine code).'}\n",
            "{'name': 'Continuous integration', 'description': 'Automatically build and test your code as you push it upstream, preventing bugs from being deployed to production.'}\n",
            "{'name': 'C++', 'description': 'C++ is a general purpose and object-oriented programming language.'}\n",
            "{'name': 'Cryptocurrency', 'description': 'A cryptocurrency is a digital currency that uses cryptography.'}\n",
            "{'name': 'Crystal', 'description': 'Crystal is a self-hosted, general purpose programming language.'}\n"
          ]
        }
      ]
    },
    {
      "cell_type": "code",
      "source": [
        "import pandas as pd\n",
        "df = pd.DataFrame(list1)\n",
        "df.head(10)"
      ],
      "metadata": {
        "colab": {
          "base_uri": "https://localhost:8080/",
          "height": 363
        },
        "id": "HSmSOpC1WbSE",
        "outputId": "3cc4c477-33a3-437d-b170-a538f1490776"
      },
      "execution_count": 66,
      "outputs": [
        {
          "output_type": "execute_result",
          "data": {
            "text/plain": [
              "        name                                        description\n",
              "0         3D  3D refers to the use of three-dimensional grap...\n",
              "1       Ajax  Ajax is a technique for creating interactive w...\n",
              "2  Algorithm  Algorithms are self-contained sequences that c...\n",
              "3        Amp  Amp is a non-blocking concurrency library for ...\n",
              "4    Android  Android is an operating system built by Google...\n",
              "5    Angular  Angular is an open source web application plat...\n",
              "6    Ansible  Ansible is a simple and powerful automation en...\n",
              "7        API  An API (Application Programming Interface) is ...\n",
              "8    Arduino  Arduino is an open source platform for buildin...\n",
              "9    ASP.NET  ASP.NET is a web framework for building modern..."
            ],
            "text/html": [
              "\n",
              "  <div id=\"df-f2609a7a-8a28-4a71-879d-a948a617226b\" class=\"colab-df-container\">\n",
              "    <div>\n",
              "<style scoped>\n",
              "    .dataframe tbody tr th:only-of-type {\n",
              "        vertical-align: middle;\n",
              "    }\n",
              "\n",
              "    .dataframe tbody tr th {\n",
              "        vertical-align: top;\n",
              "    }\n",
              "\n",
              "    .dataframe thead th {\n",
              "        text-align: right;\n",
              "    }\n",
              "</style>\n",
              "<table border=\"1\" class=\"dataframe\">\n",
              "  <thead>\n",
              "    <tr style=\"text-align: right;\">\n",
              "      <th></th>\n",
              "      <th>name</th>\n",
              "      <th>description</th>\n",
              "    </tr>\n",
              "  </thead>\n",
              "  <tbody>\n",
              "    <tr>\n",
              "      <th>0</th>\n",
              "      <td>3D</td>\n",
              "      <td>3D refers to the use of three-dimensional grap...</td>\n",
              "    </tr>\n",
              "    <tr>\n",
              "      <th>1</th>\n",
              "      <td>Ajax</td>\n",
              "      <td>Ajax is a technique for creating interactive w...</td>\n",
              "    </tr>\n",
              "    <tr>\n",
              "      <th>2</th>\n",
              "      <td>Algorithm</td>\n",
              "      <td>Algorithms are self-contained sequences that c...</td>\n",
              "    </tr>\n",
              "    <tr>\n",
              "      <th>3</th>\n",
              "      <td>Amp</td>\n",
              "      <td>Amp is a non-blocking concurrency library for ...</td>\n",
              "    </tr>\n",
              "    <tr>\n",
              "      <th>4</th>\n",
              "      <td>Android</td>\n",
              "      <td>Android is an operating system built by Google...</td>\n",
              "    </tr>\n",
              "    <tr>\n",
              "      <th>5</th>\n",
              "      <td>Angular</td>\n",
              "      <td>Angular is an open source web application plat...</td>\n",
              "    </tr>\n",
              "    <tr>\n",
              "      <th>6</th>\n",
              "      <td>Ansible</td>\n",
              "      <td>Ansible is a simple and powerful automation en...</td>\n",
              "    </tr>\n",
              "    <tr>\n",
              "      <th>7</th>\n",
              "      <td>API</td>\n",
              "      <td>An API (Application Programming Interface) is ...</td>\n",
              "    </tr>\n",
              "    <tr>\n",
              "      <th>8</th>\n",
              "      <td>Arduino</td>\n",
              "      <td>Arduino is an open source platform for buildin...</td>\n",
              "    </tr>\n",
              "    <tr>\n",
              "      <th>9</th>\n",
              "      <td>ASP.NET</td>\n",
              "      <td>ASP.NET is a web framework for building modern...</td>\n",
              "    </tr>\n",
              "  </tbody>\n",
              "</table>\n",
              "</div>\n",
              "    <div class=\"colab-df-buttons\">\n",
              "\n",
              "  <div class=\"colab-df-container\">\n",
              "    <button class=\"colab-df-convert\" onclick=\"convertToInteractive('df-f2609a7a-8a28-4a71-879d-a948a617226b')\"\n",
              "            title=\"Convert this dataframe to an interactive table.\"\n",
              "            style=\"display:none;\">\n",
              "\n",
              "  <svg xmlns=\"http://www.w3.org/2000/svg\" height=\"24px\" viewBox=\"0 -960 960 960\">\n",
              "    <path d=\"M120-120v-720h720v720H120Zm60-500h600v-160H180v160Zm220 220h160v-160H400v160Zm0 220h160v-160H400v160ZM180-400h160v-160H180v160Zm440 0h160v-160H620v160ZM180-180h160v-160H180v160Zm440 0h160v-160H620v160Z\"/>\n",
              "  </svg>\n",
              "    </button>\n",
              "\n",
              "  <style>\n",
              "    .colab-df-container {\n",
              "      display:flex;\n",
              "      gap: 12px;\n",
              "    }\n",
              "\n",
              "    .colab-df-convert {\n",
              "      background-color: #E8F0FE;\n",
              "      border: none;\n",
              "      border-radius: 50%;\n",
              "      cursor: pointer;\n",
              "      display: none;\n",
              "      fill: #1967D2;\n",
              "      height: 32px;\n",
              "      padding: 0 0 0 0;\n",
              "      width: 32px;\n",
              "    }\n",
              "\n",
              "    .colab-df-convert:hover {\n",
              "      background-color: #E2EBFA;\n",
              "      box-shadow: 0px 1px 2px rgba(60, 64, 67, 0.3), 0px 1px 3px 1px rgba(60, 64, 67, 0.15);\n",
              "      fill: #174EA6;\n",
              "    }\n",
              "\n",
              "    .colab-df-buttons div {\n",
              "      margin-bottom: 4px;\n",
              "    }\n",
              "\n",
              "    [theme=dark] .colab-df-convert {\n",
              "      background-color: #3B4455;\n",
              "      fill: #D2E3FC;\n",
              "    }\n",
              "\n",
              "    [theme=dark] .colab-df-convert:hover {\n",
              "      background-color: #434B5C;\n",
              "      box-shadow: 0px 1px 3px 1px rgba(0, 0, 0, 0.15);\n",
              "      filter: drop-shadow(0px 1px 2px rgba(0, 0, 0, 0.3));\n",
              "      fill: #FFFFFF;\n",
              "    }\n",
              "  </style>\n",
              "\n",
              "    <script>\n",
              "      const buttonEl =\n",
              "        document.querySelector('#df-f2609a7a-8a28-4a71-879d-a948a617226b button.colab-df-convert');\n",
              "      buttonEl.style.display =\n",
              "        google.colab.kernel.accessAllowed ? 'block' : 'none';\n",
              "\n",
              "      async function convertToInteractive(key) {\n",
              "        const element = document.querySelector('#df-f2609a7a-8a28-4a71-879d-a948a617226b');\n",
              "        const dataTable =\n",
              "          await google.colab.kernel.invokeFunction('convertToInteractive',\n",
              "                                                    [key], {});\n",
              "        if (!dataTable) return;\n",
              "\n",
              "        const docLinkHtml = 'Like what you see? Visit the ' +\n",
              "          '<a target=\"_blank\" href=https://colab.research.google.com/notebooks/data_table.ipynb>data table notebook</a>'\n",
              "          + ' to learn more about interactive tables.';\n",
              "        element.innerHTML = '';\n",
              "        dataTable['output_type'] = 'display_data';\n",
              "        await google.colab.output.renderOutput(dataTable, element);\n",
              "        const docLink = document.createElement('div');\n",
              "        docLink.innerHTML = docLinkHtml;\n",
              "        element.appendChild(docLink);\n",
              "      }\n",
              "    </script>\n",
              "  </div>\n",
              "\n",
              "\n",
              "<div id=\"df-76f41907-46c1-413e-92cb-08f27234867b\">\n",
              "  <button class=\"colab-df-quickchart\" onclick=\"quickchart('df-76f41907-46c1-413e-92cb-08f27234867b')\"\n",
              "            title=\"Suggest charts\"\n",
              "            style=\"display:none;\">\n",
              "\n",
              "<svg xmlns=\"http://www.w3.org/2000/svg\" height=\"24px\"viewBox=\"0 0 24 24\"\n",
              "     width=\"24px\">\n",
              "    <g>\n",
              "        <path d=\"M19 3H5c-1.1 0-2 .9-2 2v14c0 1.1.9 2 2 2h14c1.1 0 2-.9 2-2V5c0-1.1-.9-2-2-2zM9 17H7v-7h2v7zm4 0h-2V7h2v10zm4 0h-2v-4h2v4z\"/>\n",
              "    </g>\n",
              "</svg>\n",
              "  </button>\n",
              "\n",
              "<style>\n",
              "  .colab-df-quickchart {\n",
              "      --bg-color: #E8F0FE;\n",
              "      --fill-color: #1967D2;\n",
              "      --hover-bg-color: #E2EBFA;\n",
              "      --hover-fill-color: #174EA6;\n",
              "      --disabled-fill-color: #AAA;\n",
              "      --disabled-bg-color: #DDD;\n",
              "  }\n",
              "\n",
              "  [theme=dark] .colab-df-quickchart {\n",
              "      --bg-color: #3B4455;\n",
              "      --fill-color: #D2E3FC;\n",
              "      --hover-bg-color: #434B5C;\n",
              "      --hover-fill-color: #FFFFFF;\n",
              "      --disabled-bg-color: #3B4455;\n",
              "      --disabled-fill-color: #666;\n",
              "  }\n",
              "\n",
              "  .colab-df-quickchart {\n",
              "    background-color: var(--bg-color);\n",
              "    border: none;\n",
              "    border-radius: 50%;\n",
              "    cursor: pointer;\n",
              "    display: none;\n",
              "    fill: var(--fill-color);\n",
              "    height: 32px;\n",
              "    padding: 0;\n",
              "    width: 32px;\n",
              "  }\n",
              "\n",
              "  .colab-df-quickchart:hover {\n",
              "    background-color: var(--hover-bg-color);\n",
              "    box-shadow: 0 1px 2px rgba(60, 64, 67, 0.3), 0 1px 3px 1px rgba(60, 64, 67, 0.15);\n",
              "    fill: var(--button-hover-fill-color);\n",
              "  }\n",
              "\n",
              "  .colab-df-quickchart-complete:disabled,\n",
              "  .colab-df-quickchart-complete:disabled:hover {\n",
              "    background-color: var(--disabled-bg-color);\n",
              "    fill: var(--disabled-fill-color);\n",
              "    box-shadow: none;\n",
              "  }\n",
              "\n",
              "  .colab-df-spinner {\n",
              "    border: 2px solid var(--fill-color);\n",
              "    border-color: transparent;\n",
              "    border-bottom-color: var(--fill-color);\n",
              "    animation:\n",
              "      spin 1s steps(1) infinite;\n",
              "  }\n",
              "\n",
              "  @keyframes spin {\n",
              "    0% {\n",
              "      border-color: transparent;\n",
              "      border-bottom-color: var(--fill-color);\n",
              "      border-left-color: var(--fill-color);\n",
              "    }\n",
              "    20% {\n",
              "      border-color: transparent;\n",
              "      border-left-color: var(--fill-color);\n",
              "      border-top-color: var(--fill-color);\n",
              "    }\n",
              "    30% {\n",
              "      border-color: transparent;\n",
              "      border-left-color: var(--fill-color);\n",
              "      border-top-color: var(--fill-color);\n",
              "      border-right-color: var(--fill-color);\n",
              "    }\n",
              "    40% {\n",
              "      border-color: transparent;\n",
              "      border-right-color: var(--fill-color);\n",
              "      border-top-color: var(--fill-color);\n",
              "    }\n",
              "    60% {\n",
              "      border-color: transparent;\n",
              "      border-right-color: var(--fill-color);\n",
              "    }\n",
              "    80% {\n",
              "      border-color: transparent;\n",
              "      border-right-color: var(--fill-color);\n",
              "      border-bottom-color: var(--fill-color);\n",
              "    }\n",
              "    90% {\n",
              "      border-color: transparent;\n",
              "      border-bottom-color: var(--fill-color);\n",
              "    }\n",
              "  }\n",
              "</style>\n",
              "\n",
              "  <script>\n",
              "    async function quickchart(key) {\n",
              "      const quickchartButtonEl =\n",
              "        document.querySelector('#' + key + ' button');\n",
              "      quickchartButtonEl.disabled = true;  // To prevent multiple clicks.\n",
              "      quickchartButtonEl.classList.add('colab-df-spinner');\n",
              "      try {\n",
              "        const charts = await google.colab.kernel.invokeFunction(\n",
              "            'suggestCharts', [key], {});\n",
              "      } catch (error) {\n",
              "        console.error('Error during call to suggestCharts:', error);\n",
              "      }\n",
              "      quickchartButtonEl.classList.remove('colab-df-spinner');\n",
              "      quickchartButtonEl.classList.add('colab-df-quickchart-complete');\n",
              "    }\n",
              "    (() => {\n",
              "      let quickchartButtonEl =\n",
              "        document.querySelector('#df-76f41907-46c1-413e-92cb-08f27234867b button');\n",
              "      quickchartButtonEl.style.display =\n",
              "        google.colab.kernel.accessAllowed ? 'block' : 'none';\n",
              "    })();\n",
              "  </script>\n",
              "</div>\n",
              "\n",
              "    </div>\n",
              "  </div>\n"
            ],
            "application/vnd.google.colaboratory.intrinsic+json": {
              "type": "dataframe",
              "variable_name": "df",
              "summary": "{\n  \"name\": \"df\",\n  \"rows\": 30,\n  \"fields\": [\n    {\n      \"column\": \"name\",\n      \"properties\": {\n        \"dtype\": \"string\",\n        \"num_unique_values\": 30,\n        \"samples\": [\n          \"C++\",\n          \"Bitcoin\",\n          \"Code quality\"\n        ],\n        \"semantic_type\": \"\",\n        \"description\": \"\"\n      }\n    },\n    {\n      \"column\": \"description\",\n      \"properties\": {\n        \"dtype\": \"string\",\n        \"num_unique_values\": 30,\n        \"samples\": [\n          \"C++ is a general purpose and object-oriented programming language.\",\n          \"Bitcoin is a cryptocurrency developed by Satoshi Nakamoto.\",\n          \"Automate your code review with style, quality, security, and test\\u2011coverage checks when you need them.\"\n        ],\n        \"semantic_type\": \"\",\n        \"description\": \"\"\n      }\n    }\n  ]\n}"
            }
          },
          "metadata": {},
          "execution_count": 66
        }
      ]
    }
  ]
}