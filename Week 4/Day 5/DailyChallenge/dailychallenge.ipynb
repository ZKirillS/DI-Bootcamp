{
  "nbformat": 4,
  "nbformat_minor": 0,
  "metadata": {
    "colab": {
      "provenance": []
    },
    "kernelspec": {
      "name": "python3",
      "display_name": "Python 3"
    },
    "language_info": {
      "name": "python"
    }
  },
  "cells": [
    {
      "cell_type": "code",
      "execution_count": 1,
      "metadata": {
        "colab": {
          "base_uri": "https://localhost:8080/"
        },
        "id": "1PKuLPEp4qLk",
        "outputId": "27307ce7-20ec-4160-dc24-59514f7bd9aa"
      },
      "outputs": [
        {
          "output_type": "stream",
          "name": "stdout",
          "text": [
            "Archive:  DataScienceJobSalaries.zip\n",
            "  inflating: ds_salaries.csv         \n"
          ]
        }
      ],
      "source": [
        "!unzip DataScienceJobSalaries.zip"
      ]
    },
    {
      "cell_type": "code",
      "source": [
        "import pandas as pd\n",
        "salary = pd.read_csv('ds_salaries.csv')\n",
        "salary.info()"
      ],
      "metadata": {
        "colab": {
          "base_uri": "https://localhost:8080/"
        },
        "id": "N9AMyVPr43VJ",
        "outputId": "58297f6b-9d94-4f61-8b68-4eeb3cd7962f"
      },
      "execution_count": 6,
      "outputs": [
        {
          "output_type": "stream",
          "name": "stdout",
          "text": [
            "<class 'pandas.core.frame.DataFrame'>\n",
            "RangeIndex: 607 entries, 0 to 606\n",
            "Data columns (total 12 columns):\n",
            " #   Column              Non-Null Count  Dtype \n",
            "---  ------              --------------  ----- \n",
            " 0   Unnamed: 0          607 non-null    int64 \n",
            " 1   work_year           607 non-null    int64 \n",
            " 2   experience_level    607 non-null    object\n",
            " 3   employment_type     607 non-null    object\n",
            " 4   job_title           607 non-null    object\n",
            " 5   salary              607 non-null    int64 \n",
            " 6   salary_currency     607 non-null    object\n",
            " 7   salary_in_usd       607 non-null    int64 \n",
            " 8   employee_residence  607 non-null    object\n",
            " 9   remote_ratio        607 non-null    int64 \n",
            " 10  company_location    607 non-null    object\n",
            " 11  company_size        607 non-null    object\n",
            "dtypes: int64(5), object(7)\n",
            "memory usage: 57.0+ KB\n"
          ]
        }
      ]
    },
    {
      "cell_type": "code",
      "source": [
        "salary.head()"
      ],
      "metadata": {
        "colab": {
          "base_uri": "https://localhost:8080/",
          "height": 382
        },
        "id": "WOy7MPY85FzN",
        "outputId": "5f3a88d6-7a18-4f10-90ff-8bb06b85b29a"
      },
      "execution_count": 10,
      "outputs": [
        {
          "output_type": "execute_result",
          "data": {
            "text/plain": [
              "   Unnamed: 0  work_year experience_level employment_type  \\\n",
              "0           0       2020               MI              FT   \n",
              "1           1       2020               SE              FT   \n",
              "2           2       2020               SE              FT   \n",
              "3           3       2020               MI              FT   \n",
              "4           4       2020               SE              FT   \n",
              "\n",
              "                    job_title  salary salary_currency  salary_in_usd  \\\n",
              "0              Data Scientist   70000             EUR          79833   \n",
              "1  Machine Learning Scientist  260000             USD         260000   \n",
              "2           Big Data Engineer   85000             GBP         109024   \n",
              "3        Product Data Analyst   20000             USD          20000   \n",
              "4   Machine Learning Engineer  150000             USD         150000   \n",
              "\n",
              "  employee_residence  remote_ratio company_location company_size  \n",
              "0                 DE             0               DE            L  \n",
              "1                 JP             0               JP            S  \n",
              "2                 GB            50               GB            M  \n",
              "3                 HN             0               HN            S  \n",
              "4                 US            50               US            L  "
            ],
            "text/html": [
              "\n",
              "  <div id=\"df-3ef99fe6-6a71-4ee1-a673-a397c075da3d\" class=\"colab-df-container\">\n",
              "    <div>\n",
              "<style scoped>\n",
              "    .dataframe tbody tr th:only-of-type {\n",
              "        vertical-align: middle;\n",
              "    }\n",
              "\n",
              "    .dataframe tbody tr th {\n",
              "        vertical-align: top;\n",
              "    }\n",
              "\n",
              "    .dataframe thead th {\n",
              "        text-align: right;\n",
              "    }\n",
              "</style>\n",
              "<table border=\"1\" class=\"dataframe\">\n",
              "  <thead>\n",
              "    <tr style=\"text-align: right;\">\n",
              "      <th></th>\n",
              "      <th>Unnamed: 0</th>\n",
              "      <th>work_year</th>\n",
              "      <th>experience_level</th>\n",
              "      <th>employment_type</th>\n",
              "      <th>job_title</th>\n",
              "      <th>salary</th>\n",
              "      <th>salary_currency</th>\n",
              "      <th>salary_in_usd</th>\n",
              "      <th>employee_residence</th>\n",
              "      <th>remote_ratio</th>\n",
              "      <th>company_location</th>\n",
              "      <th>company_size</th>\n",
              "    </tr>\n",
              "  </thead>\n",
              "  <tbody>\n",
              "    <tr>\n",
              "      <th>0</th>\n",
              "      <td>0</td>\n",
              "      <td>2020</td>\n",
              "      <td>MI</td>\n",
              "      <td>FT</td>\n",
              "      <td>Data Scientist</td>\n",
              "      <td>70000</td>\n",
              "      <td>EUR</td>\n",
              "      <td>79833</td>\n",
              "      <td>DE</td>\n",
              "      <td>0</td>\n",
              "      <td>DE</td>\n",
              "      <td>L</td>\n",
              "    </tr>\n",
              "    <tr>\n",
              "      <th>1</th>\n",
              "      <td>1</td>\n",
              "      <td>2020</td>\n",
              "      <td>SE</td>\n",
              "      <td>FT</td>\n",
              "      <td>Machine Learning Scientist</td>\n",
              "      <td>260000</td>\n",
              "      <td>USD</td>\n",
              "      <td>260000</td>\n",
              "      <td>JP</td>\n",
              "      <td>0</td>\n",
              "      <td>JP</td>\n",
              "      <td>S</td>\n",
              "    </tr>\n",
              "    <tr>\n",
              "      <th>2</th>\n",
              "      <td>2</td>\n",
              "      <td>2020</td>\n",
              "      <td>SE</td>\n",
              "      <td>FT</td>\n",
              "      <td>Big Data Engineer</td>\n",
              "      <td>85000</td>\n",
              "      <td>GBP</td>\n",
              "      <td>109024</td>\n",
              "      <td>GB</td>\n",
              "      <td>50</td>\n",
              "      <td>GB</td>\n",
              "      <td>M</td>\n",
              "    </tr>\n",
              "    <tr>\n",
              "      <th>3</th>\n",
              "      <td>3</td>\n",
              "      <td>2020</td>\n",
              "      <td>MI</td>\n",
              "      <td>FT</td>\n",
              "      <td>Product Data Analyst</td>\n",
              "      <td>20000</td>\n",
              "      <td>USD</td>\n",
              "      <td>20000</td>\n",
              "      <td>HN</td>\n",
              "      <td>0</td>\n",
              "      <td>HN</td>\n",
              "      <td>S</td>\n",
              "    </tr>\n",
              "    <tr>\n",
              "      <th>4</th>\n",
              "      <td>4</td>\n",
              "      <td>2020</td>\n",
              "      <td>SE</td>\n",
              "      <td>FT</td>\n",
              "      <td>Machine Learning Engineer</td>\n",
              "      <td>150000</td>\n",
              "      <td>USD</td>\n",
              "      <td>150000</td>\n",
              "      <td>US</td>\n",
              "      <td>50</td>\n",
              "      <td>US</td>\n",
              "      <td>L</td>\n",
              "    </tr>\n",
              "  </tbody>\n",
              "</table>\n",
              "</div>\n",
              "    <div class=\"colab-df-buttons\">\n",
              "\n",
              "  <div class=\"colab-df-container\">\n",
              "    <button class=\"colab-df-convert\" onclick=\"convertToInteractive('df-3ef99fe6-6a71-4ee1-a673-a397c075da3d')\"\n",
              "            title=\"Convert this dataframe to an interactive table.\"\n",
              "            style=\"display:none;\">\n",
              "\n",
              "  <svg xmlns=\"http://www.w3.org/2000/svg\" height=\"24px\" viewBox=\"0 -960 960 960\">\n",
              "    <path d=\"M120-120v-720h720v720H120Zm60-500h600v-160H180v160Zm220 220h160v-160H400v160Zm0 220h160v-160H400v160ZM180-400h160v-160H180v160Zm440 0h160v-160H620v160ZM180-180h160v-160H180v160Zm440 0h160v-160H620v160Z\"/>\n",
              "  </svg>\n",
              "    </button>\n",
              "\n",
              "  <style>\n",
              "    .colab-df-container {\n",
              "      display:flex;\n",
              "      gap: 12px;\n",
              "    }\n",
              "\n",
              "    .colab-df-convert {\n",
              "      background-color: #E8F0FE;\n",
              "      border: none;\n",
              "      border-radius: 50%;\n",
              "      cursor: pointer;\n",
              "      display: none;\n",
              "      fill: #1967D2;\n",
              "      height: 32px;\n",
              "      padding: 0 0 0 0;\n",
              "      width: 32px;\n",
              "    }\n",
              "\n",
              "    .colab-df-convert:hover {\n",
              "      background-color: #E2EBFA;\n",
              "      box-shadow: 0px 1px 2px rgba(60, 64, 67, 0.3), 0px 1px 3px 1px rgba(60, 64, 67, 0.15);\n",
              "      fill: #174EA6;\n",
              "    }\n",
              "\n",
              "    .colab-df-buttons div {\n",
              "      margin-bottom: 4px;\n",
              "    }\n",
              "\n",
              "    [theme=dark] .colab-df-convert {\n",
              "      background-color: #3B4455;\n",
              "      fill: #D2E3FC;\n",
              "    }\n",
              "\n",
              "    [theme=dark] .colab-df-convert:hover {\n",
              "      background-color: #434B5C;\n",
              "      box-shadow: 0px 1px 3px 1px rgba(0, 0, 0, 0.15);\n",
              "      filter: drop-shadow(0px 1px 2px rgba(0, 0, 0, 0.3));\n",
              "      fill: #FFFFFF;\n",
              "    }\n",
              "  </style>\n",
              "\n",
              "    <script>\n",
              "      const buttonEl =\n",
              "        document.querySelector('#df-3ef99fe6-6a71-4ee1-a673-a397c075da3d button.colab-df-convert');\n",
              "      buttonEl.style.display =\n",
              "        google.colab.kernel.accessAllowed ? 'block' : 'none';\n",
              "\n",
              "      async function convertToInteractive(key) {\n",
              "        const element = document.querySelector('#df-3ef99fe6-6a71-4ee1-a673-a397c075da3d');\n",
              "        const dataTable =\n",
              "          await google.colab.kernel.invokeFunction('convertToInteractive',\n",
              "                                                    [key], {});\n",
              "        if (!dataTable) return;\n",
              "\n",
              "        const docLinkHtml = 'Like what you see? Visit the ' +\n",
              "          '<a target=\"_blank\" href=https://colab.research.google.com/notebooks/data_table.ipynb>data table notebook</a>'\n",
              "          + ' to learn more about interactive tables.';\n",
              "        element.innerHTML = '';\n",
              "        dataTable['output_type'] = 'display_data';\n",
              "        await google.colab.output.renderOutput(dataTable, element);\n",
              "        const docLink = document.createElement('div');\n",
              "        docLink.innerHTML = docLinkHtml;\n",
              "        element.appendChild(docLink);\n",
              "      }\n",
              "    </script>\n",
              "  </div>\n",
              "\n",
              "\n",
              "<div id=\"df-53444268-810f-48b5-90f6-7a814a790030\">\n",
              "  <button class=\"colab-df-quickchart\" onclick=\"quickchart('df-53444268-810f-48b5-90f6-7a814a790030')\"\n",
              "            title=\"Suggest charts\"\n",
              "            style=\"display:none;\">\n",
              "\n",
              "<svg xmlns=\"http://www.w3.org/2000/svg\" height=\"24px\"viewBox=\"0 0 24 24\"\n",
              "     width=\"24px\">\n",
              "    <g>\n",
              "        <path d=\"M19 3H5c-1.1 0-2 .9-2 2v14c0 1.1.9 2 2 2h14c1.1 0 2-.9 2-2V5c0-1.1-.9-2-2-2zM9 17H7v-7h2v7zm4 0h-2V7h2v10zm4 0h-2v-4h2v4z\"/>\n",
              "    </g>\n",
              "</svg>\n",
              "  </button>\n",
              "\n",
              "<style>\n",
              "  .colab-df-quickchart {\n",
              "      --bg-color: #E8F0FE;\n",
              "      --fill-color: #1967D2;\n",
              "      --hover-bg-color: #E2EBFA;\n",
              "      --hover-fill-color: #174EA6;\n",
              "      --disabled-fill-color: #AAA;\n",
              "      --disabled-bg-color: #DDD;\n",
              "  }\n",
              "\n",
              "  [theme=dark] .colab-df-quickchart {\n",
              "      --bg-color: #3B4455;\n",
              "      --fill-color: #D2E3FC;\n",
              "      --hover-bg-color: #434B5C;\n",
              "      --hover-fill-color: #FFFFFF;\n",
              "      --disabled-bg-color: #3B4455;\n",
              "      --disabled-fill-color: #666;\n",
              "  }\n",
              "\n",
              "  .colab-df-quickchart {\n",
              "    background-color: var(--bg-color);\n",
              "    border: none;\n",
              "    border-radius: 50%;\n",
              "    cursor: pointer;\n",
              "    display: none;\n",
              "    fill: var(--fill-color);\n",
              "    height: 32px;\n",
              "    padding: 0;\n",
              "    width: 32px;\n",
              "  }\n",
              "\n",
              "  .colab-df-quickchart:hover {\n",
              "    background-color: var(--hover-bg-color);\n",
              "    box-shadow: 0 1px 2px rgba(60, 64, 67, 0.3), 0 1px 3px 1px rgba(60, 64, 67, 0.15);\n",
              "    fill: var(--button-hover-fill-color);\n",
              "  }\n",
              "\n",
              "  .colab-df-quickchart-complete:disabled,\n",
              "  .colab-df-quickchart-complete:disabled:hover {\n",
              "    background-color: var(--disabled-bg-color);\n",
              "    fill: var(--disabled-fill-color);\n",
              "    box-shadow: none;\n",
              "  }\n",
              "\n",
              "  .colab-df-spinner {\n",
              "    border: 2px solid var(--fill-color);\n",
              "    border-color: transparent;\n",
              "    border-bottom-color: var(--fill-color);\n",
              "    animation:\n",
              "      spin 1s steps(1) infinite;\n",
              "  }\n",
              "\n",
              "  @keyframes spin {\n",
              "    0% {\n",
              "      border-color: transparent;\n",
              "      border-bottom-color: var(--fill-color);\n",
              "      border-left-color: var(--fill-color);\n",
              "    }\n",
              "    20% {\n",
              "      border-color: transparent;\n",
              "      border-left-color: var(--fill-color);\n",
              "      border-top-color: var(--fill-color);\n",
              "    }\n",
              "    30% {\n",
              "      border-color: transparent;\n",
              "      border-left-color: var(--fill-color);\n",
              "      border-top-color: var(--fill-color);\n",
              "      border-right-color: var(--fill-color);\n",
              "    }\n",
              "    40% {\n",
              "      border-color: transparent;\n",
              "      border-right-color: var(--fill-color);\n",
              "      border-top-color: var(--fill-color);\n",
              "    }\n",
              "    60% {\n",
              "      border-color: transparent;\n",
              "      border-right-color: var(--fill-color);\n",
              "    }\n",
              "    80% {\n",
              "      border-color: transparent;\n",
              "      border-right-color: var(--fill-color);\n",
              "      border-bottom-color: var(--fill-color);\n",
              "    }\n",
              "    90% {\n",
              "      border-color: transparent;\n",
              "      border-bottom-color: var(--fill-color);\n",
              "    }\n",
              "  }\n",
              "</style>\n",
              "\n",
              "  <script>\n",
              "    async function quickchart(key) {\n",
              "      const quickchartButtonEl =\n",
              "        document.querySelector('#' + key + ' button');\n",
              "      quickchartButtonEl.disabled = true;  // To prevent multiple clicks.\n",
              "      quickchartButtonEl.classList.add('colab-df-spinner');\n",
              "      try {\n",
              "        const charts = await google.colab.kernel.invokeFunction(\n",
              "            'suggestCharts', [key], {});\n",
              "      } catch (error) {\n",
              "        console.error('Error during call to suggestCharts:', error);\n",
              "      }\n",
              "      quickchartButtonEl.classList.remove('colab-df-spinner');\n",
              "      quickchartButtonEl.classList.add('colab-df-quickchart-complete');\n",
              "    }\n",
              "    (() => {\n",
              "      let quickchartButtonEl =\n",
              "        document.querySelector('#df-53444268-810f-48b5-90f6-7a814a790030 button');\n",
              "      quickchartButtonEl.style.display =\n",
              "        google.colab.kernel.accessAllowed ? 'block' : 'none';\n",
              "    })();\n",
              "  </script>\n",
              "</div>\n",
              "\n",
              "    </div>\n",
              "  </div>\n"
            ],
            "application/vnd.google.colaboratory.intrinsic+json": {
              "type": "dataframe",
              "variable_name": "salary",
              "summary": "{\n  \"name\": \"salary\",\n  \"rows\": 607,\n  \"fields\": [\n    {\n      \"column\": \"Unnamed: 0\",\n      \"properties\": {\n        \"dtype\": \"number\",\n        \"std\": 175,\n        \"min\": 0,\n        \"max\": 606,\n        \"num_unique_values\": 607,\n        \"samples\": [\n          563,\n          289,\n          76\n        ],\n        \"semantic_type\": \"\",\n        \"description\": \"\"\n      }\n    },\n    {\n      \"column\": \"work_year\",\n      \"properties\": {\n        \"dtype\": \"number\",\n        \"std\": 0,\n        \"min\": 2020,\n        \"max\": 2022,\n        \"num_unique_values\": 3,\n        \"samples\": [\n          2020,\n          2021,\n          2022\n        ],\n        \"semantic_type\": \"\",\n        \"description\": \"\"\n      }\n    },\n    {\n      \"column\": \"experience_level\",\n      \"properties\": {\n        \"dtype\": \"category\",\n        \"num_unique_values\": 4,\n        \"samples\": [\n          \"SE\",\n          \"EX\",\n          \"MI\"\n        ],\n        \"semantic_type\": \"\",\n        \"description\": \"\"\n      }\n    },\n    {\n      \"column\": \"employment_type\",\n      \"properties\": {\n        \"dtype\": \"category\",\n        \"num_unique_values\": 4,\n        \"samples\": [\n          \"CT\",\n          \"FL\",\n          \"FT\"\n        ],\n        \"semantic_type\": \"\",\n        \"description\": \"\"\n      }\n    },\n    {\n      \"column\": \"job_title\",\n      \"properties\": {\n        \"dtype\": \"category\",\n        \"num_unique_values\": 50,\n        \"samples\": [\n          \"Director of Data Science\",\n          \"Data Architect\",\n          \"Computer Vision Software Engineer\"\n        ],\n        \"semantic_type\": \"\",\n        \"description\": \"\"\n      }\n    },\n    {\n      \"column\": \"salary\",\n      \"properties\": {\n        \"dtype\": \"number\",\n        \"std\": 1544357,\n        \"min\": 4000,\n        \"max\": 30400000,\n        \"num_unique_values\": 272,\n        \"samples\": [\n          65000,\n          18000,\n          82500\n        ],\n        \"semantic_type\": \"\",\n        \"description\": \"\"\n      }\n    },\n    {\n      \"column\": \"salary_currency\",\n      \"properties\": {\n        \"dtype\": \"category\",\n        \"num_unique_values\": 17,\n        \"samples\": [\n          \"EUR\",\n          \"USD\",\n          \"JPY\"\n        ],\n        \"semantic_type\": \"\",\n        \"description\": \"\"\n      }\n    },\n    {\n      \"column\": \"salary_in_usd\",\n      \"properties\": {\n        \"dtype\": \"number\",\n        \"std\": 70957,\n        \"min\": 2859,\n        \"max\": 600000,\n        \"num_unique_values\": 369,\n        \"samples\": [\n          64849,\n          450000,\n          8000\n        ],\n        \"semantic_type\": \"\",\n        \"description\": \"\"\n      }\n    },\n    {\n      \"column\": \"employee_residence\",\n      \"properties\": {\n        \"dtype\": \"category\",\n        \"num_unique_values\": 57,\n        \"samples\": [\n          \"DE\",\n          \"HU\",\n          \"VN\"\n        ],\n        \"semantic_type\": \"\",\n        \"description\": \"\"\n      }\n    },\n    {\n      \"column\": \"remote_ratio\",\n      \"properties\": {\n        \"dtype\": \"number\",\n        \"std\": 40,\n        \"min\": 0,\n        \"max\": 100,\n        \"num_unique_values\": 3,\n        \"samples\": [\n          0,\n          50,\n          100\n        ],\n        \"semantic_type\": \"\",\n        \"description\": \"\"\n      }\n    },\n    {\n      \"column\": \"company_location\",\n      \"properties\": {\n        \"dtype\": \"category\",\n        \"num_unique_values\": 50,\n        \"samples\": [\n          \"NL\",\n          \"SI\",\n          \"UA\"\n        ],\n        \"semantic_type\": \"\",\n        \"description\": \"\"\n      }\n    },\n    {\n      \"column\": \"company_size\",\n      \"properties\": {\n        \"dtype\": \"category\",\n        \"num_unique_values\": 3,\n        \"samples\": [\n          \"L\",\n          \"S\",\n          \"M\"\n        ],\n        \"semantic_type\": \"\",\n        \"description\": \"\"\n      }\n    }\n  ]\n}"
            }
          },
          "metadata": {},
          "execution_count": 10
        }
      ]
    },
    {
      "cell_type": "code",
      "source": [
        "salary.duplicated().sum()"
      ],
      "metadata": {
        "colab": {
          "base_uri": "https://localhost:8080/"
        },
        "id": "NEoRkcjA56_D",
        "outputId": "bf2f0bce-a51d-47cc-9280-2b8942d32979"
      },
      "execution_count": 12,
      "outputs": [
        {
          "output_type": "execute_result",
          "data": {
            "text/plain": [
              "0"
            ]
          },
          "metadata": {},
          "execution_count": 12
        }
      ]
    },
    {
      "cell_type": "code",
      "source": [
        "print(salary['experience_level'].unique())"
      ],
      "metadata": {
        "colab": {
          "base_uri": "https://localhost:8080/"
        },
        "id": "RFxLDw3f6CQx",
        "outputId": "77e80150-ec5a-4201-a114-b9429296cd23"
      },
      "execution_count": 13,
      "outputs": [
        {
          "output_type": "stream",
          "name": "stdout",
          "text": [
            "['MI' 'SE' 'EN' 'EX']\n"
          ]
        }
      ]
    },
    {
      "cell_type": "code",
      "source": [
        "print(salary['employment_type'].unique())"
      ],
      "metadata": {
        "colab": {
          "base_uri": "https://localhost:8080/"
        },
        "id": "sJPvqxe46H_U",
        "outputId": "83deb55e-f77f-4c9e-c798-2092ee44287f"
      },
      "execution_count": 14,
      "outputs": [
        {
          "output_type": "stream",
          "name": "stdout",
          "text": [
            "['FT' 'CT' 'PT' 'FL']\n"
          ]
        }
      ]
    },
    {
      "cell_type": "code",
      "source": [
        "print(salary['job_title'].unique())"
      ],
      "metadata": {
        "colab": {
          "base_uri": "https://localhost:8080/"
        },
        "id": "u4YiXRYy6RvF",
        "outputId": "ea856a09-f8d0-4c6f-d9d0-977fc5fac3b2"
      },
      "execution_count": 15,
      "outputs": [
        {
          "output_type": "stream",
          "name": "stdout",
          "text": [
            "['Data Scientist' 'Machine Learning Scientist' 'Big Data Engineer'\n",
            " 'Product Data Analyst' 'Machine Learning Engineer' 'Data Analyst'\n",
            " 'Lead Data Scientist' 'Business Data Analyst' 'Lead Data Engineer'\n",
            " 'Lead Data Analyst' 'Data Engineer' 'Data Science Consultant'\n",
            " 'BI Data Analyst' 'Director of Data Science' 'Research Scientist'\n",
            " 'Machine Learning Manager' 'Data Engineering Manager'\n",
            " 'Machine Learning Infrastructure Engineer' 'ML Engineer' 'AI Scientist'\n",
            " 'Computer Vision Engineer' 'Principal Data Scientist'\n",
            " 'Data Science Manager' 'Head of Data' '3D Computer Vision Researcher'\n",
            " 'Data Analytics Engineer' 'Applied Data Scientist'\n",
            " 'Marketing Data Analyst' 'Cloud Data Engineer' 'Financial Data Analyst'\n",
            " 'Computer Vision Software Engineer' 'Director of Data Engineering'\n",
            " 'Data Science Engineer' 'Principal Data Engineer'\n",
            " 'Machine Learning Developer' 'Applied Machine Learning Scientist'\n",
            " 'Data Analytics Manager' 'Head of Data Science' 'Data Specialist'\n",
            " 'Data Architect' 'Finance Data Analyst' 'Principal Data Analyst'\n",
            " 'Big Data Architect' 'Staff Data Scientist' 'Analytics Engineer'\n",
            " 'ETL Developer' 'Head of Machine Learning' 'NLP Engineer'\n",
            " 'Lead Machine Learning Engineer' 'Data Analytics Lead']\n"
          ]
        }
      ]
    },
    {
      "cell_type": "code",
      "source": [
        "specialty_group = {\n",
        "    'Data Scientist': 'Data Scientists',\n",
        "    'Machine Learning Scientist': 'Machine Learning',\n",
        "    'Big Data Engineer': 'Data Engineers',\n",
        "    'Product Data Analyst': 'Analysts',\n",
        "    'Machine Learning Engineer': 'Machine Learning',\n",
        "    'Data Analyst': 'Analysts',\n",
        "    'Lead Data Scientist': 'Data Scientists',\n",
        "    'Business Data Analyst': 'Analysts',\n",
        "    'Lead Data Engineer': 'Data Engineers',\n",
        "    'Lead Data Analyst': 'Analysts',\n",
        "    'Data Engineer': 'Data Engineers',\n",
        "    'Data Science Consultant': 'Data Scientists',\n",
        "    'BI Data Analyst': 'Analysts',\n",
        "    'Director of Data Science': 'Managers and Directors',\n",
        "    'Research Scientist': 'Data Scientists',\n",
        "    'Machine Learning Manager': 'Managers and Directors',\n",
        "    'Data Engineering Manager': 'Managers and Directors',\n",
        "    'Machine Learning Infrastructure Engineer': 'Machine Learning',\n",
        "    'ML Engineer': 'Machine Learning',\n",
        "    'AI Scientist': 'Machine Learning',\n",
        "    'Computer Vision Engineer': 'Machine Learning',\n",
        "    'Principal Data Scientist': 'Data Scientists',\n",
        "    'Data Science Manager': 'Managers and Directors',\n",
        "    'Head of Data': 'Managers and Directors',\n",
        "    '3D Computer Vision Researcher': 'Machine Learning',\n",
        "    'Data Analytics Engineer': 'Data Engineers',\n",
        "    'Applied Data Scientist': 'Data Scientists',\n",
        "    'Marketing Data Analyst': 'Analysts',\n",
        "    'Cloud Data Engineer': 'Data Engineers',\n",
        "    'Financial Data Analyst': 'Analysts',\n",
        "    'Computer Vision Software Engineer': 'Machine Learning',\n",
        "    'Director of Data Engineering': 'Managers and Directors',\n",
        "    'Data Science Engineer': 'Data Scientists',\n",
        "    'Principal Data Engineer': 'Data Engineers',\n",
        "    'Machine Learning Developer': 'Machine Learning',\n",
        "    'Applied Machine Learning Scientist': 'Machine Learning',\n",
        "    'Data Analytics Manager': 'Managers and Directors',\n",
        "    'Head of Data Science': 'Managers and Directors',\n",
        "    'Data Specialist': 'Data Scientists',\n",
        "    'Data Architect': 'Data Engineers',\n",
        "    'Finance Data Analyst': 'Analysts',\n",
        "    'Principal Data Analyst': 'Analysts',\n",
        "    'Big Data Architect': 'Data Engineers',\n",
        "    'Staff Data Scientist': 'Data Scientists',\n",
        "    'Analytics Engineer': 'Data Engineers',\n",
        "    'ETL Developer': 'Data Engineers',\n",
        "    'Head of Machine Learning': 'Managers and Directors',\n",
        "    'NLP Engineer': 'Machine Learning',\n",
        "    'Lead Machine Learning Engineer': 'Machine Learning',\n",
        "    'Data Analytics Lead': 'Managers and Directors'\n",
        "}\n",
        "\n",
        "salary['job_title'] = salary['job_title'].map(specialty_group)\n",
        "\n",
        "print(salary['job_title'].unique())"
      ],
      "metadata": {
        "colab": {
          "base_uri": "https://localhost:8080/"
        },
        "id": "fYx_f7JK6nij",
        "outputId": "247f9182-044f-4024-a6f7-0df8ab838304"
      },
      "execution_count": 17,
      "outputs": [
        {
          "output_type": "stream",
          "name": "stdout",
          "text": [
            "['Data Scientists' 'Machine Learning' 'Data Engineers' 'Analysts'\n",
            " 'Managers and Directors']\n"
          ]
        }
      ]
    },
    {
      "cell_type": "code",
      "source": [
        "experience_order = ['EN', 'MI', 'SE', 'EX']\n",
        "salary['experience_level'] = pd.Categorical(salary['experience_level'], categories=experience_order, ordered=True)\n"
      ],
      "metadata": {
        "id": "FTPED-ky-UAb"
      },
      "execution_count": 25,
      "outputs": []
    },
    {
      "cell_type": "code",
      "source": [
        "salary_by_experience = salary.groupby(['experience_level', 'job_title'])['salary_in_usd'].mean().reset_index()\n",
        "\n",
        "import seaborn as sns\n",
        "import matplotlib.pyplot as plt\n",
        "\n",
        "plt.figure(figsize=(10, 6))\n",
        "sns.barplot(data=salary_by_experience, x='experience_level', y='salary_in_usd', hue='job_title')\n",
        "plt.title('AVG salary based on exp level for each speciality group')\n",
        "plt.xlabel('Experience level')\n",
        "plt.ylabel('AVG salary in USD')\n",
        "plt.show()"
      ],
      "metadata": {
        "colab": {
          "base_uri": "https://localhost:8080/",
          "height": 567
        },
        "id": "tNJ0tXBY9Ipp",
        "outputId": "cd99639e-6033-474f-81b4-02d9200ea577"
      },
      "execution_count": 26,
      "outputs": [
        {
          "output_type": "stream",
          "name": "stderr",
          "text": [
            "<ipython-input-26-2a0df1c6839a>:1: FutureWarning: The default of observed=False is deprecated and will be changed to True in a future version of pandas. Pass observed=False to retain current behavior or observed=True to adopt the future default and silence this warning.\n",
            "  salary_by_experience = salary.groupby(['experience_level', 'job_title'])['salary_in_usd'].mean().reset_index()\n"
          ]
        },
        {
          "output_type": "display_data",
          "data": {
            "text/plain": [
              "<Figure size 1000x600 with 1 Axes>"
            ],
            "image/png": "[encoded data removed]"
          },
          "metadata": {}
        }
      ]
    }
  ]
}