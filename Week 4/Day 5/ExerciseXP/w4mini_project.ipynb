{
  "nbformat": 4,
  "nbformat_minor": 0,
  "metadata": {
    "colab": {
      "provenance": []
    },
    "kernelspec": {
      "name": "python3",
      "display_name": "Python 3"
    },
    "language_info": {
      "name": "python"
    }
  },
  "cells": [
    {
      "cell_type": "code",
      "execution_count": 5,
      "metadata": {
        "colab": {
          "base_uri": "https://localhost:8080/"
        },
        "id": "rhdKvJNZqxuF",
        "outputId": "ca4469ae-01d3-47af-d86d-2d7f194eeaf6"
      },
      "outputs": [
        {
          "output_type": "stream",
          "name": "stdout",
          "text": [
            "Archive:  Mental_Health_in_Tech_Survey.zip\n",
            "  inflating: Mental Health in Tech Survey/survey.csv  \n"
          ]
        }
      ],
      "source": [
        "import pandas as pd\n",
        "!unzip Mental_Health_in_Tech_Survey.zip"
      ]
    },
    {
      "cell_type": "code",
      "source": [
        "mental = pd.read_csv('survey.csv')\n",
        "import pandas as pd\n",
        "pd.options.display.max_columns = None\n"
      ],
      "metadata": {
        "id": "PxiKQNJW0T_v"
      },
      "execution_count": 6,
      "outputs": []
    },
    {
      "cell_type": "code",
      "source": [
        "mental.info()"
      ],
      "metadata": {
        "colab": {
          "base_uri": "https://localhost:8080/"
        },
        "id": "_DmD4YwS0bpa",
        "outputId": "52fbd5db-77a3-4cea-b3c7-1de91a916776"
      },
      "execution_count": 7,
      "outputs": [
        {
          "output_type": "stream",
          "name": "stdout",
          "text": [
            "<class 'pandas.core.frame.DataFrame'>\n",
            "RangeIndex: 1259 entries, 0 to 1258\n",
            "Data columns (total 27 columns):\n",
            " #   Column                     Non-Null Count  Dtype \n",
            "---  ------                     --------------  ----- \n",
            " 0   Timestamp                  1259 non-null   object\n",
            " 1   Age                        1259 non-null   int64 \n",
            " 2   Gender                     1259 non-null   object\n",
            " 3   Country                    1259 non-null   object\n",
            " 4   state                      744 non-null    object\n",
            " 5   self_employed              1241 non-null   object\n",
            " 6   family_history             1259 non-null   object\n",
            " 7   treatment                  1259 non-null   object\n",
            " 8   work_interfere             995 non-null    object\n",
            " 9   no_employees               1259 non-null   object\n",
            " 10  remote_work                1259 non-null   object\n",
            " 11  tech_company               1259 non-null   object\n",
            " 12  benefits                   1259 non-null   object\n",
            " 13  care_options               1259 non-null   object\n",
            " 14  wellness_program           1259 non-null   object\n",
            " 15  seek_help                  1259 non-null   object\n",
            " 16  anonymity                  1259 non-null   object\n",
            " 17  leave                      1259 non-null   object\n",
            " 18  mental_health_consequence  1259 non-null   object\n",
            " 19  phys_health_consequence    1259 non-null   object\n",
            " 20  coworkers                  1259 non-null   object\n",
            " 21  supervisor                 1259 non-null   object\n",
            " 22  mental_health_interview    1259 non-null   object\n",
            " 23  phys_health_interview      1259 non-null   object\n",
            " 24  mental_vs_physical         1259 non-null   object\n",
            " 25  obs_consequence            1259 non-null   object\n",
            " 26  comments                   164 non-null    object\n",
            "dtypes: int64(1), object(26)\n",
            "memory usage: 265.7+ KB\n"
          ]
        }
      ]
    },
    {
      "cell_type": "code",
      "source": [
        "print(mental.duplicated().sum())"
      ],
      "metadata": {
        "colab": {
          "base_uri": "https://localhost:8080/"
        },
        "id": "xY-PjP_V1STt",
        "outputId": "c6b726e3-fd07-4f94-c072-a9ad324ca914"
      },
      "execution_count": 8,
      "outputs": [
        {
          "output_type": "stream",
          "name": "stdout",
          "text": [
            "0\n"
          ]
        }
      ]
    },
    {
      "cell_type": "code",
      "source": [
        "mental.columns = mental.columns.str.strip().str.lower().str.replace(' ', '_')"
      ],
      "metadata": {
        "id": "INzQEnaV3qew"
      },
      "execution_count": 9,
      "outputs": []
    },
    {
      "cell_type": "code",
      "source": [
        "#mental.drop(columns=[['timestamp','state','comments','anonymity']], inplace=True)\n",
        "mental.drop(columns=['timestamp'], inplace=True)\n"
      ],
      "metadata": {
        "id": "ipNThMP34b1r"
      },
      "execution_count": 10,
      "outputs": []
    },
    {
      "cell_type": "code",
      "source": [
        "mental.drop(columns=['state'], inplace=True)\n",
        "mental.drop(columns=['comments'], inplace=True)\n",
        "mental.drop(columns=['anonymity'], inplace=True)"
      ],
      "metadata": {
        "id": "AkH4XBiY6IzU"
      },
      "execution_count": 11,
      "outputs": []
    },
    {
      "cell_type": "code",
      "source": [
        "mental['work_interfere'] = mental['work_interfere'].fillna(mental['work_interfere'].mode()[0])"
      ],
      "metadata": {
        "id": "kuL2a0aM6SOp"
      },
      "execution_count": 12,
      "outputs": []
    },
    {
      "cell_type": "code",
      "source": [
        "print(mental['gender'].unique())"
      ],
      "metadata": {
        "colab": {
          "base_uri": "https://localhost:8080/"
        },
        "id": "v6d_RNQ7Ate7",
        "outputId": "f4e29d66-3e70-4487-e9f3-997822d01ef6"
      },
      "execution_count": 13,
      "outputs": [
        {
          "output_type": "stream",
          "name": "stdout",
          "text": [
            "['Female' 'M' 'Male' 'male' 'female' 'm' 'Male-ish' 'maile' 'Trans-female'\n",
            " 'Cis Female' 'F' 'something kinda male?' 'Cis Male' 'Woman' 'f' 'Mal'\n",
            " 'Male (CIS)' 'queer/she/they' 'non-binary' 'Femake' 'woman' 'Make' 'Nah'\n",
            " 'All' 'Enby' 'fluid' 'Genderqueer' 'Female ' 'Androgyne' 'Agender'\n",
            " 'cis-female/femme' 'Guy (-ish) ^_^' 'male leaning androgynous' 'Male '\n",
            " 'Man' 'Trans woman' 'msle' 'Neuter' 'Female (trans)' 'queer'\n",
            " 'Female (cis)' 'Mail' 'cis male' 'A little about you' 'Malr' 'p' 'femail'\n",
            " 'Cis Man' 'ostensibly male, unsure what that really means']\n"
          ]
        }
      ]
    },
    {
      "cell_type": "code",
      "source": [
        "mental['gender'] = mental['gender'].str.lower()\n",
        "print(mental['gender'].unique())"
      ],
      "metadata": {
        "colab": {
          "base_uri": "https://localhost:8080/"
        },
        "id": "csknFBwJB1gq",
        "outputId": "2a544966-3bc8-4492-ec27-bd2d5329f156"
      },
      "execution_count": 14,
      "outputs": [
        {
          "output_type": "stream",
          "name": "stdout",
          "text": [
            "['female' 'm' 'male' 'male-ish' 'maile' 'trans-female' 'cis female' 'f'\n",
            " 'something kinda male?' 'cis male' 'woman' 'mal' 'male (cis)'\n",
            " 'queer/she/they' 'non-binary' 'femake' 'make' 'nah' 'all' 'enby' 'fluid'\n",
            " 'genderqueer' 'female ' 'androgyne' 'agender' 'cis-female/femme'\n",
            " 'guy (-ish) ^_^' 'male leaning androgynous' 'male ' 'man' 'trans woman'\n",
            " 'msle' 'neuter' 'female (trans)' 'queer' 'female (cis)' 'mail'\n",
            " 'a little about you' 'malr' 'p' 'femail' 'cis man'\n",
            " 'ostensibly male, unsure what that really means']\n"
          ]
        }
      ]
    },
    {
      "cell_type": "code",
      "source": [
        "gender_mapping = {\n",
        "    'female': 'Female',\n",
        "    'm': 'Male',\n",
        "    'male': 'Male',\n",
        "    'male-ish': 'Male',\n",
        "    'maile': 'Male',\n",
        "    'trans-female': 'Female',\n",
        "    'cis female': 'Female',\n",
        "    'f': 'Female',\n",
        "    'something kinda male?': 'Male',\n",
        "    'cis male': 'Male',\n",
        "    'woman': 'Female',\n",
        "    'mal': 'Male',\n",
        "    'male (cis)': 'Male',\n",
        "    'queer/she/they': 'Female',\n",
        "    'non-binary': 'Non-Binary',\n",
        "    'femake': 'Female',\n",
        "    'make': 'Male',\n",
        "    'nah': 'Non-Binary',\n",
        "    'all': 'Non-Binary',\n",
        "    'enby': 'Non-Binary',\n",
        "    'fluid': 'Non-Binary',\n",
        "    'genderqueer': 'Non-Binary',\n",
        "    'female ': 'Female',\n",
        "    'androgyne': 'Non-Binary',\n",
        "    'agender': 'Non-Binary',\n",
        "    'cis-female/femme': 'Female',\n",
        "    'guy (-ish) ^_^': 'Male',\n",
        "    'male leaning androgynous': 'Male',\n",
        "    'male ': 'Male',\n",
        "    'man': 'Male',\n",
        "    'trans woman': 'Female',\n",
        "    'msle': 'Male',\n",
        "    'neuter': 'Non-Binary',\n",
        "    'female (trans)': 'Male',\n",
        "    'queer': 'Non-Binary',\n",
        "    'female (cis)': 'Female',\n",
        "    'mail': 'Male',\n",
        "    'a little about you': 'Non-Binary',\n",
        "    'malr': 'Male',\n",
        "    'p': 'Non-Binary',\n",
        "    'femail' : 'Female',\n",
        "    'cis man': 'Male',\n",
        "    'ostensibly male, unsure what that really means': 'Male'\n",
        "}\n",
        "mental['gender'] = mental['gender'].map(gender_mapping)\n",
        "\n",
        "print(mental['gender'].unique())"
      ],
      "metadata": {
        "colab": {
          "base_uri": "https://localhost:8080/"
        },
        "id": "NTLAHkhiB-F5",
        "outputId": "d127729a-b3bc-400b-d830-86f2a986315f"
      },
      "execution_count": 15,
      "outputs": [
        {
          "output_type": "stream",
          "name": "stdout",
          "text": [
            "['Female' 'Male' 'Non-Binary']\n"
          ]
        }
      ]
    },
    {
      "cell_type": "code",
      "source": [
        "mental['gender'] = mental['gender'].fillna('Unknown')\n",
        "\n",
        "print(mental['gender'].unique())\n",
        "print(mental['gender'].value_counts())"
      ],
      "metadata": {
        "colab": {
          "base_uri": "https://localhost:8080/"
        },
        "id": "K1haw4ckDXtd",
        "outputId": "b7f3d8a2-cc88-4aa6-cf93-f7bdc2c23ba5"
      },
      "execution_count": 16,
      "outputs": [
        {
          "output_type": "stream",
          "name": "stdout",
          "text": [
            "['Female' 'Male' 'Non-Binary']\n",
            "gender\n",
            "Male          997\n",
            "Female        250\n",
            "Non-Binary     12\n",
            "Name: count, dtype: int64\n"
          ]
        }
      ]
    },
    {
      "cell_type": "code",
      "source": [
        "mental = mental[mental['gender'] != 'Non-Binary']\n",
        "\n",
        "print(mental['gender'].unique())\n",
        "print(mental.shape)"
      ],
      "metadata": {
        "colab": {
          "base_uri": "https://localhost:8080/"
        },
        "id": "q0RnGTfnDgE4",
        "outputId": "1a184e69-1aec-4d11-9821-09cfc2f73cd0"
      },
      "execution_count": 17,
      "outputs": [
        {
          "output_type": "stream",
          "name": "stdout",
          "text": [
            "['Female' 'Male']\n",
            "(1247, 23)\n"
          ]
        }
      ]
    },
    {
      "cell_type": "code",
      "source": [
        "from sklearn.preprocessing import LabelEncoder\n",
        "mental['gender'] = LabelEncoder().fit_transform(mental['gender'])\n",
        "print(mental.head())"
      ],
      "metadata": {
        "colab": {
          "base_uri": "https://localhost:8080/"
        },
        "id": "uqYAKCRXACkm",
        "outputId": "78912fa8-67ae-47f6-f9ce-702675ac78b7"
      },
      "execution_count": 18,
      "outputs": [
        {
          "output_type": "stream",
          "name": "stdout",
          "text": [
            "   age  gender         country self_employed family_history treatment  \\\n",
            "0   37       0   United States           NaN             No       Yes   \n",
            "1   44       1   United States           NaN             No        No   \n",
            "2   32       1          Canada           NaN             No        No   \n",
            "3   31       1  United Kingdom           NaN            Yes       Yes   \n",
            "4   31       1   United States           NaN             No        No   \n",
            "\n",
            "  work_interfere    no_employees remote_work tech_company    benefits  \\\n",
            "0          Often            6-25          No          Yes         Yes   \n",
            "1         Rarely  More than 1000          No           No  Don't know   \n",
            "2         Rarely            6-25          No          Yes          No   \n",
            "3          Often          26-100          No          Yes          No   \n",
            "4          Never         100-500         Yes          Yes         Yes   \n",
            "\n",
            "  care_options wellness_program   seek_help               leave  \\\n",
            "0     Not sure               No         Yes       Somewhat easy   \n",
            "1           No       Don't know  Don't know          Don't know   \n",
            "2           No               No          No  Somewhat difficult   \n",
            "3          Yes               No          No  Somewhat difficult   \n",
            "4           No       Don't know  Don't know          Don't know   \n",
            "\n",
            "  mental_health_consequence phys_health_consequence     coworkers supervisor  \\\n",
            "0                        No                      No  Some of them        Yes   \n",
            "1                     Maybe                      No            No         No   \n",
            "2                        No                      No           Yes        Yes   \n",
            "3                       Yes                     Yes  Some of them         No   \n",
            "4                        No                      No  Some of them        Yes   \n",
            "\n",
            "  mental_health_interview phys_health_interview mental_vs_physical  \\\n",
            "0                      No                 Maybe                Yes   \n",
            "1                      No                    No         Don't know   \n",
            "2                     Yes                   Yes                 No   \n",
            "3                   Maybe                 Maybe                 No   \n",
            "4                     Yes                   Yes         Don't know   \n",
            "\n",
            "  obs_consequence  \n",
            "0              No  \n",
            "1              No  \n",
            "2              No  \n",
            "3             Yes  \n",
            "4              No  \n"
          ]
        }
      ]
    },
    {
      "cell_type": "code",
      "source": [
        "import pandas as pd\n",
        "bins = [0, 14, 20, 35, 45, 60]\n",
        "bins_labels = ['Child', 'Teenager', 'Young_Adult', 'Adult', 'Senior']\n",
        "mental['age_groups'] = pd.cut(mental['age'], bins=bins, labels=bins_labels)\n",
        "mental_clean = pd.get_dummies(mental, columns=['age_groups'], prefix='age_groups', drop_first=False)\n",
        "print(mental_clean.head())"
      ],
      "metadata": {
        "colab": {
          "base_uri": "https://localhost:8080/"
        },
        "id": "CXwTuLSd7W6Q",
        "outputId": "33d9a738-8c94-445e-a2c6-2ab07c044ced"
      },
      "execution_count": 19,
      "outputs": [
        {
          "output_type": "stream",
          "name": "stdout",
          "text": [
            "   age  gender         country self_employed family_history treatment  \\\n",
            "0   37       0   United States           NaN             No       Yes   \n",
            "1   44       1   United States           NaN             No        No   \n",
            "2   32       1          Canada           NaN             No        No   \n",
            "3   31       1  United Kingdom           NaN            Yes       Yes   \n",
            "4   31       1   United States           NaN             No        No   \n",
            "\n",
            "  work_interfere    no_employees remote_work tech_company    benefits  \\\n",
            "0          Often            6-25          No          Yes         Yes   \n",
            "1         Rarely  More than 1000          No           No  Don't know   \n",
            "2         Rarely            6-25          No          Yes          No   \n",
            "3          Often          26-100          No          Yes          No   \n",
            "4          Never         100-500         Yes          Yes         Yes   \n",
            "\n",
            "  care_options wellness_program   seek_help               leave  \\\n",
            "0     Not sure               No         Yes       Somewhat easy   \n",
            "1           No       Don't know  Don't know          Don't know   \n",
            "2           No               No          No  Somewhat difficult   \n",
            "3          Yes               No          No  Somewhat difficult   \n",
            "4           No       Don't know  Don't know          Don't know   \n",
            "\n",
            "  mental_health_consequence phys_health_consequence     coworkers supervisor  \\\n",
            "0                        No                      No  Some of them        Yes   \n",
            "1                     Maybe                      No            No         No   \n",
            "2                        No                      No           Yes        Yes   \n",
            "3                       Yes                     Yes  Some of them         No   \n",
            "4                        No                      No  Some of them        Yes   \n",
            "\n",
            "  mental_health_interview phys_health_interview mental_vs_physical  \\\n",
            "0                      No                 Maybe                Yes   \n",
            "1                      No                    No         Don't know   \n",
            "2                     Yes                   Yes                 No   \n",
            "3                   Maybe                 Maybe                 No   \n",
            "4                     Yes                   Yes         Don't know   \n",
            "\n",
            "  obs_consequence  age_groups_Child  age_groups_Teenager  \\\n",
            "0              No             False                False   \n",
            "1              No             False                False   \n",
            "2              No             False                False   \n",
            "3             Yes             False                False   \n",
            "4              No             False                False   \n",
            "\n",
            "   age_groups_Young_Adult  age_groups_Adult  age_groups_Senior  \n",
            "0                   False              True              False  \n",
            "1                   False              True              False  \n",
            "2                    True             False              False  \n",
            "3                    True             False              False  \n",
            "4                    True             False              False  \n"
          ]
        }
      ]
    },
    {
      "cell_type": "code",
      "source": [
        "mental = mental.dropna(subset=['self_employed'])\n",
        "mental = mental[mental['self_employed'].isin(['Yes', 'No'])]"
      ],
      "metadata": {
        "id": "x2QEnDCHNTsA"
      },
      "execution_count": 20,
      "outputs": []
    },
    {
      "cell_type": "code",
      "source": [
        "print(mental['self_employed'].unique())"
      ],
      "metadata": {
        "colab": {
          "base_uri": "https://localhost:8080/"
        },
        "id": "XsTkylWyNLbl",
        "outputId": "1e866362-4336-4114-c6e7-2da45ba0cd6c"
      },
      "execution_count": 21,
      "outputs": [
        {
          "output_type": "stream",
          "name": "stdout",
          "text": [
            "['Yes' 'No']\n"
          ]
        }
      ]
    },
    {
      "cell_type": "code",
      "source": [
        "yes_no_columns = ['family_history', 'treatment', 'self_employed', 'remote_work','tech_company','benefits','care_options','wellness_program','seek_help','mental_health_consequence','phys_health_consequence','coworkers','supervisor','mental_health_interview','phys_health_interview','mental_vs_physical','obs_consequence']\n",
        "\n",
        "mental[yes_no_columns] = mental[yes_no_columns].replace({\"Some of them\":2, \"Maybe\":2, \"Don't know\":2, \"Not sure\":2, \"Yes\": 1, \"No\": 0})"
      ],
      "metadata": {
        "colab": {
          "base_uri": "https://localhost:8080/"
        },
        "id": "cFemMnEID_vC",
        "outputId": "8463b368-129d-4357-b374-3e7582c0fe52"
      },
      "execution_count": 22,
      "outputs": [
        {
          "output_type": "stream",
          "name": "stderr",
          "text": [
            "<ipython-input-22-d8fab0052583>:3: FutureWarning: Downcasting behavior in `replace` is deprecated and will be removed in a future version. To retain the old behavior, explicitly call `result.infer_objects(copy=False)`. To opt-in to the future behavior, set `pd.set_option('future.no_silent_downcasting', True)`\n",
            "  mental[yes_no_columns] = mental[yes_no_columns].replace({\"Some of them\":2, \"Maybe\":2, \"Don't know\":2, \"Not sure\":2, \"Yes\": 1, \"No\": 0})\n"
          ]
        }
      ]
    },
    {
      "cell_type": "code",
      "source": [
        "print(mental.head())"
      ],
      "metadata": {
        "colab": {
          "base_uri": "https://localhost:8080/"
        },
        "id": "8YI9ftu0GqlJ",
        "outputId": "0d5c0ccd-29f8-4da9-dae6-6af0ecd35909"
      },
      "execution_count": 23,
      "outputs": [
        {
          "output_type": "stream",
          "name": "stdout",
          "text": [
            "    age  gender        country  self_employed  family_history  treatment  \\\n",
            "18   46       1  United States              1               1          0   \n",
            "19   36       1         France              1               1          0   \n",
            "20   29       1  United States              0               1          1   \n",
            "21   31       1  United States              1               0          0   \n",
            "22   46       1  United States              0               0          1   \n",
            "\n",
            "   work_interfere no_employees  remote_work  tech_company  benefits  \\\n",
            "18      Sometimes          1-5            1             1         1   \n",
            "19      Sometimes         6-25            1             1         0   \n",
            "20      Sometimes      100-500            0             1         1   \n",
            "21          Never          1-5            1             1         0   \n",
            "22          Often       26-100            1             1         1   \n",
            "\n",
            "    care_options  wellness_program  seek_help               leave  \\\n",
            "18             2                 1          2           Very easy   \n",
            "19             0                 1          0       Somewhat easy   \n",
            "20             1                 0          0  Somewhat difficult   \n",
            "21             0                 0          0  Somewhat difficult   \n",
            "22             1                 0          0          Don't know   \n",
            "\n",
            "    mental_health_consequence  phys_health_consequence  coworkers  supervisor  \\\n",
            "18                          0                        0          1           1   \n",
            "19                          0                        0          2           2   \n",
            "20                          2                        0          2           2   \n",
            "21                          0                        0          2           2   \n",
            "22                          2                        0          2           1   \n",
            "\n",
            "    mental_health_interview  phys_health_interview  mental_vs_physical  \\\n",
            "18                        0                      1                   1   \n",
            "19                        2                      2                   2   \n",
            "20                        0                      0                   0   \n",
            "21                        0                      2                   1   \n",
            "22                        0                      2                   0   \n",
            "\n",
            "    obs_consequence   age_groups  \n",
            "18                1       Senior  \n",
            "19                0        Adult  \n",
            "20                0  Young_Adult  \n",
            "21                0  Young_Adult  \n",
            "22                0       Senior  \n"
          ]
        }
      ]
    },
    {
      "cell_type": "code",
      "source": [
        "#treatment, work_interfere, tech_company,age_groups\n",
        "tech_data = mental[mental['tech_company'] == 1]\n",
        "mental_health_distribution = tech_data.groupby('age_groups')[['treatment','benefits','care_options','wellness_program','seek_help']].value_counts(normalize=True).unstack()\n",
        "\n",
        "print(mental_health_distribution)"
      ],
      "metadata": {
        "colab": {
          "base_uri": "https://localhost:8080/"
        },
        "id": "DLjX0cA0G-s1",
        "outputId": "77b33ce9-5f6e-405c-b39a-ad2c70453390"
      },
      "execution_count": 24,
      "outputs": [
        {
          "output_type": "stream",
          "name": "stdout",
          "text": [
            "seek_help                                                           0    1  \\\n",
            "age_groups treatment benefits care_options wellness_program                  \n",
            "Child      0         0        0            0                 0.000000  0.0   \n",
            "                                           1                 0.000000  0.0   \n",
            "                                           2                 0.000000  0.0   \n",
            "                              1            0                 0.500000  0.0   \n",
            "                                           1                 0.000000  0.0   \n",
            "...                                                               ...  ...   \n",
            "Senior     1         2        1            1                 0.000000  0.0   \n",
            "                                           2                 0.000000  0.0   \n",
            "                              2            0                 0.022222  0.0   \n",
            "                                           1                 0.000000  0.0   \n",
            "                                           2                 0.000000  0.0   \n",
            "\n",
            "seek_help                                                           2  \n",
            "age_groups treatment benefits care_options wellness_program            \n",
            "Child      0         0        0            0                 0.000000  \n",
            "                                           1                 0.000000  \n",
            "                                           2                 0.000000  \n",
            "                              1            0                 0.000000  \n",
            "                                           1                 0.000000  \n",
            "...                                                               ...  \n",
            "Senior     1         2        1            1                 0.000000  \n",
            "                                           2                 0.000000  \n",
            "                              2            0                 0.000000  \n",
            "                                           1                 0.000000  \n",
            "                                           2                 0.022222  \n",
            "\n",
            "[270 rows x 3 columns]\n"
          ]
        },
        {
          "output_type": "stream",
          "name": "stderr",
          "text": [
            "<ipython-input-24-35d430a454f1>:3: FutureWarning: The default of observed=False is deprecated and will be changed to True in a future version of pandas. Pass observed=False to retain current behavior or observed=True to adopt the future default and silence this warning.\n",
            "  mental_health_distribution = tech_data.groupby('age_groups')[['treatment','benefits','care_options','wellness_program','seek_help']].value_counts(normalize=True).unstack()\n"
          ]
        }
      ]
    },
    {
      "cell_type": "code",
      "source": [
        "mental.describe()"
      ],
      "metadata": {
        "colab": {
          "base_uri": "https://localhost:8080/",
          "height": 320
        },
        "id": "XcHlQiy0N8Bg",
        "outputId": "aa5f964c-229c-4f2b-beda-fde00026efab"
      },
      "execution_count": 25,
      "outputs": [
        {
          "output_type": "execute_result",
          "data": {
            "text/plain": [
              "               age       gender  self_employed  family_history    treatment  \\\n",
              "count  1229.000000  1229.000000    1229.000000     1229.000000  1229.000000   \n",
              "mean     30.805533     0.800651       0.114727        0.387307     0.502034   \n",
              "std      51.424057     0.399674       0.318822        0.487333     0.500199   \n",
              "min   -1726.000000     0.000000       0.000000        0.000000     0.000000   \n",
              "25%      27.000000     1.000000       0.000000        0.000000     0.000000   \n",
              "50%      31.000000     1.000000       0.000000        0.000000     1.000000   \n",
              "75%      36.000000     1.000000       0.000000        1.000000     1.000000   \n",
              "max     329.000000     1.000000       1.000000        1.000000     1.000000   \n",
              "\n",
              "       remote_work  tech_company     benefits  care_options  wellness_program  \\\n",
              "count  1229.000000   1229.000000  1229.000000   1229.000000       1229.000000   \n",
              "mean      0.297803      0.816924     1.026037      0.847844          0.477624   \n",
              "std       0.457479      0.386886     0.788335      0.791108          0.738999   \n",
              "min       0.000000      0.000000     0.000000      0.000000          0.000000   \n",
              "25%       0.000000      1.000000     0.000000      0.000000          0.000000   \n",
              "50%       0.000000      1.000000     1.000000      1.000000          0.000000   \n",
              "75%       1.000000      1.000000     2.000000      1.000000          1.000000   \n",
              "max       1.000000      1.000000     2.000000      2.000000          2.000000   \n",
              "\n",
              "        seek_help  mental_health_consequence  phys_health_consequence  \\\n",
              "count  1229.00000                1229.000000              1229.000000   \n",
              "mean      0.77380                   0.995118                 0.484133   \n",
              "std       0.86608                   0.877687                 0.830476   \n",
              "min       0.00000                   0.000000                 0.000000   \n",
              "25%       0.00000                   0.000000                 0.000000   \n",
              "50%       0.00000                   1.000000                 0.000000   \n",
              "75%       2.00000                   2.000000                 1.000000   \n",
              "max       2.00000                   2.000000                 2.000000   \n",
              "\n",
              "         coworkers   supervisor  mental_health_interview  \\\n",
              "count  1229.000000  1229.000000              1229.000000   \n",
              "mean      1.411717     0.965012                 0.353133   \n",
              "std       0.810995     0.768632                 0.743452   \n",
              "min       0.000000     0.000000                 0.000000   \n",
              "25%       1.000000     0.000000                 0.000000   \n",
              "50%       2.000000     1.000000                 0.000000   \n",
              "75%       2.000000     2.000000                 0.000000   \n",
              "max       2.000000     2.000000                 2.000000   \n",
              "\n",
              "       phys_health_interview  mental_vs_physical  obs_consequence  \n",
              "count            1229.000000         1229.000000      1229.000000  \n",
              "mean                1.044752            1.194467         0.144020  \n",
              "std                 0.916968            0.832231         0.351252  \n",
              "min                 0.000000            0.000000         0.000000  \n",
              "25%                 0.000000            0.000000         0.000000  \n",
              "50%                 1.000000            1.000000         0.000000  \n",
              "75%                 2.000000            2.000000         0.000000  \n",
              "max                 2.000000            2.000000         1.000000  "
            ],
            "text/html": [
              "\n",
              "  <div id=\"df-95d005fe-74d4-40b0-beaf-c800d680c4ee\" class=\"colab-df-container\">\n",
              "    <div>\n",
              "<style scoped>\n",
              "    .dataframe tbody tr th:only-of-type {\n",
              "        vertical-align: middle;\n",
              "    }\n",
              "\n",
              "    .dataframe tbody tr th {\n",
              "        vertical-align: top;\n",
              "    }\n",
              "\n",
              "    .dataframe thead th {\n",
              "        text-align: right;\n",
              "    }\n",
              "</style>\n",
              "<table border=\"1\" class=\"dataframe\">\n",
              "  <thead>\n",
              "    <tr style=\"text-align: right;\">\n",
              "      <th></th>\n",
              "      <th>age</th>\n",
              "      <th>gender</th>\n",
              "      <th>self_employed</th>\n",
              "      <th>family_history</th>\n",
              "      <th>treatment</th>\n",
              "      <th>remote_work</th>\n",
              "      <th>tech_company</th>\n",
              "      <th>benefits</th>\n",
              "      <th>care_options</th>\n",
              "      <th>wellness_program</th>\n",
              "      <th>seek_help</th>\n",
              "      <th>mental_health_consequence</th>\n",
              "      <th>phys_health_consequence</th>\n",
              "      <th>coworkers</th>\n",
              "      <th>supervisor</th>\n",
              "      <th>mental_health_interview</th>\n",
              "      <th>phys_health_interview</th>\n",
              "      <th>mental_vs_physical</th>\n",
              "      <th>obs_consequence</th>\n",
              "    </tr>\n",
              "  </thead>\n",
              "  <tbody>\n",
              "    <tr>\n",
              "      <th>count</th>\n",
              "      <td>1229.000000</td>\n",
              "      <td>1229.000000</td>\n",
              "      <td>1229.000000</td>\n",
              "      <td>1229.000000</td>\n",
              "      <td>1229.000000</td>\n",
              "      <td>1229.000000</td>\n",
              "      <td>1229.000000</td>\n",
              "      <td>1229.000000</td>\n",
              "      <td>1229.000000</td>\n",
              "      <td>1229.000000</td>\n",
              "      <td>1229.00000</td>\n",
              "      <td>1229.000000</td>\n",
              "      <td>1229.000000</td>\n",
              "      <td>1229.000000</td>\n",
              "      <td>1229.000000</td>\n",
              "      <td>1229.000000</td>\n",
              "      <td>1229.000000</td>\n",
              "      <td>1229.000000</td>\n",
              "      <td>1229.000000</td>\n",
              "    </tr>\n",
              "    <tr>\n",
              "      <th>mean</th>\n",
              "      <td>30.805533</td>\n",
              "      <td>0.800651</td>\n",
              "      <td>0.114727</td>\n",
              "      <td>0.387307</td>\n",
              "      <td>0.502034</td>\n",
              "      <td>0.297803</td>\n",
              "      <td>0.816924</td>\n",
              "      <td>1.026037</td>\n",
              "      <td>0.847844</td>\n",
              "      <td>0.477624</td>\n",
              "      <td>0.77380</td>\n",
              "      <td>0.995118</td>\n",
              "      <td>0.484133</td>\n",
              "      <td>1.411717</td>\n",
              "      <td>0.965012</td>\n",
              "      <td>0.353133</td>\n",
              "      <td>1.044752</td>\n",
              "      <td>1.194467</td>\n",
              "      <td>0.144020</td>\n",
              "    </tr>\n",
              "    <tr>\n",
              "      <th>std</th>\n",
              "      <td>51.424057</td>\n",
              "      <td>0.399674</td>\n",
              "      <td>0.318822</td>\n",
              "      <td>0.487333</td>\n",
              "      <td>0.500199</td>\n",
              "      <td>0.457479</td>\n",
              "      <td>0.386886</td>\n",
              "      <td>0.788335</td>\n",
              "      <td>0.791108</td>\n",
              "      <td>0.738999</td>\n",
              "      <td>0.86608</td>\n",
              "      <td>0.877687</td>\n",
              "      <td>0.830476</td>\n",
              "      <td>0.810995</td>\n",
              "      <td>0.768632</td>\n",
              "      <td>0.743452</td>\n",
              "      <td>0.916968</td>\n",
              "      <td>0.832231</td>\n",
              "      <td>0.351252</td>\n",
              "    </tr>\n",
              "    <tr>\n",
              "      <th>min</th>\n",
              "      <td>-1726.000000</td>\n",
              "      <td>0.000000</td>\n",
              "      <td>0.000000</td>\n",
              "      <td>0.000000</td>\n",
              "      <td>0.000000</td>\n",
              "      <td>0.000000</td>\n",
              "      <td>0.000000</td>\n",
              "      <td>0.000000</td>\n",
              "      <td>0.000000</td>\n",
              "      <td>0.000000</td>\n",
              "      <td>0.00000</td>\n",
              "      <td>0.000000</td>\n",
              "      <td>0.000000</td>\n",
              "      <td>0.000000</td>\n",
              "      <td>0.000000</td>\n",
              "      <td>0.000000</td>\n",
              "      <td>0.000000</td>\n",
              "      <td>0.000000</td>\n",
              "      <td>0.000000</td>\n",
              "    </tr>\n",
              "    <tr>\n",
              "      <th>25%</th>\n",
              "      <td>27.000000</td>\n",
              "      <td>1.000000</td>\n",
              "      <td>0.000000</td>\n",
              "      <td>0.000000</td>\n",
              "      <td>0.000000</td>\n",
              "      <td>0.000000</td>\n",
              "      <td>1.000000</td>\n",
              "      <td>0.000000</td>\n",
              "      <td>0.000000</td>\n",
              "      <td>0.000000</td>\n",
              "      <td>0.00000</td>\n",
              "      <td>0.000000</td>\n",
              "      <td>0.000000</td>\n",
              "      <td>1.000000</td>\n",
              "      <td>0.000000</td>\n",
              "      <td>0.000000</td>\n",
              "      <td>0.000000</td>\n",
              "      <td>0.000000</td>\n",
              "      <td>0.000000</td>\n",
              "    </tr>\n",
              "    <tr>\n",
              "      <th>50%</th>\n",
              "      <td>31.000000</td>\n",
              "      <td>1.000000</td>\n",
              "      <td>0.000000</td>\n",
              "      <td>0.000000</td>\n",
              "      <td>1.000000</td>\n",
              "      <td>0.000000</td>\n",
              "      <td>1.000000</td>\n",
              "      <td>1.000000</td>\n",
              "      <td>1.000000</td>\n",
              "      <td>0.000000</td>\n",
              "      <td>0.00000</td>\n",
              "      <td>1.000000</td>\n",
              "      <td>0.000000</td>\n",
              "      <td>2.000000</td>\n",
              "      <td>1.000000</td>\n",
              "      <td>0.000000</td>\n",
              "      <td>1.000000</td>\n",
              "      <td>1.000000</td>\n",
              "      <td>0.000000</td>\n",
              "    </tr>\n",
              "    <tr>\n",
              "      <th>75%</th>\n",
              "      <td>36.000000</td>\n",
              "      <td>1.000000</td>\n",
              "      <td>0.000000</td>\n",
              "      <td>1.000000</td>\n",
              "      <td>1.000000</td>\n",
              "      <td>1.000000</td>\n",
              "      <td>1.000000</td>\n",
              "      <td>2.000000</td>\n",
              "      <td>1.000000</td>\n",
              "      <td>1.000000</td>\n",
              "      <td>2.00000</td>\n",
              "      <td>2.000000</td>\n",
              "      <td>1.000000</td>\n",
              "      <td>2.000000</td>\n",
              "      <td>2.000000</td>\n",
              "      <td>0.000000</td>\n",
              "      <td>2.000000</td>\n",
              "      <td>2.000000</td>\n",
              "      <td>0.000000</td>\n",
              "    </tr>\n",
              "    <tr>\n",
              "      <th>max</th>\n",
              "      <td>329.000000</td>\n",
              "      <td>1.000000</td>\n",
              "      <td>1.000000</td>\n",
              "      <td>1.000000</td>\n",
              "      <td>1.000000</td>\n",
              "      <td>1.000000</td>\n",
              "      <td>1.000000</td>\n",
              "      <td>2.000000</td>\n",
              "      <td>2.000000</td>\n",
              "      <td>2.000000</td>\n",
              "      <td>2.00000</td>\n",
              "      <td>2.000000</td>\n",
              "      <td>2.000000</td>\n",
              "      <td>2.000000</td>\n",
              "      <td>2.000000</td>\n",
              "      <td>2.000000</td>\n",
              "      <td>2.000000</td>\n",
              "      <td>2.000000</td>\n",
              "      <td>1.000000</td>\n",
              "    </tr>\n",
              "  </tbody>\n",
              "</table>\n",
              "</div>\n",
              "    <div class=\"colab-df-buttons\">\n",
              "\n",
              "  <div class=\"colab-df-container\">\n",
              "    <button class=\"colab-df-convert\" onclick=\"convertToInteractive('df-95d005fe-74d4-40b0-beaf-c800d680c4ee')\"\n",
              "            title=\"Convert this dataframe to an interactive table.\"\n",
              "            style=\"display:none;\">\n",
              "\n",
              "  <svg xmlns=\"http://www.w3.org/2000/svg\" height=\"24px\" viewBox=\"0 -960 960 960\">\n",
              "    <path d=\"M120-120v-720h720v720H120Zm60-500h600v-160H180v160Zm220 220h160v-160H400v160Zm0 220h160v-160H400v160ZM180-400h160v-160H180v160Zm440 0h160v-160H620v160ZM180-180h160v-160H180v160Zm440 0h160v-160H620v160Z\"/>\n",
              "  </svg>\n",
              "    </button>\n",
              "\n",
              "  <style>\n",
              "    .colab-df-container {\n",
              "      display:flex;\n",
              "      gap: 12px;\n",
              "    }\n",
              "\n",
              "    .colab-df-convert {\n",
              "      background-color: #E8F0FE;\n",
              "      border: none;\n",
              "      border-radius: 50%;\n",
              "      cursor: pointer;\n",
              "      display: none;\n",
              "      fill: #1967D2;\n",
              "      height: 32px;\n",
              "      padding: 0 0 0 0;\n",
              "      width: 32px;\n",
              "    }\n",
              "\n",
              "    .colab-df-convert:hover {\n",
              "      background-color: #E2EBFA;\n",
              "      box-shadow: 0px 1px 2px rgba(60, 64, 67, 0.3), 0px 1px 3px 1px rgba(60, 64, 67, 0.15);\n",
              "      fill: #174EA6;\n",
              "    }\n",
              "\n",
              "    .colab-df-buttons div {\n",
              "      margin-bottom: 4px;\n",
              "    }\n",
              "\n",
              "    [theme=dark] .colab-df-convert {\n",
              "      background-color: #3B4455;\n",
              "      fill: #D2E3FC;\n",
              "    }\n",
              "\n",
              "    [theme=dark] .colab-df-convert:hover {\n",
              "      background-color: #434B5C;\n",
              "      box-shadow: 0px 1px 3px 1px rgba(0, 0, 0, 0.15);\n",
              "      filter: drop-shadow(0px 1px 2px rgba(0, 0, 0, 0.3));\n",
              "      fill: #FFFFFF;\n",
              "    }\n",
              "  </style>\n",
              "\n",
              "    <script>\n",
              "      const buttonEl =\n",
              "        document.querySelector('#df-95d005fe-74d4-40b0-beaf-c800d680c4ee button.colab-df-convert');\n",
              "      buttonEl.style.display =\n",
              "        google.colab.kernel.accessAllowed ? 'block' : 'none';\n",
              "\n",
              "      async function convertToInteractive(key) {\n",
              "        const element = document.querySelector('#df-95d005fe-74d4-40b0-beaf-c800d680c4ee');\n",
              "        const dataTable =\n",
              "          await google.colab.kernel.invokeFunction('convertToInteractive',\n",
              "                                                    [key], {});\n",
              "        if (!dataTable) return;\n",
              "\n",
              "        const docLinkHtml = 'Like what you see? Visit the ' +\n",
              "          '<a target=\"_blank\" href=https://colab.research.google.com/notebooks/data_table.ipynb>data table notebook</a>'\n",
              "          + ' to learn more about interactive tables.';\n",
              "        element.innerHTML = '';\n",
              "        dataTable['output_type'] = 'display_data';\n",
              "        await google.colab.output.renderOutput(dataTable, element);\n",
              "        const docLink = document.createElement('div');\n",
              "        docLink.innerHTML = docLinkHtml;\n",
              "        element.appendChild(docLink);\n",
              "      }\n",
              "    </script>\n",
              "  </div>\n",
              "\n",
              "\n",
              "<div id=\"df-7d5b3888-c60d-4f54-aaaa-73f1602eeacc\">\n",
              "  <button class=\"colab-df-quickchart\" onclick=\"quickchart('df-7d5b3888-c60d-4f54-aaaa-73f1602eeacc')\"\n",
              "            title=\"Suggest charts\"\n",
              "            style=\"display:none;\">\n",
              "\n",
              "<svg xmlns=\"http://www.w3.org/2000/svg\" height=\"24px\"viewBox=\"0 0 24 24\"\n",
              "     width=\"24px\">\n",
              "    <g>\n",
              "        <path d=\"M19 3H5c-1.1 0-2 .9-2 2v14c0 1.1.9 2 2 2h14c1.1 0 2-.9 2-2V5c0-1.1-.9-2-2-2zM9 17H7v-7h2v7zm4 0h-2V7h2v10zm4 0h-2v-4h2v4z\"/>\n",
              "    </g>\n",
              "</svg>\n",
              "  </button>\n",
              "\n",
              "<style>\n",
              "  .colab-df-quickchart {\n",
              "      --bg-color: #E8F0FE;\n",
              "      --fill-color: #1967D2;\n",
              "      --hover-bg-color: #E2EBFA;\n",
              "      --hover-fill-color: #174EA6;\n",
              "      --disabled-fill-color: #AAA;\n",
              "      --disabled-bg-color: #DDD;\n",
              "  }\n",
              "\n",
              "  [theme=dark] .colab-df-quickchart {\n",
              "      --bg-color: #3B4455;\n",
              "      --fill-color: #D2E3FC;\n",
              "      --hover-bg-color: #434B5C;\n",
              "      --hover-fill-color: #FFFFFF;\n",
              "      --disabled-bg-color: #3B4455;\n",
              "      --disabled-fill-color: #666;\n",
              "  }\n",
              "\n",
              "  .colab-df-quickchart {\n",
              "    background-color: var(--bg-color);\n",
              "    border: none;\n",
              "    border-radius: 50%;\n",
              "    cursor: pointer;\n",
              "    display: none;\n",
              "    fill: var(--fill-color);\n",
              "    height: 32px;\n",
              "    padding: 0;\n",
              "    width: 32px;\n",
              "  }\n",
              "\n",
              "  .colab-df-quickchart:hover {\n",
              "    background-color: var(--hover-bg-color);\n",
              "    box-shadow: 0 1px 2px rgba(60, 64, 67, 0.3), 0 1px 3px 1px rgba(60, 64, 67, 0.15);\n",
              "    fill: var(--button-hover-fill-color);\n",
              "  }\n",
              "\n",
              "  .colab-df-quickchart-complete:disabled,\n",
              "  .colab-df-quickchart-complete:disabled:hover {\n",
              "    background-color: var(--disabled-bg-color);\n",
              "    fill: var(--disabled-fill-color);\n",
              "    box-shadow: none;\n",
              "  }\n",
              "\n",
              "  .colab-df-spinner {\n",
              "    border: 2px solid var(--fill-color);\n",
              "    border-color: transparent;\n",
              "    border-bottom-color: var(--fill-color);\n",
              "    animation:\n",
              "      spin 1s steps(1) infinite;\n",
              "  }\n",
              "\n",
              "  @keyframes spin {\n",
              "    0% {\n",
              "      border-color: transparent;\n",
              "      border-bottom-color: var(--fill-color);\n",
              "      border-left-color: var(--fill-color);\n",
              "    }\n",
              "    20% {\n",
              "      border-color: transparent;\n",
              "      border-left-color: var(--fill-color);\n",
              "      border-top-color: var(--fill-color);\n",
              "    }\n",
              "    30% {\n",
              "      border-color: transparent;\n",
              "      border-left-color: var(--fill-color);\n",
              "      border-top-color: var(--fill-color);\n",
              "      border-right-color: var(--fill-color);\n",
              "    }\n",
              "    40% {\n",
              "      border-color: transparent;\n",
              "      border-right-color: var(--fill-color);\n",
              "      border-top-color: var(--fill-color);\n",
              "    }\n",
              "    60% {\n",
              "      border-color: transparent;\n",
              "      border-right-color: var(--fill-color);\n",
              "    }\n",
              "    80% {\n",
              "      border-color: transparent;\n",
              "      border-right-color: var(--fill-color);\n",
              "      border-bottom-color: var(--fill-color);\n",
              "    }\n",
              "    90% {\n",
              "      border-color: transparent;\n",
              "      border-bottom-color: var(--fill-color);\n",
              "    }\n",
              "  }\n",
              "</style>\n",
              "\n",
              "  <script>\n",
              "    async function quickchart(key) {\n",
              "      const quickchartButtonEl =\n",
              "        document.querySelector('#' + key + ' button');\n",
              "      quickchartButtonEl.disabled = true;  // To prevent multiple clicks.\n",
              "      quickchartButtonEl.classList.add('colab-df-spinner');\n",
              "      try {\n",
              "        const charts = await google.colab.kernel.invokeFunction(\n",
              "            'suggestCharts', [key], {});\n",
              "      } catch (error) {\n",
              "        console.error('Error during call to suggestCharts:', error);\n",
              "      }\n",
              "      quickchartButtonEl.classList.remove('colab-df-spinner');\n",
              "      quickchartButtonEl.classList.add('colab-df-quickchart-complete');\n",
              "    }\n",
              "    (() => {\n",
              "      let quickchartButtonEl =\n",
              "        document.querySelector('#df-7d5b3888-c60d-4f54-aaaa-73f1602eeacc button');\n",
              "      quickchartButtonEl.style.display =\n",
              "        google.colab.kernel.accessAllowed ? 'block' : 'none';\n",
              "    })();\n",
              "  </script>\n",
              "</div>\n",
              "\n",
              "    </div>\n",
              "  </div>\n"
            ],
            "application/vnd.google.colaboratory.intrinsic+json": {
              "type": "dataframe",
              "summary": "{\n  \"name\": \"mental\",\n  \"rows\": 8,\n  \"fields\": [\n    {\n      \"column\": \"age\",\n      \"properties\": {\n        \"dtype\": \"number\",\n        \"std\": 811.0248321670915,\n        \"min\": -1726.0,\n        \"max\": 1229.0,\n        \"num_unique_values\": 8,\n        \"samples\": [\n          30.80553295362083,\n          31.0,\n          1229.0\n        ],\n        \"semantic_type\": \"\",\n        \"description\": \"\"\n      }\n    },\n    {\n      \"column\": \"gender\",\n      \"properties\": {\n        \"dtype\": \"number\",\n        \"std\": 434.2546151813655,\n        \"min\": 0.0,\n        \"max\": 1229.0,\n        \"num_unique_values\": 5,\n        \"samples\": [\n          0.8006509357200976,\n          1.0,\n          0.39967360385497275\n        ],\n        \"semantic_type\": \"\",\n        \"description\": \"\"\n      }\n    },\n    {\n      \"column\": \"self_employed\",\n      \"properties\": {\n        \"dtype\": \"number\",\n        \"std\": 434.4448468584023,\n        \"min\": 0.0,\n        \"max\": 1229.0,\n        \"num_unique_values\": 5,\n        \"samples\": [\n          0.11472742066720912,\n          1.0,\n          0.31882243851592457\n        ],\n        \"semantic_type\": \"\",\n        \"description\": \"\"\n      }\n    },\n    {\n      \"column\": \"family_history\",\n      \"properties\": {\n        \"dtype\": \"number\",\n        \"std\": 434.3721242840135,\n        \"min\": 0.0,\n        \"max\": 1229.0,\n        \"num_unique_values\": 5,\n        \"samples\": [\n          0.387306753458096,\n          1.0,\n          0.48733302105979487\n        ],\n        \"semantic_type\": \"\",\n        \"description\": \"\"\n      }\n    },\n    {\n      \"column\": \"treatment\",\n      \"properties\": {\n        \"dtype\": \"number\",\n        \"std\": 434.3151733702265,\n        \"min\": 0.0,\n        \"max\": 1229.0,\n        \"num_unique_values\": 5,\n        \"samples\": [\n          0.5020341741253052,\n          1.0,\n          0.5001994020667415\n        ],\n        \"semantic_type\": \"\",\n        \"description\": \"\"\n      }\n    },\n    {\n      \"column\": \"remote_work\",\n      \"properties\": {\n        \"dtype\": \"number\",\n        \"std\": 434.3781538370024,\n        \"min\": 0.0,\n        \"max\": 1229.0,\n        \"num_unique_values\": 5,\n        \"samples\": [\n          0.2978030919446705,\n          1.0,\n          0.4574786340467946\n        ],\n        \"semantic_type\": \"\",\n        \"description\": \"\"\n      }\n    },\n    {\n      \"column\": \"tech_company\",\n      \"properties\": {\n        \"dtype\": \"number\",\n        \"std\": 434.2544409467686,\n        \"min\": 0.0,\n        \"max\": 1229.0,\n        \"num_unique_values\": 5,\n        \"samples\": [\n          0.8169243287225386,\n          1.0,\n          0.38688597875322545\n        ],\n        \"semantic_type\": \"\",\n        \"description\": \"\"\n      }\n    },\n    {\n      \"column\": \"benefits\",\n      \"properties\": {\n        \"dtype\": \"number\",\n        \"std\": 434.17360401776784,\n        \"min\": 0.0,\n        \"max\": 1229.0,\n        \"num_unique_values\": 6,\n        \"samples\": [\n          1229.0,\n          1.0260374288039056,\n          2.0\n        ],\n        \"semantic_type\": \"\",\n        \"description\": \"\"\n      }\n    },\n    {\n      \"column\": \"care_options\",\n      \"properties\": {\n        \"dtype\": \"number\",\n        \"std\": 434.2327678834978,\n        \"min\": 0.0,\n        \"max\": 1229.0,\n        \"num_unique_values\": 6,\n        \"samples\": [\n          1229.0,\n          0.8478437754271766,\n          2.0\n        ],\n        \"semantic_type\": \"\",\n        \"description\": \"\"\n      }\n    },\n    {\n      \"column\": \"wellness_program\",\n      \"properties\": {\n        \"dtype\": \"number\",\n        \"std\": 434.3046773425756,\n        \"min\": 0.0,\n        \"max\": 1229.0,\n        \"num_unique_values\": 6,\n        \"samples\": [\n          1229.0,\n          0.47762408462164363,\n          2.0\n        ],\n        \"semantic_type\": \"\",\n        \"description\": \"\"\n      }\n    },\n    {\n      \"column\": \"seek_help\",\n      \"properties\": {\n        \"dtype\": \"number\",\n        \"std\": 434.2330504492778,\n        \"min\": 0.0,\n        \"max\": 1229.0,\n        \"num_unique_values\": 5,\n        \"samples\": [\n          0.7737998372660699,\n          2.0,\n          0.8660801068222315\n        ],\n        \"semantic_type\": \"\",\n        \"description\": \"\"\n      }\n    },\n    {\n      \"column\": \"mental_health_consequence\",\n      \"properties\": {\n        \"dtype\": \"number\",\n        \"std\": 434.17064812212516,\n        \"min\": 0.0,\n        \"max\": 1229.0,\n        \"num_unique_values\": 6,\n        \"samples\": [\n          1229.0,\n          0.9951179820992677,\n          2.0\n        ],\n        \"semantic_type\": \"\",\n        \"description\": \"\"\n      }\n    },\n    {\n      \"column\": \"phys_health_consequence\",\n      \"properties\": {\n        \"dtype\": \"number\",\n        \"std\": 434.29973326878286,\n        \"min\": 0.0,\n        \"max\": 1229.0,\n        \"num_unique_values\": 6,\n        \"samples\": [\n          1229.0,\n          0.48413344182262,\n          2.0\n        ],\n        \"semantic_type\": \"\",\n        \"description\": \"\"\n      }\n    },\n    {\n      \"column\": \"coworkers\",\n      \"properties\": {\n        \"dtype\": \"number\",\n        \"std\": 434.05187562997384,\n        \"min\": 0.0,\n        \"max\": 1229.0,\n        \"num_unique_values\": 6,\n        \"samples\": [\n          1229.0,\n          1.4117168429617575,\n          2.0\n        ],\n        \"semantic_type\": \"\",\n        \"description\": \"\"\n      }\n    },\n    {\n      \"column\": \"supervisor\",\n      \"properties\": {\n        \"dtype\": \"number\",\n        \"std\": 434.1776820720434,\n        \"min\": 0.0,\n        \"max\": 1229.0,\n        \"num_unique_values\": 6,\n        \"samples\": [\n          1229.0,\n          0.9650122050447518,\n          2.0\n        ],\n        \"semantic_type\": \"\",\n        \"description\": \"\"\n      }\n    },\n    {\n      \"column\": \"mental_health_interview\",\n      \"properties\": {\n        \"dtype\": \"number\",\n        \"std\": 434.36125983624987,\n        \"min\": 0.0,\n        \"max\": 1229.0,\n        \"num_unique_values\": 5,\n        \"samples\": [\n          0.3531326281529699,\n          2.0,\n          0.7434515636606468\n        ],\n        \"semantic_type\": \"\",\n        \"description\": \"\"\n      }\n    },\n    {\n      \"column\": \"phys_health_interview\",\n      \"properties\": {\n        \"dtype\": \"number\",\n        \"std\": 434.1661566166339,\n        \"min\": 0.0,\n        \"max\": 1229.0,\n        \"num_unique_values\": 6,\n        \"samples\": [\n          1229.0,\n          1.0447518307567127,\n          2.0\n        ],\n        \"semantic_type\": \"\",\n        \"description\": \"\"\n      }\n    },\n    {\n      \"column\": \"mental_vs_physical\",\n      \"properties\": {\n        \"dtype\": \"number\",\n        \"std\": 434.162884130006,\n        \"min\": 0.0,\n        \"max\": 1229.0,\n        \"num_unique_values\": 6,\n        \"samples\": [\n          1229.0,\n          1.19446704637917,\n          2.0\n        ],\n        \"semantic_type\": \"\",\n        \"description\": \"\"\n      }\n    },\n    {\n      \"column\": \"obs_consequence\",\n      \"properties\": {\n        \"dtype\": \"number\",\n        \"std\": 434.4417299939352,\n        \"min\": 0.0,\n        \"max\": 1229.0,\n        \"num_unique_values\": 5,\n        \"samples\": [\n          0.14401952807160293,\n          1.0,\n          0.3512524630204794\n        ],\n        \"semantic_type\": \"\",\n        \"description\": \"\"\n      }\n    }\n  ]\n}"
            }
          },
          "metadata": {},
          "execution_count": 25
        }
      ]
    },
    {
      "cell_type": "code",
      "source": [
        "import matplotlib.pyplot as plt\n",
        "\n",
        "his = mental.plot.hist(column=['tech_company','treatment'], sharex=True, sharey=True)"
      ],
      "metadata": {
        "colab": {
          "base_uri": "https://localhost:8080/",
          "height": 430
        },
        "id": "nCKqkEuXO5TA",
        "outputId": "e9f7eb21-6f62-4eb2-ecb4-7554bc88feea"
      },
      "execution_count": 26,
      "outputs": [
        {
          "output_type": "display_data",
          "data": {
            "text/plain": [
              "<Figure size 640x480 with 1 Axes>"
            ],
            "image/png": "[encoded data removed]"
          },
          "metadata": {}
        }
      ]
    },
    {
      "cell_type": "code",
      "source": [
        "mental_tech = mental[mental['tech_company'] == 1]"
      ],
      "metadata": {
        "id": "R_uSl42ds0wK"
      },
      "execution_count": 27,
      "outputs": []
    },
    {
      "cell_type": "code",
      "source": [
        "mental_health_distribution = mental_tech.groupby('age_groups')[\n",
        "    ['treatment','benefits','care_options','wellness_program','seek_help']\n",
        "    ].apply(lambda x: (x == 1).mean() * 100)\n",
        "\n",
        "print(mental_health_distribution)"
      ],
      "metadata": {
        "colab": {
          "base_uri": "https://localhost:8080/"
        },
        "id": "VjEFCX_qtjVx",
        "outputId": "ce8a61e5-17f1-40b4-da43-afa15366b006"
      },
      "execution_count": 28,
      "outputs": [
        {
          "output_type": "stream",
          "name": "stdout",
          "text": [
            "             treatment   benefits  care_options  wellness_program  seek_help\n",
            "age_groups                                                                  \n",
            "Child         0.000000   0.000000     50.000000          0.000000   0.000000\n",
            "Teenager     42.105263  15.789474     15.789474          5.263158  15.789474\n",
            "Young_Adult  47.540984  32.923497     31.967213         13.934426  14.617486\n",
            "Adult        55.172414  46.305419     40.394089         18.719212  24.630542\n",
            "Senior       57.777778  48.888889     51.111111         35.555556  35.555556\n"
          ]
        },
        {
          "output_type": "stream",
          "name": "stderr",
          "text": [
            "<ipython-input-28-21936f5113d6>:1: FutureWarning: The default of observed=False is deprecated and will be changed to True in a future version of pandas. Pass observed=False to retain current behavior or observed=True to adopt the future default and silence this warning.\n",
            "  mental_health_distribution = mental_tech.groupby('age_groups')[\n"
          ]
        }
      ]
    },
    {
      "cell_type": "code",
      "source": [
        "import matplotlib.pyplot as plt\n",
        "\n",
        "mental_health_distribution.plot(kind='bar', figsize=(12, 8), colormap='viridis')\n",
        "\n",
        "plt.title('Distribution of mental health conditions among different age groups in the tech industry', fontsize=16)\n",
        "plt.xlabel('Ages groups', fontsize=12)\n",
        "plt.ylabel('%', fontsize=12)\n",
        "plt.legend(title='Mental health', fontsize=10)\n",
        "plt.xticks(rotation=45)\n",
        "plt.tight_layout()\n",
        "plt.show()"
      ],
      "metadata": {
        "colab": {
          "base_uri": "https://localhost:8080/",
          "height": 544
        },
        "id": "e2IQdiLbuACI",
        "outputId": "3da2f83e-e49f-47b2-9505-938ef29566ec"
      },
      "execution_count": 29,
      "outputs": [
        {
          "output_type": "display_data",
          "data": {
            "text/plain": [
              "<Figure size 1200x800 with 1 Axes>"
            ],
            "image/png": "[encoded data removed]"
          },
          "metadata": {}
        }
      ]
    },
    {
      "cell_type": "markdown",
      "source": [
        "We can see here, that an older people asking for mental help often in tech industry. We can see why it happens - they have wellness programms and care options and they can feel more confident in mental health question. On the one hand, they seek help more often, on the other hand, this indicates their confidence that it will be confidential and they will receive help. In turn, the younger generation seeks help less often, but this does not mean that there are no problems. We see that in most cases they do not have additional health programs, so it is more difficult for them to find help and they are scared to talk about it."
      ],
      "metadata": {
        "id": "hejGB66fQd_j"
      }
    },
    {
      "cell_type": "code",
      "source": [
        "print(mental['no_employees'].unique())\n"
      ],
      "metadata": {
        "colab": {
          "base_uri": "https://localhost:8080/"
        },
        "id": "DwM8JsO_xbfw",
        "outputId": "e1618f7b-e37c-4333-80c1-628849d5b6fb"
      },
      "execution_count": 34,
      "outputs": [
        {
          "output_type": "stream",
          "name": "stdout",
          "text": [
            "['1-5' '6-25' '100-500' '26-100' 'More than 1000' '500-1000']\n"
          ]
        }
      ]
    },
    {
      "cell_type": "code",
      "source": [
        "import numpy as np\n",
        "conditions = [\n",
        "    mental['no_employees'].isin(['1-5', '6-25']),\n",
        "    mental['no_employees'].isin(['26-100']),\n",
        "    mental['no_employees'].isin(['100-500']),\n",
        "    mental['no_employees'].isin(['More than 1000', '500-1000'])\n",
        "]\n",
        "\n",
        "labels = ['small', 'medium', 'big', 'corp']\n",
        "\n",
        "mental['company_size'] = np.select(conditions, labels, default='NaN')\n",
        "\n",
        "print(mental[['no_employees', 'company_size']].head())"
      ],
      "metadata": {
        "colab": {
          "base_uri": "https://localhost:8080/"
        },
        "id": "95ImYS1lzAcW",
        "outputId": "ddd6a2a3-461c-4d03-cad9-eb0aa9b55c61"
      },
      "execution_count": 36,
      "outputs": [
        {
          "output_type": "stream",
          "name": "stdout",
          "text": [
            "   no_employees company_size\n",
            "18          1-5        small\n",
            "19         6-25        small\n",
            "20      100-500          big\n",
            "21          1-5        small\n",
            "22       26-100       medium\n"
          ]
        }
      ]
    },
    {
      "cell_type": "code",
      "source": [
        "gender_distribution = mental.groupby(['gender','company_size'])[\n",
        "    ['treatment','benefits','care_options','wellness_program','seek_help', 'no_employees']\n",
        "    ].apply(lambda x: (x == 1).mean() * 100)\n",
        "\n",
        "print(gender_distribution)"
      ],
      "metadata": {
        "colab": {
          "base_uri": "https://localhost:8080/"
        },
        "id": "x64S06g8vwq1",
        "outputId": "8d67eb73-11c4-4d96-be29-4f95f74406c5"
      },
      "execution_count": 39,
      "outputs": [
        {
          "output_type": "stream",
          "name": "stdout",
          "text": [
            "                     treatment   benefits  care_options  wellness_program  \\\n",
            "gender company_size                                                         \n",
            "0      big           70.454545  52.272727     31.818182         13.636364   \n",
            "       corp          64.634146  74.390244     57.317073         35.365854   \n",
            "       medium        71.698113  47.169811     45.283019         18.867925   \n",
            "       small         68.181818  25.757576     34.848485         13.636364   \n",
            "1      big           48.031496  42.519685     32.283465         15.748031   \n",
            "       corp          46.062992  61.023622     37.795276         37.401575   \n",
            "       medium        46.521739  32.173913     30.000000         12.608696   \n",
            "       small         44.235925  15.013405     31.635389          6.702413   \n",
            "\n",
            "                     seek_help  no_employees  \n",
            "gender company_size                           \n",
            "0      big            6.818182           0.0  \n",
            "       corp          41.463415           0.0  \n",
            "       medium        15.094340           0.0  \n",
            "       small         16.666667           0.0  \n",
            "1      big           22.047244           0.0  \n",
            "       corp          41.338583           0.0  \n",
            "       medium        10.869565           0.0  \n",
            "       small          8.310992           0.0  \n"
          ]
        }
      ]
    },
    {
      "cell_type": "code",
      "source": [
        "import matplotlib.pyplot as plt\n",
        "import seaborn as sns\n",
        "g = sns.FacetGrid(mental, col='gender', height=5, aspect=1.2)\n",
        "\n",
        "g.map(sns.barplot, 'company_size', 'treatment', order=['small', 'medium', 'big', 'corp'], errorbar=None, palette='viridis')\n",
        "\n",
        "g.set_axis_labels(\"Company size\", \"seek help %\")\n",
        "g.set_titles(\"{col_name}\")\n",
        "g.set_xticklabels(rotation=45)\n",
        "g.fig.suptitle(\"Seek help %: men and women\", fontsize=16)\n",
        "g.tight_layout(rect=[0, 0, 1, 0.95])\n",
        "\n",
        "plt.show()"
      ],
      "metadata": {
        "colab": {
          "base_uri": "https://localhost:8080/",
          "height": 541
        },
        "id": "VVllSygywWr4",
        "outputId": "be3f9400-8ad3-47ef-9033-012dcae0ab22"
      },
      "execution_count": 45,
      "outputs": [
        {
          "output_type": "stream",
          "name": "stderr",
          "text": [
            "/usr/local/lib/python3.10/dist-packages/seaborn/axisgrid.py:854: FutureWarning: \n",
            "\n",
            "Passing `palette` without assigning `hue` is deprecated and will be removed in v0.14.0. Assign the `x` variable to `hue` and set `legend=False` for the same effect.\n",
            "\n",
            "  func(*plot_args, **plot_kwargs)\n",
            "/usr/local/lib/python3.10/dist-packages/seaborn/axisgrid.py:854: FutureWarning: \n",
            "\n",
            "Passing `palette` without assigning `hue` is deprecated and will be removed in v0.14.0. Assign the `x` variable to `hue` and set `legend=False` for the same effect.\n",
            "\n",
            "  func(*plot_args, **plot_kwargs)\n"
          ]
        },
        {
          "output_type": "display_data",
          "data": {
            "text/plain": [
              "<Figure size 1200x500 with 2 Axes>"
            ],
            "image/png": "[encoded data removed]"
          },
          "metadata": {}
        }
      ]
    },
    {
      "cell_type": "markdown",
      "source": [
        "In our sample, the number of men predominates, and it is difficult to judge how often they seek help compared to women. However, it can be noted that such a factor as the size of the company does not affect this indicator. The conditions that the company provides in the field of health maintenance and the provision of additional programs have a greater impact."
      ],
      "metadata": {
        "id": "81-_ALNBxIjA"
      }
    },
    {
      "cell_type": "code",
      "source": [
        "country_mental_health = mental_tech.groupby('country')['treatment'].mean() * 100\n",
        "\n",
        "highest_rate_country = country_mental_health.idxmax()\n",
        "lowest_rate_country = country_mental_health.idxmin()\n",
        "\n",
        "highest_rate = country_mental_health.max()\n",
        "lowest_rate = country_mental_health.min()\n",
        "\n",
        "import matplotlib.pyplot as plt\n",
        "import seaborn as sns\n",
        "\n",
        "plt.figure(figsize=(12, 8))\n",
        "country_mental_health.sort_values(ascending=False).plot(kind='bar', color='teal')\n",
        "\n",
        "plt.title('Reported Rates of Mental Health Issues by Country in the Tech Industry', fontsize=16)\n",
        "plt.xlabel('Country', fontsize=12)\n",
        "plt.ylabel('Percentage of Individuals Reporting Mental Health Issues', fontsize=12)\n",
        "plt.xticks(rotation=90)\n",
        "plt.tight_layout()\n",
        "\n",
        "plt.show()"
      ],
      "metadata": {
        "colab": {
          "base_uri": "https://localhost:8080/",
          "height": 544
        },
        "id": "m9yfg35_1y1F",
        "outputId": "a38bb709-0d2a-40ad-db58-d7397cd14ce4"
      },
      "execution_count": 47,
      "outputs": [
        {
          "output_type": "display_data",
          "data": {
            "text/plain": [
              "<Figure size 1200x800 with 1 Axes>"
            ],
            "image/png": "[encoded data removed]"
          },
          "metadata": {}
        }
      ]
    },
    {
      "cell_type": "markdown",
      "source": [
        "A large number of European countries, as well as the USA and Canada, stand out on this list. This tells us that in these countries, companies in tech industry are providing more mental health management options to workers. On the other hand, this shows us that in these countries the level of stress at work is high, which causes mental health problems to arise and people seek help. too low level of requests suggests that perhaps in these countries there is not enough attention to mental health issues, people are afraid to seek help or they do not have such opportunities, because companies do not invest enough in the development of additional programs for employees\n",
        "\n"
      ],
      "metadata": {
        "id": "PQEyynW12lmO"
      }
    }
  ]
}