{
  "nbformat": 4,
  "nbformat_minor": 0,
  "metadata": {
    "colab": {
      "provenance": []
    },
    "kernelspec": {
      "name": "python3",
      "display_name": "Python 3"
    },
    "language_info": {
      "name": "python"
    }
  },
  "cells": [
    {
      "cell_type": "code",
      "execution_count": 2,
      "metadata": {
        "colab": {
          "base_uri": "https://localhost:8080/"
        },
        "id": "MGVbNApOGbuR",
        "outputId": "8d91afef-7454-4541-aace-8dcef3cdc353"
      },
      "outputs": [
        {
          "output_type": "stream",
          "name": "stdout",
          "text": [
            "Archive:  Data_Science_Job_Salary_dataset.zip\n",
            "  inflating: Data Science Job Salary dataset/datascience_salaries.csv  \n"
          ]
        }
      ],
      "source": [
        "#Daily Challenge: Data Handling and Analysis in Python\n",
        "!unzip Data_Science_Job_Salary_dataset.zip\n"
      ]
    },
    {
      "cell_type": "code",
      "source": [
        "import pandas as pd\n",
        "\n",
        "science = pd.read_csv('datascience_salaries.csv')\n",
        "\n",
        "print(science.head())\n",
        "print(science.info())"
      ],
      "metadata": {
        "colab": {
          "base_uri": "https://localhost:8080/"
        },
        "id": "fOQhUZXmG4F5",
        "outputId": "d7546208-4090-469f-caf5-7acce830943d"
      },
      "execution_count": 6,
      "outputs": [
        {
          "output_type": "stream",
          "name": "stdout",
          "text": [
            "   Unnamed: 0       job_title   job_type experience_level       location  \\\n",
            "0           0  Data scientist  Full Time           Senior  New York City   \n",
            "1           2  Data scientist  Full Time           Senior         Boston   \n",
            "2           3  Data scientist  Full Time           Senior         London   \n",
            "3           4  Data scientist  Full Time           Senior         Boston   \n",
            "4           5  Data scientist  Full Time           Senior  New York City   \n",
            "\n",
            "  salary_currency  salary  \n",
            "0             USD  149000  \n",
            "1             USD  120000  \n",
            "2             USD   68000  \n",
            "3             USD  120000  \n",
            "4             USD  149000  \n",
            "<class 'pandas.core.frame.DataFrame'>\n",
            "RangeIndex: 1171 entries, 0 to 1170\n",
            "Data columns (total 7 columns):\n",
            " #   Column            Non-Null Count  Dtype \n",
            "---  ------            --------------  ----- \n",
            " 0   Unnamed: 0        1171 non-null   int64 \n",
            " 1   job_title         1171 non-null   object\n",
            " 2   job_type          1171 non-null   object\n",
            " 3   experience_level  1171 non-null   object\n",
            " 4   location          1171 non-null   object\n",
            " 5   salary_currency   1171 non-null   object\n",
            " 6   salary            1171 non-null   int64 \n",
            "dtypes: int64(2), object(5)\n",
            "memory usage: 64.2+ KB\n",
            "None\n"
          ]
        }
      ]
    },
    {
      "cell_type": "code",
      "source": [
        "print(science[['job_title','job_type']].head())"
      ],
      "metadata": {
        "colab": {
          "base_uri": "https://localhost:8080/"
        },
        "id": "pEtTcRAIIGN3",
        "outputId": "a89b5588-c0b3-45db-cd0c-43d74f9b91d5"
      },
      "execution_count": 8,
      "outputs": [
        {
          "output_type": "stream",
          "name": "stdout",
          "text": [
            "        job_title   job_type\n",
            "0  Data scientist  Full Time\n",
            "1  Data scientist  Full Time\n",
            "2  Data scientist  Full Time\n",
            "3  Data scientist  Full Time\n",
            "4  Data scientist  Full Time\n"
          ]
        }
      ]
    },
    {
      "cell_type": "code",
      "source": [
        "from sklearn.preprocessing import MinMaxScaler\n",
        "science[['salary']] = MinMaxScaler().fit_transform(science[['salary']])\n",
        "print(science['salary'].head())"
      ],
      "metadata": {
        "colab": {
          "base_uri": "https://localhost:8080/"
        },
        "id": "OMHQZCofHIZr",
        "outputId": "792cfe66-3890-4237-fbab-5ce21c3c6213"
      },
      "execution_count": 7,
      "outputs": [
        {
          "output_type": "stream",
          "name": "stdout",
          "text": [
            "0    0.601010\n",
            "1    0.454545\n",
            "2    0.191919\n",
            "3    0.454545\n",
            "4    0.601010\n",
            "Name: salary, dtype: float64\n"
          ]
        }
      ]
    },
    {
      "cell_type": "code",
      "source": [
        "from sklearn.decomposition import PCA\n",
        "pca = PCA(n_components=1)\n",
        "science['salary'] = pca.fit_transform(science[['salary']])\n",
        "print(science['salary'].head())\n"
      ],
      "metadata": {
        "colab": {
          "base_uri": "https://localhost:8080/"
        },
        "id": "qe--pwclKERK",
        "outputId": "de07e807-b855-4ce4-df49-67299410e5c5"
      },
      "execution_count": 13,
      "outputs": [
        {
          "output_type": "stream",
          "name": "stdout",
          "text": [
            "0    0.425071\n",
            "1    0.278606\n",
            "2    0.015980\n",
            "3    0.278606\n",
            "4    0.425071\n",
            "Name: salary, dtype: float64\n"
          ]
        }
      ]
    },
    {
      "cell_type": "code",
      "source": [
        "salary_stats = science.groupby('experience_level').agg(average_salary=('salary', 'mean'),median_salary=('salary', 'median'))\n",
        "print(salary_stats)"
      ],
      "metadata": {
        "colab": {
          "base_uri": "https://localhost:8080/"
        },
        "id": "GBBfW-PbKcD3",
        "outputId": "356e9df5-713e-4787-f4f7-564853aafd3a"
      },
      "execution_count": 30,
      "outputs": [
        {
          "output_type": "stream",
          "name": "stdout",
          "text": [
            "                  average_salary  median_salary\n",
            "experience_level                               \n",
            "Junior                  0.015980       0.015980\n",
            "Mid-level               0.023785       0.026081\n",
            "Senior                       NaN            NaN\n"
          ]
        },
        {
          "output_type": "stream",
          "name": "stderr",
          "text": [
            "<ipython-input-30-32b8af7ecd07>:1: FutureWarning: The default of observed=False is deprecated and will be changed to True in a future version of pandas. Pass observed=False to retain current behavior or observed=True to adopt the future default and silence this warning.\n",
            "  salary_stats = science.groupby('experience_level').agg(average_salary=('salary', 'mean'),median_salary=('salary', 'median'))\n"
          ]
        }
      ]
    }
  ]
}