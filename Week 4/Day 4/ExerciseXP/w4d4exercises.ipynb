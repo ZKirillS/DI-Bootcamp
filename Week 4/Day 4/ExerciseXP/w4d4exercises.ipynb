{
  "nbformat": 4,
  "nbformat_minor": 0,
  "metadata": {
    "colab": {
      "provenance": []
    },
    "kernelspec": {
      "name": "python3",
      "display_name": "Python 3"
    },
    "language_info": {
      "name": "python"
    }
  },
  "cells": [
    {
      "cell_type": "code",
      "execution_count": 1,
      "metadata": {
        "colab": {
          "base_uri": "https://localhost:8080/"
        },
        "id": "NIaPUjoLZo8I",
        "outputId": "90d027a1-b4d6-4535-836c-cbfc28239169"
      },
      "outputs": [
        {
          "output_type": "stream",
          "name": "stdout",
          "text": [
            "Archive:  titanic.zip\n",
            "  inflating: titanic dataset/gender_submission.csv  \n",
            "  inflating: titanic dataset/test.csv  \n",
            "  inflating: titanic dataset/train.csv  \n"
          ]
        }
      ],
      "source": [
        "!unzip titanic.zip"
      ]
    },
    {
      "cell_type": "code",
      "source": [
        "import pandas as pd\n",
        "titanic_data = pd.read_csv('titanic dataset/train.csv')\n",
        "\n",
        "print(titanic_data.head())\n",
        "print(titanic_data.info())"
      ],
      "metadata": {
        "colab": {
          "base_uri": "https://localhost:8080/"
        },
        "id": "G-1KhlllaVA8",
        "outputId": "acf7aa3b-3231-46ca-812b-70b25a64c0ec"
      },
      "execution_count": 4,
      "outputs": [
        {
          "output_type": "stream",
          "name": "stdout",
          "text": [
            "   PassengerId  Survived  Pclass  \\\n",
            "0            1         0       3   \n",
            "1            2         1       1   \n",
            "2            3         1       3   \n",
            "3            4         1       1   \n",
            "4            5         0       3   \n",
            "\n",
            "                                                Name     Sex   Age  SibSp  \\\n",
            "0                            Braund, Mr. Owen Harris    male  22.0      1   \n",
            "1  Cumings, Mrs. John Bradley (Florence Briggs Th...  female  38.0      1   \n",
            "2                             Heikkinen, Miss. Laina  female  26.0      0   \n",
            "3       Futrelle, Mrs. Jacques Heath (Lily May Peel)  female  35.0      1   \n",
            "4                           Allen, Mr. William Henry    male  35.0      0   \n",
            "\n",
            "   Parch            Ticket     Fare Cabin Embarked  \n",
            "0      0         A/5 21171   7.2500   NaN        S  \n",
            "1      0          PC 17599  71.2833   C85        C  \n",
            "2      0  STON/O2. 3101282   7.9250   NaN        S  \n",
            "3      0            113803  53.1000  C123        S  \n",
            "4      0            373450   8.0500   NaN        S  \n",
            "<class 'pandas.core.frame.DataFrame'>\n",
            "RangeIndex: 891 entries, 0 to 890\n",
            "Data columns (total 12 columns):\n",
            " #   Column       Non-Null Count  Dtype  \n",
            "---  ------       --------------  -----  \n",
            " 0   PassengerId  891 non-null    int64  \n",
            " 1   Survived     891 non-null    int64  \n",
            " 2   Pclass       891 non-null    int64  \n",
            " 3   Name         891 non-null    object \n",
            " 4   Sex          891 non-null    object \n",
            " 5   Age          714 non-null    float64\n",
            " 6   SibSp        891 non-null    int64  \n",
            " 7   Parch        891 non-null    int64  \n",
            " 8   Ticket       891 non-null    object \n",
            " 9   Fare         891 non-null    float64\n",
            " 10  Cabin        204 non-null    object \n",
            " 11  Embarked     889 non-null    object \n",
            "dtypes: float64(2), int64(5), object(5)\n",
            "memory usage: 83.7+ KB\n",
            "None\n"
          ]
        }
      ]
    },
    {
      "cell_type": "code",
      "source": [
        "#Exercise 1: Duplicate Detection and Removal\n",
        "duplicated_rows = titanic_data.duplicated()\n",
        "print(duplicated_rows.sum())\n",
        "titanic_data.duplicated().sum()\n",
        "print(titanic_data.duplicated().sum())\n",
        "titanic_clean = titanic_data.drop_duplicates()\n"
      ],
      "metadata": {
        "colab": {
          "base_uri": "https://localhost:8080/"
        },
        "id": "BWVgbB5nasak",
        "outputId": "0e70b5cd-c2ea-4ee0-a275-897b51409d66"
      },
      "execution_count": 18,
      "outputs": [
        {
          "output_type": "stream",
          "name": "stdout",
          "text": [
            "0\n",
            "0\n"
          ]
        }
      ]
    },
    {
      "cell_type": "code",
      "source": [
        "#Exercise 2: Handling Missing Values\n",
        "#columns with missing values - Age, Cabin, Embarked\n",
        "#Removing\n",
        "#print(titanic_clean.columns)\n",
        "#titanic_clean = titanic_clean.drop(['cabin'], axis=1)\n",
        "#Imputing\n",
        "titanic_clean['Age'] = titanic_clean['Age'].fillna(titanic_clean.groupby(['Pclass','Sex'])['Age'].transform('median'))\n",
        "titanic_clean['Embarked'] = titanic_clean['Embarked'].fillna(titanic_clean['Embarked'].mode()[0])\n",
        "print(titanic_clean.info())\n",
        "\n",
        "\n",
        "\n"
      ],
      "metadata": {
        "colab": {
          "base_uri": "https://localhost:8080/"
        },
        "id": "3j-5m0gdbpmu",
        "outputId": "4962ac6e-88af-4cd7-9fe2-afc133d912cf"
      },
      "execution_count": 26,
      "outputs": [
        {
          "output_type": "stream",
          "name": "stdout",
          "text": [
            "<class 'pandas.core.frame.DataFrame'>\n",
            "RangeIndex: 891 entries, 0 to 890\n",
            "Data columns (total 11 columns):\n",
            " #   Column       Non-Null Count  Dtype  \n",
            "---  ------       --------------  -----  \n",
            " 0   PassengerId  891 non-null    int64  \n",
            " 1   Survived     891 non-null    int64  \n",
            " 2   Pclass       891 non-null    int64  \n",
            " 3   Name         891 non-null    object \n",
            " 4   Sex          891 non-null    object \n",
            " 5   Age          891 non-null    float64\n",
            " 6   SibSp        891 non-null    int64  \n",
            " 7   Parch        891 non-null    int64  \n",
            " 8   Ticket       891 non-null    object \n",
            " 9   Fare         891 non-null    float64\n",
            " 10  Embarked     891 non-null    object \n",
            "dtypes: float64(2), int64(5), object(4)\n",
            "memory usage: 76.7+ KB\n",
            "None\n"
          ]
        }
      ]
    },
    {
      "cell_type": "code",
      "source": [
        "# Exercise 3: Feature Engineering\n",
        "titanic_clean['FamilySize'] = titanic_clean['SibSp'] + titanic_clean['Parch'] + 1\n",
        "\n",
        "titanic_clean['Title'] = titanic_clean['Name'].str.split(',').str[1].str.split('.').str[0]\n",
        "print(titanic_clean.info())"
      ],
      "metadata": {
        "colab": {
          "base_uri": "https://localhost:8080/"
        },
        "id": "KAkG5orU02Rl",
        "outputId": "0f907a52-feee-4431-ed8c-ecea245dce5e"
      },
      "execution_count": 28,
      "outputs": [
        {
          "output_type": "stream",
          "name": "stdout",
          "text": [
            "<class 'pandas.core.frame.DataFrame'>\n",
            "RangeIndex: 891 entries, 0 to 890\n",
            "Data columns (total 13 columns):\n",
            " #   Column       Non-Null Count  Dtype  \n",
            "---  ------       --------------  -----  \n",
            " 0   PassengerId  891 non-null    int64  \n",
            " 1   Survived     891 non-null    int64  \n",
            " 2   Pclass       891 non-null    int64  \n",
            " 3   Name         891 non-null    object \n",
            " 4   Sex          891 non-null    object \n",
            " 5   Age          891 non-null    float64\n",
            " 6   SibSp        891 non-null    int64  \n",
            " 7   Parch        891 non-null    int64  \n",
            " 8   Ticket       891 non-null    object \n",
            " 9   Fare         891 non-null    float64\n",
            " 10  Embarked     891 non-null    object \n",
            " 11  FamilySize   891 non-null    int64  \n",
            " 12  Title        891 non-null    object \n",
            "dtypes: float64(2), int64(6), object(5)\n",
            "memory usage: 90.6+ KB\n",
            "None\n"
          ]
        }
      ]
    },
    {
      "cell_type": "code",
      "source": [
        "from sklearn.preprocessing import LabelEncoder\n",
        "titanic_clean['Sex'] = LabelEncoder().fit_transform(titanic_clean['Sex'])\n",
        "print(titanic_clean.info())"
      ],
      "metadata": {
        "colab": {
          "base_uri": "https://localhost:8080/"
        },
        "id": "M62nFoRF2o8A",
        "outputId": "405d4b6b-2e17-40d3-d2af-d36d6e70cd68"
      },
      "execution_count": 30,
      "outputs": [
        {
          "output_type": "stream",
          "name": "stdout",
          "text": [
            "<class 'pandas.core.frame.DataFrame'>\n",
            "RangeIndex: 891 entries, 0 to 890\n",
            "Data columns (total 13 columns):\n",
            " #   Column       Non-Null Count  Dtype  \n",
            "---  ------       --------------  -----  \n",
            " 0   PassengerId  891 non-null    int64  \n",
            " 1   Survived     891 non-null    int64  \n",
            " 2   Pclass       891 non-null    int64  \n",
            " 3   Name         891 non-null    object \n",
            " 4   Sex          891 non-null    int64  \n",
            " 5   Age          891 non-null    float64\n",
            " 6   SibSp        891 non-null    int64  \n",
            " 7   Parch        891 non-null    int64  \n",
            " 8   Ticket       891 non-null    object \n",
            " 9   Fare         891 non-null    float64\n",
            " 10  Embarked     891 non-null    object \n",
            " 11  FamilySize   891 non-null    int64  \n",
            " 12  Title        891 non-null    object \n",
            "dtypes: float64(2), int64(7), object(4)\n",
            "memory usage: 90.6+ KB\n",
            "None\n"
          ]
        }
      ]
    },
    {
      "cell_type": "code",
      "source": [
        "data = pd.get_dummies(titanic_clean, columns=['Embarked'], drop_first=True)\n",
        "print(data.info())"
      ],
      "metadata": {
        "colab": {
          "base_uri": "https://localhost:8080/"
        },
        "id": "PHKahbny3s97",
        "outputId": "3dd29ee6-a456-4e4c-ec4e-838ea817d74e"
      },
      "execution_count": 31,
      "outputs": [
        {
          "output_type": "stream",
          "name": "stdout",
          "text": [
            "<class 'pandas.core.frame.DataFrame'>\n",
            "RangeIndex: 891 entries, 0 to 890\n",
            "Data columns (total 14 columns):\n",
            " #   Column       Non-Null Count  Dtype  \n",
            "---  ------       --------------  -----  \n",
            " 0   PassengerId  891 non-null    int64  \n",
            " 1   Survived     891 non-null    int64  \n",
            " 2   Pclass       891 non-null    int64  \n",
            " 3   Name         891 non-null    object \n",
            " 4   Sex          891 non-null    int64  \n",
            " 5   Age          891 non-null    float64\n",
            " 6   SibSp        891 non-null    int64  \n",
            " 7   Parch        891 non-null    int64  \n",
            " 8   Ticket       891 non-null    object \n",
            " 9   Fare         891 non-null    float64\n",
            " 10  FamilySize   891 non-null    int64  \n",
            " 11  Title        891 non-null    object \n",
            " 12  Embarked_Q   891 non-null    bool   \n",
            " 13  Embarked_S   891 non-null    bool   \n",
            "dtypes: bool(2), float64(2), int64(7), object(3)\n",
            "memory usage: 85.4+ KB\n",
            "None\n"
          ]
        }
      ]
    },
    {
      "cell_type": "code",
      "source": [
        "from sklearn.preprocessing import StandardScaler\n",
        "\n",
        "titanic_clean[['Age', 'SibSp', 'Parch']] = StandardScaler().fit_transform(titanic_clean[['Age', 'SibSp', 'Parch']])\n",
        "print(titanic_clean.info())\n",
        "print(titanic_clean.head())\n"
      ],
      "metadata": {
        "colab": {
          "base_uri": "https://localhost:8080/"
        },
        "id": "1rWG0Ois4LLP",
        "outputId": "587e3787-ffdf-4d3b-ee66-1f59fb49683a"
      },
      "execution_count": 36,
      "outputs": [
        {
          "output_type": "stream",
          "name": "stdout",
          "text": [
            "<class 'pandas.core.frame.DataFrame'>\n",
            "RangeIndex: 891 entries, 0 to 890\n",
            "Data columns (total 13 columns):\n",
            " #   Column       Non-Null Count  Dtype  \n",
            "---  ------       --------------  -----  \n",
            " 0   PassengerId  891 non-null    int64  \n",
            " 1   Survived     891 non-null    int64  \n",
            " 2   Pclass       891 non-null    int64  \n",
            " 3   Name         891 non-null    object \n",
            " 4   Sex          891 non-null    int64  \n",
            " 5   Age          891 non-null    float64\n",
            " 6   SibSp        891 non-null    float64\n",
            " 7   Parch        891 non-null    float64\n",
            " 8   Ticket       891 non-null    object \n",
            " 9   Fare         891 non-null    float64\n",
            " 10  Embarked     891 non-null    object \n",
            " 11  FamilySize   891 non-null    float64\n",
            " 12  Title        891 non-null    object \n",
            "dtypes: float64(5), int64(4), object(4)\n",
            "memory usage: 90.6+ KB\n",
            "None\n",
            "   PassengerId  Survived  Pclass  \\\n",
            "0            1         0       2   \n",
            "1            2         1       0   \n",
            "2            3         1       2   \n",
            "3            4         1       0   \n",
            "4            5         0       2   \n",
            "\n",
            "                                                Name  Sex       Age     SibSp  \\\n",
            "0                            Braund, Mr. Owen Harris    1 -0.534891  0.432793   \n",
            "1  Cumings, Mrs. John Bradley (Florence Briggs Th...    0  0.668392  0.432793   \n",
            "2                             Heikkinen, Miss. Laina    0 -0.234070 -0.474545   \n",
            "3       Futrelle, Mrs. Jacques Heath (Lily May Peel)    0  0.442776  0.432793   \n",
            "4                           Allen, Mr. William Henry    1  0.442776 -0.474545   \n",
            "\n",
            "      Parch            Ticket     Fare Embarked  FamilySize  Title  \n",
            "0 -0.473674         A/5 21171   7.2500        S    0.059160     Mr  \n",
            "1 -0.473674          PC 17599  71.2833        C    0.059160    Mrs  \n",
            "2 -0.473674  STON/O2. 3101282   7.9250        S   -0.560975   Miss  \n",
            "3 -0.473674            113803  53.1000        S    0.059160    Mrs  \n",
            "4 -0.473674            373450   8.0500        S   -0.560975     Mr  \n"
          ]
        }
      ]
    },
    {
      "cell_type": "code",
      "source": [
        "#Exercise 4: Outlier Detection and Handling\n",
        "\n",
        "Q1 = titanic_clean['Fare'].quantile(0.25)\n",
        "Q3 = titanic_clean['Fare'].quantile(0.75)\n",
        "IQR = Q3 - Q1\n",
        "outlier_condition = (titanic_clean['Fare'] < (Q1 - 1.5 * IQR)) | (titanic_clean['Fare'] > (Q3 + 1.5 * IQR))\n",
        "outliers = titanic_clean[outlier_condition]\n",
        "print(outliers)\n"
      ],
      "metadata": {
        "colab": {
          "base_uri": "https://localhost:8080/"
        },
        "id": "k_FmTw9y5DDD",
        "outputId": "2c46c407-4b12-4828-a829-b28f4166c935"
      },
      "execution_count": 37,
      "outputs": [
        {
          "output_type": "stream",
          "name": "stdout",
          "text": [
            "     PassengerId  Survived  Pclass  \\\n",
            "1              2         1       0   \n",
            "27            28         0       0   \n",
            "31            32         1       0   \n",
            "34            35         0       0   \n",
            "52            53         1       0   \n",
            "..           ...       ...     ...   \n",
            "846          847         0       2   \n",
            "849          850         1       0   \n",
            "856          857         1       0   \n",
            "863          864         0       2   \n",
            "879          880         1       0   \n",
            "\n",
            "                                                  Name  Sex       Age  \\\n",
            "1    Cumings, Mrs. John Bradley (Florence Briggs Th...    0  0.668392   \n",
            "27                      Fortune, Mr. Charles Alexander    1 -0.760507   \n",
            "31      Spencer, Mrs. William Augustus (Marie Eugenie)    0  0.442776   \n",
            "34                             Meyer, Mr. Edgar Joseph    1 -0.083660   \n",
            "52            Harper, Mrs. Henry Sleeper (Myna Haxtun)    0  1.495649   \n",
            "..                                                 ...  ...       ...   \n",
            "846                           Sage, Mr. Douglas Bullen    1 -0.309276   \n",
            "849       Goldenberg, Mrs. Samuel L (Edwiga Grabowska)    0  0.442776   \n",
            "856         Wick, Mrs. George Dennick (Mary Hitchcock)    0  1.194828   \n",
            "863                  Sage, Miss. Dorothy Edith \"Dolly\"    0 -0.572494   \n",
            "879      Potter, Mrs. Thomas Jr (Lily Alexenia Wilson)    0  2.022085   \n",
            "\n",
            "        SibSp     Parch    Ticket      Fare Embarked  FamilySize  Title  \n",
            "1    0.432793 -0.473674  PC 17599   71.2833        C    0.059160    Mrs  \n",
            "27   2.247470  2.008933     19950  263.0000        S    2.539699     Mr  \n",
            "31   0.432793 -0.473674  PC 17569  146.5208        C    0.059160    Mrs  \n",
            "34   0.432793 -0.473674  PC 17604   82.1708        C    0.059160     Mr  \n",
            "52   0.432793 -0.473674  PC 17572   76.7292        C    0.059160    Mrs  \n",
            "..        ...       ...       ...       ...      ...         ...    ...  \n",
            "846  6.784163  2.008933  CA. 2343   69.5500        S    5.640372     Mr  \n",
            "849  0.432793 -0.473674     17453   89.1042        C    0.059160    Mrs  \n",
            "856  0.432793  0.767630     36928  164.8667        S    0.679295    Mrs  \n",
            "863  6.784163  2.008933  CA. 2343   69.5500        S    5.640372   Miss  \n",
            "879 -0.474545  0.767630     11767   83.1583        C    0.059160    Mrs  \n",
            "\n",
            "[116 rows x 13 columns]\n"
          ]
        }
      ]
    },
    {
      "cell_type": "code",
      "source": [
        "Q1 = titanic_clean['Age'].quantile(0.25)\n",
        "Q3 = titanic_clean['Age'].quantile(0.75)\n",
        "IQR = Q3 - Q1\n",
        "outlier_condition = (titanic_clean['Age'] < (Q1 - 1.5 * IQR)) | (titanic_clean['Age'] > (Q3 + 1.5 * IQR))\n",
        "outliers = titanic_clean[outlier_condition]\n",
        "print(outliers)"
      ],
      "metadata": {
        "colab": {
          "base_uri": "https://localhost:8080/"
        },
        "id": "iJvVx8qZ51vC",
        "outputId": "458b80d1-8b07-4ae9-9727-79f8cb4da634"
      },
      "execution_count": 38,
      "outputs": [
        {
          "output_type": "stream",
          "name": "stdout",
          "text": [
            "     PassengerId  Survived  Pclass  \\\n",
            "11            12         1       0   \n",
            "33            34         0       1   \n",
            "54            55         0       0   \n",
            "94            95         0       2   \n",
            "96            97         0       0   \n",
            "116          117         0       2   \n",
            "170          171         0       0   \n",
            "195          196         1       0   \n",
            "232          233         0       1   \n",
            "252          253         0       0   \n",
            "268          269         1       0   \n",
            "275          276         1       0   \n",
            "280          281         0       2   \n",
            "326          327         0       2   \n",
            "366          367         1       0   \n",
            "438          439         0       0   \n",
            "456          457         0       0   \n",
            "483          484         1       2   \n",
            "487          488         0       0   \n",
            "493          494         0       0   \n",
            "545          546         0       0   \n",
            "555          556         0       0   \n",
            "570          571         1       1   \n",
            "587          588         1       0   \n",
            "625          626         0       0   \n",
            "630          631         1       0   \n",
            "659          660         0       0   \n",
            "672          673         0       1   \n",
            "684          685         0       1   \n",
            "694          695         0       0   \n",
            "745          746         0       0   \n",
            "829          830         1       0   \n",
            "851          852         0       2   \n",
            "\n",
            "                                                 Name  Sex       Age  \\\n",
            "11                           Bonnell, Miss. Elizabeth    0  2.172495   \n",
            "33                              Wheadon, Mr. Edward H    1  2.774137   \n",
            "54                     Ostby, Mr. Engelhart Cornelius    1  2.698932   \n",
            "94                                  Coxon, Mr. Daniel    1  2.247701   \n",
            "96                          Goldschmidt, Mr. George B    1  3.150163   \n",
            "116                              Connors, Mr. Patrick    1  3.112560   \n",
            "170                         Van der hoef, Mr. Wyckoff    1  2.398111   \n",
            "195                              Lurette, Miss. Elise    0  2.172495   \n",
            "232                         Sjostedt, Mr. Ernst Adolf    1  2.247701   \n",
            "252                         Stead, Mr. William Thomas    1  2.473316   \n",
            "268     Graham, Mrs. William Thompson (Edith Junkins)    0  2.172495   \n",
            "275                 Andrews, Miss. Kornelia Theodosia    0  2.548521   \n",
            "280                                  Duane, Mr. Frank    1  2.698932   \n",
            "326                         Nysveen, Mr. Johan Hansen    1  2.398111   \n",
            "366  Warren, Mrs. Frank Manley (Anna Sophia Atkinson)    0  2.322906   \n",
            "438                                 Fortune, Mr. Mark    1  2.623727   \n",
            "456                         Millet, Mr. Francis Davis    1  2.698932   \n",
            "483                            Turkula, Mrs. (Hedwig)    0  2.548521   \n",
            "487                           Kent, Mr. Edward Austin    1  2.172495   \n",
            "493                           Artagaveytia, Mr. Ramon    1  3.150163   \n",
            "545                      Nicholson, Mr. Arthur Ernest    1  2.623727   \n",
            "555                                Wright, Mr. George    1  2.473316   \n",
            "570                                Harris, Mr. George    1  2.473316   \n",
            "587                  Frolicher-Stehli, Mr. Maxmillian    1  2.322906   \n",
            "625                             Sutton, Mr. Frederick    1  2.398111   \n",
            "630              Barkworth, Mr. Algernon Henry Wilson    1  3.827009   \n",
            "659                        Newell, Mr. Arthur Webster    1  2.172495   \n",
            "672                       Mitchell, Mr. Henry Michael    1  3.074958   \n",
            "684                 Brown, Mr. Thomas William Solomon    1  2.322906   \n",
            "694                                   Weir, Col. John    1  2.322906   \n",
            "745                      Crosby, Capt. Edward Gifford    1  3.074958   \n",
            "829         Stone, Mrs. George Nelson (Martha Evelyn)    0  2.473316   \n",
            "851                               Svensson, Mr. Johan    1  3.375778   \n",
            "\n",
            "        SibSp     Parch       Ticket      Fare Embarked  FamilySize  Title  \n",
            "11  -0.474545 -0.473674       113783   26.5500        S   -0.560975   Miss  \n",
            "33  -0.474545 -0.473674   C.A. 24579   10.5000        S   -0.560975     Mr  \n",
            "54  -0.474545  0.767630       113509   61.9792        C    0.059160     Mr  \n",
            "94  -0.474545 -0.473674       364500    7.2500        S   -0.560975     Mr  \n",
            "96  -0.474545 -0.473674     PC 17754   34.6542        C   -0.560975     Mr  \n",
            "116 -0.474545 -0.473674       370369    7.7500        Q   -0.560975     Mr  \n",
            "170 -0.474545 -0.473674       111240   33.5000        S   -0.560975     Mr  \n",
            "195 -0.474545 -0.473674     PC 17569  146.5208        C   -0.560975   Miss  \n",
            "232 -0.474545 -0.473674       237442   13.5000        S   -0.560975     Mr  \n",
            "252 -0.474545 -0.473674       113514   26.5500        S   -0.560975     Mr  \n",
            "268 -0.474545  0.767630     PC 17582  153.4625        S    0.059160    Mrs  \n",
            "275  0.432793 -0.473674        13502   77.9583        S    0.059160   Miss  \n",
            "280 -0.474545 -0.473674       336439    7.7500        Q   -0.560975     Mr  \n",
            "326 -0.474545 -0.473674       345364    6.2375        S   -0.560975     Mr  \n",
            "366  0.432793 -0.473674       110813   75.2500        C    0.059160    Mrs  \n",
            "438  0.432793  4.491540        19950  263.0000        S    2.539699     Mr  \n",
            "456 -0.474545 -0.473674        13509   26.5500        S   -0.560975     Mr  \n",
            "483 -0.474545 -0.473674         4134    9.5875        S   -0.560975    Mrs  \n",
            "487 -0.474545 -0.473674        11771   29.7000        C   -0.560975     Mr  \n",
            "493 -0.474545 -0.473674     PC 17609   49.5042        C   -0.560975     Mr  \n",
            "545 -0.474545 -0.473674          693   26.0000        S   -0.560975     Mr  \n",
            "555 -0.474545 -0.473674       113807   26.5500        S   -0.560975     Mr  \n",
            "570 -0.474545 -0.473674  S.W./PP 752   10.5000        S   -0.560975     Mr  \n",
            "587  0.432793  0.767630        13567   79.2000        C    0.679295     Mr  \n",
            "625 -0.474545 -0.473674        36963   32.3208        S   -0.560975     Mr  \n",
            "630 -0.474545 -0.473674        27042   30.0000        S   -0.560975     Mr  \n",
            "659 -0.474545  2.008933        35273  113.2750        C    0.679295     Mr  \n",
            "672 -0.474545 -0.473674   C.A. 24580   10.5000        S   -0.560975     Mr  \n",
            "684  0.432793  0.767630        29750   39.0000        S    0.679295     Mr  \n",
            "694 -0.474545 -0.473674       113800   26.5500        S   -0.560975    Col  \n",
            "745  0.432793  0.767630    WE/P 5735   71.0000        S    0.679295   Capt  \n",
            "829 -0.474545 -0.473674       113572   80.0000        S   -0.560975    Mrs  \n",
            "851 -0.474545 -0.473674       347060    7.7750        S   -0.560975     Mr  \n"
          ]
        }
      ]
    },
    {
      "cell_type": "code",
      "source": [
        "import numpy as np\n",
        "titanic_clean['Fare_log'] = np.log1p(titanic_clean['Fare'])\n",
        "print(titanic_clean.head())"
      ],
      "metadata": {
        "colab": {
          "base_uri": "https://localhost:8080/"
        },
        "id": "pmQg0s5W6IeY",
        "outputId": "366c7008-92dc-4ca1-9c85-21d6990c5a6c"
      },
      "execution_count": 49,
      "outputs": [
        {
          "output_type": "stream",
          "name": "stdout",
          "text": [
            "   PassengerId  Survived  Pclass  \\\n",
            "0            1         0       2   \n",
            "1            2         1       0   \n",
            "2            3         1       2   \n",
            "3            4         1       0   \n",
            "4            5         0       2   \n",
            "\n",
            "                                                Name  Sex       Age     SibSp  \\\n",
            "0                            Braund, Mr. Owen Harris    1 -1.450231  0.432793   \n",
            "1  Cumings, Mrs. John Bradley (Florence Briggs Th...    0  0.413341  0.432793   \n",
            "2                             Heikkinen, Miss. Laina    0 -0.310153 -0.474545   \n",
            "3       Futrelle, Mrs. Jacques Heath (Lily May Peel)    0  0.312303  0.432793   \n",
            "4                           Allen, Mr. William Henry    1  0.312303 -0.474545   \n",
            "\n",
            "      Parch            Ticket     Fare Embarked  FamilySize  Title   Age_log  \\\n",
            "0 -0.473674         A/5 21171   7.2500        S    0.059160     Mr       NaN   \n",
            "1 -0.473674          PC 17599  71.2833        C    0.059160    Mrs  0.345956   \n",
            "2 -0.473674  STON/O2. 3101282   7.9250        S   -0.560975   Miss -0.371285   \n",
            "3 -0.473674            113803  53.1000        S    0.059160    Mrs  0.271784   \n",
            "4 -0.473674            373450   8.0500        S   -0.560975     Mr  0.271784   \n",
            "\n",
            "   Fare_log  \n",
            "0  2.110213  \n",
            "1  4.280593  \n",
            "2  2.188856  \n",
            "3  3.990834  \n",
            "4  2.202765  \n"
          ]
        }
      ]
    },
    {
      "cell_type": "code",
      "source": [
        "lower_bound = Q1 - 1.5 * IQR\n",
        "upper_bound = Q3 + 1.5 * IQR\n",
        "\n",
        "titanic_clean2 = ~((titanic_clean[['Age', 'Fare']]< lower_bound) | (titanic_clean[['Age', 'Fare']]> upper_bound)).any(axis=1)\n",
        "titanic_clean = titanic_clean[titanic_clean2]\n",
        "print(titanic_clean.info())"
      ],
      "metadata": {
        "colab": {
          "base_uri": "https://localhost:8080/"
        },
        "id": "EwX0KfuO8bjJ",
        "outputId": "cba6cf2f-7a7c-4a68-cc43-7e40b56485da"
      },
      "execution_count": 55,
      "outputs": [
        {
          "output_type": "stream",
          "name": "stdout",
          "text": [
            "<class 'pandas.core.frame.DataFrame'>\n",
            "Index: 15 entries, 179 to 822\n",
            "Data columns (total 15 columns):\n",
            " #   Column       Non-Null Count  Dtype  \n",
            "---  ------       --------------  -----  \n",
            " 0   PassengerId  15 non-null     int64  \n",
            " 1   Survived     15 non-null     int64  \n",
            " 2   Pclass       15 non-null     int64  \n",
            " 3   Name         15 non-null     object \n",
            " 4   Sex          15 non-null     int64  \n",
            " 5   Age          14 non-null     float64\n",
            " 6   SibSp        15 non-null     float64\n",
            " 7   Parch        15 non-null     float64\n",
            " 8   Ticket       15 non-null     object \n",
            " 9   Fare         15 non-null     float64\n",
            " 10  Embarked     15 non-null     object \n",
            " 11  FamilySize   15 non-null     float64\n",
            " 12  Title        15 non-null     object \n",
            " 13  Age_log      14 non-null     float64\n",
            " 14  Fare_log     15 non-null     float64\n",
            "dtypes: float64(7), int64(4), object(4)\n",
            "memory usage: 1.9+ KB\n",
            "None\n"
          ]
        }
      ]
    },
    {
      "cell_type": "code",
      "source": [
        "#Exercise 5: Data Standardization and Normalization\n",
        "from sklearn.preprocessing import StandardScaler\n",
        "titanic_clean[['Age']] = StandardScaler().fit_transform(titanic_clean[['Age']])\n",
        "print(titanic_clean.head())\n"
      ],
      "metadata": {
        "colab": {
          "base_uri": "https://localhost:8080/"
        },
        "id": "5v1ME3AG-Hri",
        "outputId": "f0d51d8a-5b1a-4e11-917e-5e1e497d41b8"
      },
      "execution_count": 57,
      "outputs": [
        {
          "output_type": "stream",
          "name": "stdout",
          "text": [
            "     PassengerId  Survived  Pclass                             Name  Sex  \\\n",
            "179          180         0       2              Leonard, Mr. Lionel    1   \n",
            "263          264         0       0            Harrison, Mr. William    1   \n",
            "271          272         1       2     Tornquist, Mr. William Henry    1   \n",
            "277          278         0       1      Parkes, Mr. Francis \"Frank\"    1   \n",
            "302          303         0       2  Johnson, Mr. William Cahoone Jr    1   \n",
            "\n",
            "          Age     SibSp     Parch  Ticket  Fare Embarked  FamilySize Title  \\\n",
            "179  0.438247 -0.474545 -0.473674    LINE   0.0        S   -0.560975    Mr   \n",
            "263  0.869145 -0.474545 -0.473674  112059   0.0        S   -0.560975    Mr   \n",
            "271 -2.472144 -0.474545 -0.473674    LINE   0.0        S   -0.560975    Mr   \n",
            "277 -0.588975 -0.474545 -0.473674  239853   0.0        S   -0.560975    Mr   \n",
            "302       NaN -0.474545 -0.473674    LINE   0.0        S   -0.560975    Mr   \n",
            "\n",
            "      Age_log  Fare_log  \n",
            "179  0.299224       0.0  \n",
            "263  0.384490       0.0  \n",
            "271 -0.620005       0.0  \n",
            "277  0.060733       0.0  \n",
            "302       NaN       0.0  \n"
          ]
        }
      ]
    },
    {
      "cell_type": "code",
      "source": [
        "from sklearn.preprocessing import MinMaxScaler\n",
        "titanic_clean[['Survived']] = MinMaxScaler().fit_transform(titanic_clean[['Survived']])\n",
        "print(data.head())"
      ],
      "metadata": {
        "colab": {
          "base_uri": "https://localhost:8080/"
        },
        "id": "jFGLXmeE-vem",
        "outputId": "13fa1f16-5d8d-4d19-93e5-7e175d238433"
      },
      "execution_count": 58,
      "outputs": [
        {
          "output_type": "stream",
          "name": "stdout",
          "text": [
            "   PassengerId  Survived  Pclass  \\\n",
            "0            1         0       2   \n",
            "1            2         1       0   \n",
            "2            3         1       2   \n",
            "3            4         1       0   \n",
            "4            5         0       2   \n",
            "\n",
            "                                                Name  Sex   Age  SibSp  Parch  \\\n",
            "0                            Braund, Mr. Owen Harris    1  22.0      1      0   \n",
            "1  Cumings, Mrs. John Bradley (Florence Briggs Th...    0  38.0      1      0   \n",
            "2                             Heikkinen, Miss. Laina    0  26.0      0      0   \n",
            "3       Futrelle, Mrs. Jacques Heath (Lily May Peel)    0  35.0      1      0   \n",
            "4                           Allen, Mr. William Henry    1  35.0      0      0   \n",
            "\n",
            "             Ticket     Fare  FamilySize  Title  Embarked_Q  Embarked_S  \n",
            "0         A/5 21171   7.2500           2     Mr       False        True  \n",
            "1          PC 17599  71.2833           2    Mrs       False       False  \n",
            "2  STON/O2. 3101282   7.9250           1   Miss       False        True  \n",
            "3            113803  53.1000           2    Mrs       False        True  \n",
            "4            373450   8.0500           1     Mr       False        True  \n"
          ]
        }
      ]
    },
    {
      "cell_type": "code",
      "source": [
        "#Exercise 6: Feature Encoding\n",
        "new_data = pd.get_dummies(titanic_clean, columns=['Sex'], drop_first=True)\n",
        "print(new_data.head())"
      ],
      "metadata": {
        "colab": {
          "base_uri": "https://localhost:8080/"
        },
        "id": "FzJ36QIaBDnI",
        "outputId": "1c6597b9-250c-4c95-89b2-7df87a2f3937"
      },
      "execution_count": 63,
      "outputs": [
        {
          "output_type": "stream",
          "name": "stdout",
          "text": [
            "     PassengerId  Survived  Pclass                             Name       Age  \\\n",
            "179          180       0.0       2              Leonard, Mr. Lionel  0.438247   \n",
            "263          264       0.0       0            Harrison, Mr. William  0.869145   \n",
            "271          272       1.0       2     Tornquist, Mr. William Henry -2.472144   \n",
            "277          278       0.0       1      Parkes, Mr. Francis \"Frank\" -0.588975   \n",
            "302          303       0.0       2  Johnson, Mr. William Cahoone Jr       NaN   \n",
            "\n",
            "        SibSp     Parch  Ticket  Fare Embarked  FamilySize Title   Age_log  \\\n",
            "179 -0.474545 -0.473674    LINE   0.0        S   -0.560975    Mr  0.299224   \n",
            "263 -0.474545 -0.473674  112059   0.0        S   -0.560975    Mr  0.384490   \n",
            "271 -0.474545 -0.473674    LINE   0.0        S   -0.560975    Mr -0.620005   \n",
            "277 -0.474545 -0.473674  239853   0.0        S   -0.560975    Mr  0.060733   \n",
            "302 -0.474545 -0.473674    LINE   0.0        S   -0.560975    Mr       NaN   \n",
            "\n",
            "     Fare_log  \n",
            "179       0.0  \n",
            "263       0.0  \n",
            "271       0.0  \n",
            "277       0.0  \n",
            "302       0.0  \n"
          ]
        }
      ]
    },
    {
      "cell_type": "code",
      "source": [
        "from sklearn.preprocessing import LabelEncoder\n",
        "titanic_clean['Pclass'] = LabelEncoder().fit_transform(titanic_clean['Pclass'])\n",
        "print(titanic_clean.head())"
      ],
      "metadata": {
        "colab": {
          "base_uri": "https://localhost:8080/"
        },
        "id": "ks4xG5mKC3fM",
        "outputId": "b9c69198-a75c-4d09-cc68-3acc6556cecd"
      },
      "execution_count": 64,
      "outputs": [
        {
          "output_type": "stream",
          "name": "stdout",
          "text": [
            "     PassengerId  Survived  Pclass                             Name  Sex  \\\n",
            "179          180       0.0       2              Leonard, Mr. Lionel    1   \n",
            "263          264       0.0       0            Harrison, Mr. William    1   \n",
            "271          272       1.0       2     Tornquist, Mr. William Henry    1   \n",
            "277          278       0.0       1      Parkes, Mr. Francis \"Frank\"    1   \n",
            "302          303       0.0       2  Johnson, Mr. William Cahoone Jr    1   \n",
            "\n",
            "          Age     SibSp     Parch  Ticket  Fare Embarked  FamilySize Title  \\\n",
            "179  0.438247 -0.474545 -0.473674    LINE   0.0        S   -0.560975    Mr   \n",
            "263  0.869145 -0.474545 -0.473674  112059   0.0        S   -0.560975    Mr   \n",
            "271 -2.472144 -0.474545 -0.473674    LINE   0.0        S   -0.560975    Mr   \n",
            "277 -0.588975 -0.474545 -0.473674  239853   0.0        S   -0.560975    Mr   \n",
            "302       NaN -0.474545 -0.473674    LINE   0.0        S   -0.560975    Mr   \n",
            "\n",
            "      Age_log  Fare_log  \n",
            "179  0.299224       0.0  \n",
            "263  0.384490       0.0  \n",
            "271 -0.620005       0.0  \n",
            "277  0.060733       0.0  \n",
            "302       NaN       0.0  \n"
          ]
        }
      ]
    },
    {
      "cell_type": "code",
      "source": [
        "#Exercise 7: Data Transformation for Age Feature\n",
        "import pandas as pd\n",
        "bins = [0, 14, 20, 35, 45,60]\n",
        "bins_labels = ['Child', 'Teenager', 'Young Adult', 'Adult', 'Senior']\n",
        "titanic_clean['Age_groups'] = pd.cut(titanic_clean['Age'], bins=bins, labels=bins_labels)\n",
        "titanic_clean = pd.get_dummies(titanic_clean, columns=['Age_groups'], prefix='Age_groups', drop_first=False)\n",
        "print(titanic_clean.head())\n"
      ],
      "metadata": {
        "colab": {
          "base_uri": "https://localhost:8080/"
        },
        "id": "R1bAG8MjEOfq",
        "outputId": "c9f027ee-af5c-4c7c-c7ad-4cb6cf3d7707"
      },
      "execution_count": 77,
      "outputs": [
        {
          "output_type": "stream",
          "name": "stdout",
          "text": [
            "     PassengerId  Survived  Pclass                             Name  Sex  \\\n",
            "179          180       0.0       2              Leonard, Mr. Lionel    1   \n",
            "263          264       0.0       0            Harrison, Mr. William    1   \n",
            "271          272       1.0       2     Tornquist, Mr. William Henry    1   \n",
            "277          278       0.0       1      Parkes, Mr. Francis \"Frank\"    1   \n",
            "302          303       0.0       2  Johnson, Mr. William Cahoone Jr    1   \n",
            "\n",
            "          Age     SibSp     Parch  Ticket  Fare  ... Fare_log  \\\n",
            "179  0.438247 -0.474545 -0.473674    LINE   0.0  ...      0.0   \n",
            "263  0.869145 -0.474545 -0.473674  112059   0.0  ...      0.0   \n",
            "271 -2.472144 -0.474545 -0.473674    LINE   0.0  ...      0.0   \n",
            "277 -0.588975 -0.474545 -0.473674  239853   0.0  ...      0.0   \n",
            "302       NaN -0.474545 -0.473674    LINE   0.0  ...      0.0   \n",
            "\n",
            "     Age_groups_Child  Age_groups_Teenager  Age_groups_Young Adult  \\\n",
            "179              True                False                   False   \n",
            "263              True                False                   False   \n",
            "271             False                False                   False   \n",
            "277             False                False                   False   \n",
            "302             False                False                   False   \n",
            "\n",
            "     Age_groups_Adult  Age_groups_Child  Age_groups_Teenager  \\\n",
            "179             False              True                False   \n",
            "263             False              True                False   \n",
            "271             False             False                False   \n",
            "277             False             False                False   \n",
            "302             False             False                False   \n",
            "\n",
            "     Age_groups_Young Adult  Age_groups_Adult  Age_groups_Senior  \n",
            "179                   False             False              False  \n",
            "263                   False             False              False  \n",
            "271                   False             False              False  \n",
            "277                   False             False              False  \n",
            "302                   False             False              False  \n",
            "\n",
            "[5 rows x 24 columns]\n"
          ]
        }
      ]
    },
    {
      "cell_type": "markdown",
      "source": [],
      "metadata": {
        "id": "1KqgcuCKC9kN"
      }
    }
  ]
}