{
  "nbformat": 4,
  "nbformat_minor": 0,
  "metadata": {
    "colab": {
      "provenance": []
    },
    "kernelspec": {
      "name": "python3",
      "display_name": "Python 3"
    },
    "language_info": {
      "name": "python"
    }
  },
  "cells": [
    {
      "cell_type": "markdown",
      "source": [
        "Exercise 1: Identifying Data Types\n",
        "Below are various data sources. Identify whether each one is an example of structured or unstructured data.\n",
        "\n",
        "A company’s financial reports stored in an Excel file.\n",
        "Its structured data, bcs its an Exel file with columns and rows, organized, and its easy to store and analyze\n",
        "\n",
        "Photographs uploaded to a social media platform.\n",
        "Its unstructured data, that contains images which are unstructured by itself\n",
        "\n",
        "\n",
        "A collection of news articles on a website.\n",
        "Its unstructured data\n",
        "That data contains text, which may be categorized by date or title, but he has not specific format that can be stored in table or database easily\n",
        "\n",
        "Inventory data in a relational database.\n",
        "Its a structured data, organized with columns and rows and easily accessible\n",
        "\n",
        "\n",
        "Recorded interviews from a market research stud\n",
        "Its unstructured, bcs its an audio file(s) or video(s), and requires transcription to extract infrmation, that can be organized after\n"
      ],
      "metadata": {
        "id": "9TYLFsHwgpsx"
      }
    },
    {
      "cell_type": "markdown",
      "source": [
        "Exercise 2: Transformation Exercise\n",
        "For each of the following unstructured data sources, propose a method to convert it into structured data. Explain your reasoning.\n",
        "\n",
        "A series of blog posts about travel experiences.\n",
        "I can take text with text-mining method and extract some information like date, location, countries, places, prices, i can find some markers which activity was in this place, is it a positive or negative expirience. I can break the text into word, phrase and extract different topics, which can be columns for my data set.\n",
        "\n",
        "Audio recordings of customer service calls.\n",
        "Here i need to convert speech into text and analyse the text.\n",
        "In text im searching for specific words - topics, it was a problems or positive customer expiriences, which type of problems that was, some details like date, phone number, name of customer, wich product of the company that was, how the problem was solved.\n",
        "\n",
        "Handwritten notes from a brainstorming session.\n",
        "I need to convert this text into machine-readable text with Google Vision for example and then manually pick some ideas by key words, categories, name of contributors or priority.\n",
        "\n",
        "\n",
        "A video tutorial on cooking.\n",
        "I need video transcription software to convert audio data into a text.\n",
        "After i can identify wich ingridients was used, some cooking techniques, timings, what actions you need to do step by step and some advices\n",
        "\n",
        "\n"
      ],
      "metadata": {
        "id": "88g0OGDHiRrz"
      }
    },
    {
      "cell_type": "code",
      "execution_count": 7,
      "metadata": {
        "colab": {
          "base_uri": "https://localhost:8080/"
        },
        "id": "ndwt9Y5Kgd82",
        "outputId": "c3b5e245-ee1e-4fb2-dc9d-aee59ac47c9f"
      },
      "outputs": [
        {
          "output_type": "stream",
          "name": "stdout",
          "text": [
            "            0         1       2   \\\n",
            "0  PassengerId  Survived  Pclass   \n",
            "1            1         0       3   \n",
            "2            2         1       1   \n",
            "3            3         1       3   \n",
            "4            4         1       1   \n",
            "\n",
            "                                                  3       4    5      6   \\\n",
            "0                                               Name     Sex  Age  SibSp   \n",
            "1                            Braund, Mr. Owen Harris    male   22      1   \n",
            "2  Cumings, Mrs. John Bradley (Florence Briggs Th...  female   38      1   \n",
            "3                             Heikkinen, Miss. Laina  female   26      0   \n",
            "4       Futrelle, Mrs. Jacques Heath (Lily May Peel)  female   35      1   \n",
            "\n",
            "      7                 8        9      10        11  \n",
            "0  Parch            Ticket     Fare  Cabin  Embarked  \n",
            "1      0         A/5 21171     7.25    NaN         S  \n",
            "2      0          PC 17599  71.2833    C85         C  \n",
            "3      0  STON/O2. 3101282    7.925    NaN         S  \n",
            "4      0            113803     53.1   C123         S  \n"
          ]
        }
      ],
      "source": [
        "\n",
        "#🌟 Exercise 3 : Import a file from Kaggle\n",
        "#Import the titanic dataset that you can find on Kaggle.\n",
        "#Print the first few rows of the DataFrame.\n",
        "import pandas as pd\n",
        "titanic = pd.read_csv('/content/train.csv', header=None)\n",
        "print(titanic.head())\n",
        "\n",
        "\n"
      ]
    },
    {
      "cell_type": "code",
      "source": [
        "#Exercise 4: Importing a CSV File\n",
        "#Use the Iris Dataset CSV.\n",
        "\n",
        "#Download the Iris dataset CSV file and place it in the same directory as your Jupyter Notebook.\n",
        "#Import the CSV file using Pandas.\n",
        "#Display the first five rows of the dataset.\n",
        "\n",
        "import pandas as pd\n",
        "iris_data = pd.read_csv('/content/Iris_dataset.csv', header=None)\n",
        "print(iris_data.head())\n",
        "\n",
        "\n"
      ],
      "metadata": {
        "colab": {
          "base_uri": "https://localhost:8080/"
        },
        "id": "r9VUV3fBpkDt",
        "outputId": "8d9008d2-9037-4fdf-f09b-c5c1678de778"
      },
      "execution_count": 10,
      "outputs": [
        {
          "output_type": "stream",
          "name": "stdout",
          "text": [
            "     0    1    2    3            4\n",
            "0  5.1  3.5  1.4  0.2  Iris-setosa\n",
            "1  4.9  3.0  1.4  0.2  Iris-setosa\n",
            "2  4.7  3.2  1.3  0.2  Iris-setosa\n",
            "3  4.6  3.1  1.5  0.2  Iris-setosa\n",
            "4  5.0  3.6  1.4  0.2  Iris-setosa\n"
          ]
        }
      ]
    },
    {
      "cell_type": "code",
      "source": [
        "# Exercise 5 : Export a dataframe to excel format and JSON format.\n",
        "#Create a simple dataframe.\n",
        "#Export the dataframe to an excel file.\n",
        "#Export the dataframe to a JSON file.\n",
        "import pandas as pd\n",
        "users = {\n",
        "    'Name': ['Alex', 'Vladimir', 'Avraam', 'Gretta','Mike'],\n",
        "    'Age': [25, 30, 32, 28, 36],\n",
        "    'City': ['New York', 'Moscow', 'Tel-Aviv', 'London','Paris']\n",
        "}\n",
        "\n",
        "\n",
        "df = pd.DataFrame(users)\n",
        "print(df)\n",
        "\n",
        "df.to_excel('users.xlsx', index=False)\n",
        "df.to_json('users.json')\n",
        "\n"
      ],
      "metadata": {
        "colab": {
          "base_uri": "https://localhost:8080/"
        },
        "id": "Mo_xSMcLr4nT",
        "outputId": "e2123543-98e3-4838-be62-17c32a9b3f43"
      },
      "execution_count": 16,
      "outputs": [
        {
          "output_type": "stream",
          "name": "stdout",
          "text": [
            "       Name  Age      City\n",
            "0      Alex   25  New York\n",
            "1  Vladimir   30    Moscow\n",
            "2    Avraam   32  Tel-Aviv\n",
            "3    Gretta   28    London\n",
            "4      Mike   36     Paris\n"
          ]
        }
      ]
    },
    {
      "cell_type": "code",
      "source": [
        "#Exercise 6: Reading JSON Data\n",
        "#Use a sample JSON dataset\n",
        "\n",
        "#Import the JSON data from the provided URL.\n",
        "#Use Pandas to read the JSON data.\n",
        "#Display the first five entries of the data.\n",
        "\n",
        "import pandas as pd\n",
        "\n",
        "posts = pd.read_json('/content/posts.json')\n",
        "print(posts.head())\n"
      ],
      "metadata": {
        "colab": {
          "base_uri": "https://localhost:8080/"
        },
        "id": "SflutkbGtXl0",
        "outputId": "5b4da0b1-a7fa-420e-dd9c-0189bd7654fe"
      },
      "execution_count": 17,
      "outputs": [
        {
          "output_type": "stream",
          "name": "stdout",
          "text": [
            "   userId  id                                              title  \\\n",
            "0       1   1  sunt aut facere repellat provident occaecati e...   \n",
            "1       1   2                                       qui est esse   \n",
            "2       1   3  ea molestias quasi exercitationem repellat qui...   \n",
            "3       1   4                               eum et est occaecati   \n",
            "4       1   5                                 nesciunt quas odio   \n",
            "\n",
            "                                                body  \n",
            "0  quia et suscipit\\nsuscipit recusandae consequu...  \n",
            "1  est rerum tempore vitae\\nsequi sint nihil repr...  \n",
            "2  et iusto sed quo iure\\nvoluptatem occaecati om...  \n",
            "3  ullam et saepe reiciendis voluptatem adipisci\\...  \n",
            "4  repudiandae veniam quaerat sunt sed\\nalias aut...  \n"
          ]
        }
      ]
    }
  ]
}