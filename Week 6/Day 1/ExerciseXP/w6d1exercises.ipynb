{
  "nbformat": 4,
  "nbformat_minor": 0,
  "metadata": {
    "colab": {
      "provenance": []
    },
    "kernelspec": {
      "name": "python3",
      "display_name": "Python 3"
    },
    "language_info": {
      "name": "python"
    }
  },
  "cells": [
    {
      "cell_type": "code",
      "source": [
        "# Exercise 1 : Array Creation and Manipulation\n",
        "import numpy as np\n",
        "array_1d = np.array([0,1,2,3,4,5,6,7,8,9])\n",
        "array_1d"
      ],
      "metadata": {
        "colab": {
          "base_uri": "https://localhost:8080/"
        },
        "id": "lsvJOCSjBcMl",
        "outputId": "e0fb3b83-eee9-434f-d69c-1d62d41b6813"
      },
      "execution_count": 17,
      "outputs": [
        {
          "output_type": "execute_result",
          "data": {
            "text/plain": [
              "array([0, 1, 2, 3, 4, 5, 6, 7, 8, 9])"
            ]
          },
          "metadata": {},
          "execution_count": 17
        }
      ]
    },
    {
      "cell_type": "code",
      "source": [
        "#Exercise 2 : Type Conversion and Array Operations\n",
        "list1 = [3.14,2.17,0,1,2]\n",
        "array2 = np.array(list1)\n",
        "array2 = array2.astype(int)\n",
        "array2"
      ],
      "metadata": {
        "colab": {
          "base_uri": "https://localhost:8080/"
        },
        "id": "jJccqwqQB0RP",
        "outputId": "464d784d-e424-440d-effd-856f88c3f072"
      },
      "execution_count": 20,
      "outputs": [
        {
          "output_type": "execute_result",
          "data": {
            "text/plain": [
              "array([3, 2, 0, 1, 2])"
            ]
          },
          "metadata": {},
          "execution_count": 20
        }
      ]
    },
    {
      "cell_type": "code",
      "source": [
        "# Exercise 3 : Working with Multi-Dimensional Arrays\n",
        "array3x3 = np.array([[1,2,3],[4,5,6],[7,8,9]])\n",
        "array3x3"
      ],
      "metadata": {
        "colab": {
          "base_uri": "https://localhost:8080/"
        },
        "id": "BDufLt-YC5k4",
        "outputId": "1dda7c5b-9f16-435f-fae8-3b697e5433ab"
      },
      "execution_count": 21,
      "outputs": [
        {
          "output_type": "execute_result",
          "data": {
            "text/plain": [
              "array([[1, 2, 3],\n",
              "       [4, 5, 6],\n",
              "       [7, 8, 9]])"
            ]
          },
          "metadata": {},
          "execution_count": 21
        }
      ]
    },
    {
      "cell_type": "code",
      "source": [
        "#  Exercise 4 : Creating Multi-Dimensional Array with Random Numbers\n",
        "array_floats = np.random.rand(4,5)\n",
        "array_floats = np.around(array_floats,2)\n",
        "array_floats"
      ],
      "metadata": {
        "colab": {
          "base_uri": "https://localhost:8080/"
        },
        "id": "xXkEuvwmDJ7T",
        "outputId": "e2090bdc-3a4f-4eff-e496-5e1275543102"
      },
      "execution_count": 34,
      "outputs": [
        {
          "output_type": "execute_result",
          "data": {
            "text/plain": [
              "array([[0.42, 0.54, 0.72, 0.75, 0.15],\n",
              "       [0.96, 0.9 , 0.65, 0.54, 0.53],\n",
              "       [0.55, 0.01, 0.11, 0.05, 0.53],\n",
              "       [0.29, 0.76, 0.02, 0.05, 0.96]])"
            ]
          },
          "metadata": {},
          "execution_count": 34
        }
      ]
    },
    {
      "cell_type": "code",
      "source": [
        "# Exercise 5 : Indexing Arrays\n",
        "array_floats[1] #selecting 2nd row"
      ],
      "metadata": {
        "colab": {
          "base_uri": "https://localhost:8080/"
        },
        "id": "LZa2vjdHEQib",
        "outputId": "988dc503-7f7b-42b7-93a3-5f223d4df12d"
      },
      "execution_count": 35,
      "outputs": [
        {
          "output_type": "execute_result",
          "data": {
            "text/plain": [
              "array([0.96, 0.9 , 0.65, 0.54, 0.53])"
            ]
          },
          "metadata": {},
          "execution_count": 35
        }
      ]
    },
    {
      "cell_type": "code",
      "source": [
        "# Exercise 6 : Reversing elements\n",
        "array_3 = np.array([0,1,2,3,4,5,6,7,8,9])\n",
        "new_array = array_3[::-1]\n",
        "new_array"
      ],
      "metadata": {
        "colab": {
          "base_uri": "https://localhost:8080/"
        },
        "id": "WbDks6qQEt-1",
        "outputId": "abbf0f9d-792e-478a-ec69-7ce515ff08b6"
      },
      "execution_count": 36,
      "outputs": [
        {
          "output_type": "execute_result",
          "data": {
            "text/plain": [
              "array([9, 8, 7, 6, 5, 4, 3, 2, 1, 0])"
            ]
          },
          "metadata": {},
          "execution_count": 36
        }
      ]
    },
    {
      "cell_type": "code",
      "source": [
        "# Exercise 7 : Identity Matrix\n",
        "matrix_array = np.identity(4)\n",
        "matrix_array"
      ],
      "metadata": {
        "colab": {
          "base_uri": "https://localhost:8080/"
        },
        "id": "Ipr71TRDFAXi",
        "outputId": "5e85e1ae-9024-42aa-dc83-5de5aef0cdb4"
      },
      "execution_count": 42,
      "outputs": [
        {
          "output_type": "execute_result",
          "data": {
            "text/plain": [
              "array([[1., 0., 0., 0.],\n",
              "       [0., 1., 0., 0.],\n",
              "       [0., 0., 1., 0.],\n",
              "       [0., 0., 0., 1.]])"
            ]
          },
          "metadata": {},
          "execution_count": 42
        }
      ]
    },
    {
      "cell_type": "code",
      "source": [
        "# Exercise 8 : Simple Aggregate Funcs\n",
        "print(f'Sum:{array_3.sum()}, Average: {array_3.mean()}')"
      ],
      "metadata": {
        "colab": {
          "base_uri": "https://localhost:8080/"
        },
        "id": "ArQCDATUGBEf",
        "outputId": "ec78d85a-e32a-46a3-bee3-e9c3ec28da11"
      },
      "execution_count": 46,
      "outputs": [
        {
          "output_type": "stream",
          "name": "stdout",
          "text": [
            "Sum:45, Average: 4.5\n"
          ]
        }
      ]
    },
    {
      "cell_type": "code",
      "source": [
        "#Exercise 9 : Create Array and Change its Structure\n",
        "array_20 = np.arange(1,21)\n",
        "array_20.reshape(4,5)"
      ],
      "metadata": {
        "colab": {
          "base_uri": "https://localhost:8080/"
        },
        "id": "nMsiULjfGcv5",
        "outputId": "25ac8737-f03d-4b4e-da4f-4dfee2166561"
      },
      "execution_count": 55,
      "outputs": [
        {
          "output_type": "execute_result",
          "data": {
            "text/plain": [
              "array([[ 1,  2,  3,  4,  5],\n",
              "       [ 6,  7,  8,  9, 10],\n",
              "       [11, 12, 13, 14, 15],\n",
              "       [16, 17, 18, 19, 20]])"
            ]
          },
          "metadata": {},
          "execution_count": 55
        }
      ]
    },
    {
      "cell_type": "code",
      "source": [
        "# Exercise 10 : Conditional Selection of Values\n",
        "array_3[array_3%2==1]"
      ],
      "metadata": {
        "colab": {
          "base_uri": "https://localhost:8080/"
        },
        "id": "sBLimoTPG9LK",
        "outputId": "49c542f7-f103-4e3c-f6cc-3e081bdc1798"
      },
      "execution_count": 56,
      "outputs": [
        {
          "output_type": "execute_result",
          "data": {
            "text/plain": [
              "array([1, 3, 5, 7, 9])"
            ]
          },
          "metadata": {},
          "execution_count": 56
        }
      ]
    },
    {
      "cell_type": "code",
      "source": [
        "array_3[array_3%2==0]"
      ],
      "metadata": {
        "colab": {
          "base_uri": "https://localhost:8080/"
        },
        "id": "yGjgOsxLHlJJ",
        "outputId": "aac3735c-0cb1-4973-882a-6f0c8a6f5dd8"
      },
      "execution_count": 57,
      "outputs": [
        {
          "output_type": "execute_result",
          "data": {
            "text/plain": [
              "array([0, 2, 4, 6, 8])"
            ]
          },
          "metadata": {},
          "execution_count": 57
        }
      ]
    }
  ]
}