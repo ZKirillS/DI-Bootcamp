{
  "nbformat": 4,
  "nbformat_minor": 0,
  "metadata": {
    "colab": {
      "provenance": []
    },
    "kernelspec": {
      "name": "python3",
      "display_name": "Python 3"
    },
    "language_info": {
      "name": "python"
    }
  },
  "cells": [
    {
      "cell_type": "code",
      "execution_count": 1,
      "metadata": {
        "colab": {
          "base_uri": "https://localhost:8080/"
        },
        "id": "MV-udVumSeps",
        "outputId": "7f78661e-db31-42aa-af72-b317322003a7"
      },
      "outputs": [
        {
          "output_type": "stream",
          "name": "stdout",
          "text": [
            "Required sample size per group: 393.41\n"
          ]
        }
      ],
      "source": [
        "# Calculate the Required Sample Size\n",
        "from statsmodels.stats.power import TTestIndPower\n",
        "\n",
        "effect_size = 0.2\n",
        "alpha = 0.05\n",
        "power = 0.8\n",
        "\n",
        "analysis = TTestIndPower()\n",
        "sample_size = analysis.solve_power(effect_size=effect_size, alpha=alpha, power=power)\n",
        "print(f'Required sample size per group: {sample_size:.2f}')"
      ]
    },
    {
      "cell_type": "code",
      "source": [
        "effect_size = 0.1\n",
        "alpha = 0.05\n",
        "power = 0.8\n",
        "\n",
        "analysis = TTestIndPower()\n",
        "sample_size = analysis.solve_power(effect_size=effect_size, alpha=alpha, power=power)\n",
        "print(f'Required sample size per group: {sample_size:.2f}')"
      ],
      "metadata": {
        "colab": {
          "base_uri": "https://localhost:8080/"
        },
        "id": "NnsWAsXnS2e8",
        "outputId": "e106ffcb-9bf0-4222-89ec-4a58ef2a1d7d"
      },
      "execution_count": 2,
      "outputs": [
        {
          "output_type": "stream",
          "name": "stdout",
          "text": [
            "Required sample size per group: 1570.73\n"
          ]
        }
      ]
    },
    {
      "cell_type": "code",
      "source": [
        "effect_size = 0.3\n",
        "alpha = 0.05\n",
        "power = 0.8\n",
        "\n",
        "analysis = TTestIndPower()\n",
        "sample_size = analysis.solve_power(effect_size=effect_size, alpha=alpha, power=power)\n",
        "print(f'Required sample size per group: {sample_size:.2f}')"
      ],
      "metadata": {
        "colab": {
          "base_uri": "https://localhost:8080/"
        },
        "id": "cgx2Eec3S2kK",
        "outputId": "fcd2f476-4bc1-4e18-c723-66988cc3189e"
      },
      "execution_count": 3,
      "outputs": [
        {
          "output_type": "stream",
          "name": "stdout",
          "text": [
            "Required sample size per group: 175.38\n"
          ]
        }
      ]
    },
    {
      "cell_type": "code",
      "source": [
        "effect_size = 0.4\n",
        "alpha = 0.05\n",
        "power = 0.8\n",
        "\n",
        "analysis = TTestIndPower()\n",
        "sample_size = analysis.solve_power(effect_size=effect_size, alpha=alpha, power=power)\n",
        "print(f'Required sample size per group: {sample_size:.2f}')"
      ],
      "metadata": {
        "colab": {
          "base_uri": "https://localhost:8080/"
        },
        "id": "QREqauOAS2pz",
        "outputId": "fc684063-3411-4518-9a86-264c3a7767ef"
      },
      "execution_count": 4,
      "outputs": [
        {
          "output_type": "stream",
          "name": "stdout",
          "text": [
            "Required sample size per group: 99.08\n"
          ]
        }
      ]
    },
    {
      "cell_type": "markdown",
      "source": [
        "a larger size effect is easier to notice and requires less data to detect. As the effect size increases, the required sample size decreases significantly."
      ],
      "metadata": {
        "id": "FbAkvX57S9LJ"
      }
    },
    {
      "cell_type": "markdown",
      "source": [
        "# Explain the Relationship:\n",
        "if you want to catch a big fish in a pond, you dont need much time - you can spot the fish easily.\n",
        "if you are trying to cath a small fish - you need much more time, bcs its harder to find.  \n",
        "if the change you are testing has a big impact, you will notice it quickly with fewer samples.\n",
        "if the impact is small, you need to a larger sample size to ensure you dont miss it."
      ],
      "metadata": {
        "id": "4NwxlC0pTUb5"
      }
    }
  ]
}