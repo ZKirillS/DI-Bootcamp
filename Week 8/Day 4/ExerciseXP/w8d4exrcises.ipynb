{
  "nbformat": 4,
  "nbformat_minor": 0,
  "metadata": {
    "colab": {
      "provenance": []
    },
    "kernelspec": {
      "name": "python3",
      "display_name": "Python 3"
    },
    "language_info": {
      "name": "python"
    }
  },
  "cells": [
    {
      "cell_type": "code",
      "execution_count": 6,
      "metadata": {
        "colab": {
          "base_uri": "https://localhost:8080/"
        },
        "id": "1gZV2LPXBvt4",
        "outputId": "a8b6b786-d61c-4039-fcc6-3bca8a323492"
      },
      "outputs": [
        {
          "output_type": "stream",
          "name": "stdout",
          "text": [
            "Required sample size per group: 175.38\n"
          ]
        }
      ],
      "source": [
        "# Exercise 1: Calculating Required Sample Size\n",
        "from statsmodels.stats.power import TTestIndPower\n",
        "\n",
        "# Define the parameters\n",
        "effect_size = 0.3\n",
        "alpha = 0.05\n",
        "power = 0.8\n",
        "\n",
        "# Calculate the sample size\n",
        "analysis = TTestIndPower()\n",
        "sample_size = analysis.solve_power(effect_size=effect_size, alpha=alpha, power=power)\n",
        "print(f'Required sample size per group: {sample_size:.2f}')"
      ]
    },
    {
      "cell_type": "code",
      "source": [
        "# Exercise 2: Understanding the Relationship Between Effect Size and Sample Size\n",
        "effect_size = 0.2\n",
        "alpha = 0.05\n",
        "power = 0.8\n",
        "\n",
        "# Calculate the sample size\n",
        "analysis = TTestIndPower()\n",
        "sample_size = analysis.solve_power(effect_size=effect_size, alpha=alpha, power=power)\n",
        "print(f'Required sample size per group: {sample_size:.2f}')"
      ],
      "metadata": {
        "colab": {
          "base_uri": "https://localhost:8080/"
        },
        "id": "nbb2gRtwDAZC",
        "outputId": "eefb3188-82c7-4974-8ca0-e87d2cfb864b"
      },
      "execution_count": 3,
      "outputs": [
        {
          "output_type": "stream",
          "name": "stdout",
          "text": [
            "Required sample size per group: 393.41\n"
          ]
        }
      ]
    },
    {
      "cell_type": "code",
      "source": [
        "effect_size = 0.4\n",
        "alpha = 0.05\n",
        "power = 0.8\n",
        "\n",
        "# Calculate the sample size\n",
        "analysis = TTestIndPower()\n",
        "sample_size = analysis.solve_power(effect_size=effect_size, alpha=alpha, power=power)\n",
        "print(f'Required sample size per group: {sample_size:.2f}')"
      ],
      "metadata": {
        "colab": {
          "base_uri": "https://localhost:8080/"
        },
        "id": "BSsr7-UiDQAZ",
        "outputId": "0de96009-ffef-40b3-dec1-1ddc2861b3d4"
      },
      "execution_count": 4,
      "outputs": [
        {
          "output_type": "stream",
          "name": "stdout",
          "text": [
            "Required sample size per group: 99.08\n"
          ]
        }
      ]
    },
    {
      "cell_type": "code",
      "source": [
        "effect_size = 0.5\n",
        "alpha = 0.05\n",
        "power = 0.8\n",
        "\n",
        "# Calculate the sample size\n",
        "analysis = TTestIndPower()\n",
        "sample_size = analysis.solve_power(effect_size=effect_size, alpha=alpha, power=power)\n",
        "print(f'Required sample size per group: {sample_size:.2f}')"
      ],
      "metadata": {
        "colab": {
          "base_uri": "https://localhost:8080/"
        },
        "id": "piCZHrG3DSbc",
        "outputId": "48821fb0-d364-4abb-f9f8-7bed506a140d"
      },
      "execution_count": 5,
      "outputs": [
        {
          "output_type": "stream",
          "name": "stdout",
          "text": [
            "Required sample size per group: 63.77\n"
          ]
        }
      ]
    },
    {
      "cell_type": "markdown",
      "source": [
        "the smaller the expected effect size, the more samples we need to see this effect"
      ],
      "metadata": {
        "id": "maXeUm47DZ-i"
      }
    },
    {
      "cell_type": "code",
      "source": [
        "# Exercise 3: Exploring the Impact of Statistical Power\n",
        "effect_size = 0.2\n",
        "alpha = 0.05\n",
        "power = 0.7\n",
        "\n",
        "# Calculate the sample size\n",
        "analysis = TTestIndPower()\n",
        "sample_size = analysis.solve_power(effect_size=effect_size, alpha=alpha, power=power)\n",
        "print(f'Required sample size per group: {sample_size:.2f}')"
      ],
      "metadata": {
        "colab": {
          "base_uri": "https://localhost:8080/"
        },
        "id": "IdeaPRo8DXMO",
        "outputId": "5e1ff20d-3b47-4dc5-d078-0eb0373bbc29"
      },
      "execution_count": 7,
      "outputs": [
        {
          "output_type": "stream",
          "name": "stdout",
          "text": [
            "Required sample size per group: 309.56\n"
          ]
        }
      ]
    },
    {
      "cell_type": "code",
      "source": [
        "effect_size = 0.2\n",
        "alpha = 0.05\n",
        "power = 0.8\n",
        "\n",
        "# Calculate the sample size\n",
        "analysis = TTestIndPower()\n",
        "sample_size = analysis.solve_power(effect_size=effect_size, alpha=alpha, power=power)\n",
        "print(f'Required sample size per group: {sample_size:.2f}')"
      ],
      "metadata": {
        "colab": {
          "base_uri": "https://localhost:8080/"
        },
        "id": "HkIO5228EOnz",
        "outputId": "7e17dc66-49ea-4988-9861-e7a566e30aac"
      },
      "execution_count": 8,
      "outputs": [
        {
          "output_type": "stream",
          "name": "stdout",
          "text": [
            "Required sample size per group: 393.41\n"
          ]
        }
      ]
    },
    {
      "cell_type": "code",
      "source": [
        "effect_size = 0.2\n",
        "alpha = 0.05\n",
        "power = 0.9\n",
        "\n",
        "# Calculate the sample size\n",
        "analysis = TTestIndPower()\n",
        "sample_size = analysis.solve_power(effect_size=effect_size, alpha=alpha, power=power)\n",
        "print(f'Required sample size per group: {sample_size:.2f}')"
      ],
      "metadata": {
        "colab": {
          "base_uri": "https://localhost:8080/"
        },
        "id": "BmsINwRnEP-D",
        "outputId": "92a1672e-006f-479a-f1f8-877238e25e14"
      },
      "execution_count": 9,
      "outputs": [
        {
          "output_type": "stream",
          "name": "stdout",
          "text": [
            "Required sample size per group: 526.33\n"
          ]
        }
      ]
    },
    {
      "cell_type": "markdown",
      "source": [
        "the smaller the chance with which we want to identify the desired difference, the smaller the number of samples we need"
      ],
      "metadata": {
        "id": "GjCLGQcrDsVX"
      }
    },
    {
      "cell_type": "code",
      "source": [
        "# Exercise 4: Implementing Sequential Testing\n",
        "from scipy.stats import beta\n",
        "import numpy as np\n",
        "import matplotlib.pyplot as plt\n",
        "alpha_p, beta_p = 1,1\n",
        "success = 13\n",
        "fail = 7\n",
        "\n",
        "alpha_post = alpha_p + success\n",
        "beta_post = beta_p + fail\n",
        "\n",
        "posterior = beta(alpha_post, beta_post)\n",
        "\n",
        "x = np.linspace(0, 1, 100)\n",
        "y = posterior.pdf(x)\n",
        "\n",
        "plt.plot(x, y, label = 'Posterior distribution')\n",
        "plt.xlabel('Conversion rate')\n",
        "plt.ylabel('Probability density')\n",
        "plt.legend()\n",
        "plt.show()"
      ],
      "metadata": {
        "colab": {
          "base_uri": "https://localhost:8080/",
          "height": 449
        },
        "id": "zdfT0UcuEuD6",
        "outputId": "faa2acd8-555d-4a73-81c1-219340dbff08"
      },
      "execution_count": 18,
      "outputs": [
        {
          "output_type": "display_data",
          "data": {
            "text/plain": [
              "<Figure size 640x480 with 1 Axes>"
            ],
            "image/png": "[encoded data removed]"
          },
          "metadata": {}
        }
      ]
    },
    {
      "cell_type": "markdown",
      "source": [
        "If the posterior probability is only 55%, the evidence is weak and only slightly favors the new feature. Options include:\n",
        "\n",
        "Gather More Data: A posterior of 55% suggests that the current data is insufficient to make a strong decision. Collecting more user engagement data could refine the posterior.\n",
        "Test Further: Run additional controlled experiments (e.g., A/B tests) to improve the quality and quantity of evidence.\n",
        "No Change: If the decision threshold for implementing the feature is higher (e.g., 70%), it would be reasonable to keep the existing feature and not roll out the new one.\n",
        "Investigate Factors: Look for confounding variables or other factors in the data that might explain the weak evidence for improvement."
      ],
      "metadata": {
        "id": "dckQ9G85RIS8"
      }
    },
    {
      "cell_type": "code",
      "source": [
        "# Exercise 6: Implementing Adaptive Experimentation\n",
        "# You’re running a test with three different website layouts to\n",
        "# increase user engagement. Initially, each layout gets 33% of the traffic.\n",
        "# After the first week, Layout C shows higher engagement."
      ],
      "metadata": {
        "id": "iRf7mMeqRTWA"
      },
      "execution_count": null,
      "outputs": []
    },
    {
      "cell_type": "markdown",
      "source": [
        "Reallocate Traffic:\n",
        "\n",
        "Increase traffic to Layout C based on its higher engagement rate.\n",
        "Reduce traffic to Layouts A and B but ensure they still receive enough traffic for further evaluation (exploration).\n",
        "For example, allocate traffic proportionally to the observed engagement rates or use a probabilistic approach.\n",
        "Monitor and Update Allocations Weekly.\n",
        "Stop Allocating to Poor Performers.\n",
        "Continue Exploration, determine a stopping criterion, such as a predefined level of confidence in the superior layout or a set duration for the experiment.\n",
        "Adaptive experimentation faces challenges such as premature convergence (allocating too much traffic to a single option early, risking suboptimal choices), small sample sizes for underperformers (leading to unreliable estimates), and sensitivity to non-stationary environments where user preferences change over time. Other issues include delayed feedback affecting decision accuracy, implementation complexity requiring robust algorithms, and potential bias from external factors like seasonal trends.\n",
        "\n",
        "To address these, maintain balanced exploration (e.g., using Thompson Sampling), ensure a minimum traffic threshold for all options, and use adaptive algorithms that handle changing conditions. Employ techniques like Bayesian inference to mitigate noisy early results, build scalable infrastructure for real-time updates, and control external factors with careful design and monitoring."
      ],
      "metadata": {
        "id": "0ZOFUJNmRsUN"
      }
    }
  ]
}