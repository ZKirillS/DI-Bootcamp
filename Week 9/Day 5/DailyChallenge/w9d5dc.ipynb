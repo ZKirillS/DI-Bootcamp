{
  "nbformat": 4,
  "nbformat_minor": 0,
  "metadata": {
    "colab": {
      "provenance": []
    },
    "kernelspec": {
      "name": "python3",
      "display_name": "Python 3"
    },
    "language_info": {
      "name": "python"
    }
  },
  "cells": [
    {
      "cell_type": "code",
      "execution_count": 1,
      "metadata": {
        "id": "fRcZgMq9md1d"
      },
      "outputs": [],
      "source": [
        "import pandas as pd\n",
        "import sqlite3"
      ]
    },
    {
      "cell_type": "code",
      "source": [
        "conn = sqlite3.connect('database.sqlite')\n",
        "cursor = conn.cursor()"
      ],
      "metadata": {
        "id": "XG_trHjsm4O5"
      },
      "execution_count": 34,
      "outputs": []
    },
    {
      "cell_type": "code",
      "source": [
        "cursor.execute(\"SELECT name FROM sqlite_master WHERE type='table';\")\n",
        "tables = cursor.fetchall()"
      ],
      "metadata": {
        "id": "R2GgZ7BVncY-"
      },
      "execution_count": 35,
      "outputs": []
    },
    {
      "cell_type": "code",
      "source": [
        "for table in tables:\n",
        "    table_name = table[0]\n",
        "    print(f\"Columns for table {table_name}:\")\n",
        "    df = pd.read_sql_query(f\"SELECT * FROM {table_name} LIMIT 5;\", conn)\n",
        "    print(df.columns.tolist())\n",
        "    print('-' * 50)"
      ],
      "metadata": {
        "colab": {
          "base_uri": "https://localhost:8080/"
        },
        "id": "Au1QaNVFniU9",
        "outputId": "dd331d32-0498-4075-b758-43bd0d51b161"
      },
      "execution_count": 36,
      "outputs": [
        {
          "output_type": "stream",
          "name": "stdout",
          "text": [
            "Columns for table Player:\n",
            "['Player_Id', 'Player_Name', 'DOB', 'Batting_hand', 'Bowling_skill', 'Country_Name']\n",
            "--------------------------------------------------\n",
            "Columns for table Extra_Runs:\n",
            "['Match_Id', 'Over_Id', 'Ball_Id', 'Extra_Type_Id', 'Extra_Runs', 'Innings_No']\n",
            "--------------------------------------------------\n",
            "Columns for table Batsman_Scored:\n",
            "['Match_Id', 'Over_Id', 'Ball_Id', 'Runs_Scored', 'Innings_No']\n",
            "--------------------------------------------------\n",
            "Columns for table Batting_Style:\n",
            "['Batting_Id', 'Batting_hand']\n",
            "--------------------------------------------------\n",
            "Columns for table Bowling_Style:\n",
            "['Bowling_Id', 'Bowling_skill']\n",
            "--------------------------------------------------\n",
            "Columns for table Country:\n",
            "['Country_Id', 'Country_Name']\n",
            "--------------------------------------------------\n",
            "Columns for table Season:\n",
            "['Season_Id', 'Man_of_the_Series', 'Orange_Cap', 'Purple_Cap', 'Season_Year']\n",
            "--------------------------------------------------\n",
            "Columns for table City:\n",
            "['City_Id', 'City_Name', 'Country_id']\n",
            "--------------------------------------------------\n",
            "Columns for table Outcome:\n",
            "['Outcome_Id', 'Outcome_Type']\n",
            "--------------------------------------------------\n",
            "Columns for table Win_By:\n",
            "['Win_Id', 'Win_Type']\n",
            "--------------------------------------------------\n",
            "Columns for table Wicket_Taken:\n",
            "['Match_Id', 'Over_Id', 'Ball_Id', 'Player_Out', 'Kind_Out', 'Fielders', 'Innings_No']\n",
            "--------------------------------------------------\n",
            "Columns for table Venue:\n",
            "['Venue_Id', 'Venue_Name', 'City_Id']\n",
            "--------------------------------------------------\n",
            "Columns for table Extra_Type:\n",
            "['Extra_Id', 'Extra_Name']\n",
            "--------------------------------------------------\n",
            "Columns for table Out_Type:\n",
            "['Out_Id', 'Out_Name']\n",
            "--------------------------------------------------\n",
            "Columns for table Toss_Decision:\n",
            "['Toss_Id', 'Toss_Name']\n",
            "--------------------------------------------------\n",
            "Columns for table Umpire:\n",
            "['Umpire_Id', 'Umpire_Name', 'Umpire_Country']\n",
            "--------------------------------------------------\n",
            "Columns for table Team:\n",
            "['Team_Id', 'Team_Name']\n",
            "--------------------------------------------------\n",
            "Columns for table Ball_by_Ball:\n",
            "['Match_Id', 'Over_Id', 'Ball_Id', 'Innings_No', 'Team_Batting', 'Team_Bowling', 'Striker_Batting_Position', 'Striker', 'Non_Striker', 'Bowler']\n",
            "--------------------------------------------------\n",
            "Columns for table sysdiagrams:\n",
            "['name', 'principal_id', 'diagram_id', 'version', 'definition']\n",
            "--------------------------------------------------\n",
            "Columns for table sqlite_sequence:\n",
            "['name', 'seq']\n",
            "--------------------------------------------------\n",
            "Columns for table Match:\n",
            "['Match_Id', 'Team_1', 'Team_2', 'Match_Date', 'Season_Id', 'Venue_Id', 'Toss_Winner', 'Toss_Decide', 'Win_Type', 'Win_Margin', 'Outcome_type', 'Match_Winner', 'Man_of_the_Match']\n",
            "--------------------------------------------------\n",
            "Columns for table Rolee:\n",
            "['Role_Id', 'Role_Desc']\n",
            "--------------------------------------------------\n",
            "Columns for table Player_Match:\n",
            "['Match_Id', 'Player_Id', 'Role_Id', 'Team_Id']\n",
            "--------------------------------------------------\n"
          ]
        }
      ]
    },
    {
      "cell_type": "code",
      "source": [
        "conn = sqlite3.connect('database.sqlite')\n",
        "query1 = \"SELECT * FROM Player\"\n",
        "df1 = pd.read_sql_query(query1,conn)\n",
        "print(df1.head())"
      ],
      "metadata": {
        "colab": {
          "base_uri": "https://localhost:8080/"
        },
        "id": "eM81bV3HoCpA",
        "outputId": "5b650206-e675-4e26-91df-199e96f0a993"
      },
      "execution_count": 37,
      "outputs": [
        {
          "output_type": "stream",
          "name": "stdout",
          "text": [
            "   Player_Id      Player_Name                  DOB  Batting_hand  \\\n",
            "0          1       SC Ganguly  1972-07-08 00:00:00             1   \n",
            "1          2      BB McCullum  1981-09-27 00:00:00             2   \n",
            "2          3       RT Ponting  1974-12-19 00:00:00             2   \n",
            "3          4        DJ Hussey  1977-07-15 00:00:00             2   \n",
            "4          5  Mohammad Hafeez  1980-10-17 00:00:00             2   \n",
            "\n",
            "   Bowling_skill  Country_Name  \n",
            "0            1.0             1  \n",
            "1            1.0             4  \n",
            "2            1.0             5  \n",
            "3            2.0             5  \n",
            "4            2.0             6  \n"
          ]
        }
      ]
    },
    {
      "cell_type": "code",
      "source": [
        "query_2 = \"\"\"\n",
        "SELECT b.Striker AS batsman, SUM(bs.Runs_Scored) AS total_runs, b.Striker AS Player_Id\n",
        "FROM Ball_by_Ball b\n",
        "JOIN Batsman_Scored bs ON b.Match_Id = bs.Match_Id\n",
        "GROUP BY batsman\n",
        "ORDER BY total_runs DESC;\n",
        "\"\"\"\n",
        "df2 = pd.read_sql_query(query_2, conn)\n",
        "print(df2.head())"
      ],
      "metadata": {
        "colab": {
          "base_uri": "https://localhost:8080/"
        },
        "id": "TjCoa2CIo-TL",
        "outputId": "55849a1f-983e-4bf9-b0d6-b3fe9a7a546e"
      },
      "execution_count": 58,
      "outputs": [
        {
          "output_type": "stream",
          "name": "stdout",
          "text": [
            "   batsman  total_runs  Player_Id\n",
            "0        8      995223          8\n",
            "1       21      914446         21\n",
            "2       57      887853         57\n",
            "3       40      856072         40\n",
            "4       46      779183         46\n"
          ]
        }
      ]
    },
    {
      "cell_type": "code",
      "source": [
        "query_3 = \"\"\"\n",
        "SELECT\n",
        "    Striker AS batsman,\n",
        "    COUNT(CASE WHEN total_runs >= 50 AND total_runs < 100 THEN 1 END) AS fifties,\n",
        "    COUNT(CASE WHEN total_runs >= 100 THEN 1 END) AS hundreds,\n",
        "    Striker AS Player_Id\n",
        "FROM (\n",
        "    SELECT\n",
        "        b.Striker,\n",
        "        b.Match_Id,\n",
        "        b.Innings_No,\n",
        "        SUM(bs.Runs_Scored) AS total_runs\n",
        "    FROM Ball_by_Ball b\n",
        "    JOIN Batsman_Scored bs ON b.Match_Id = bs.Match_Id AND b.Innings_No = bs.Innings_No\n",
        "    GROUP BY b.Striker, b.Match_Id, b.Innings_No\n",
        ") AS batsman_runs\n",
        "GROUP BY Striker\n",
        "ORDER BY fifties DESC, hundreds DESC;\n",
        "\"\"\"\n",
        "df3 = pd.read_sql_query(query_3, conn)\n",
        "print(df3.head())"
      ],
      "metadata": {
        "colab": {
          "base_uri": "https://localhost:8080/"
        },
        "id": "klOGUejYqw0w",
        "outputId": "8fc88658-0e2d-4850-80c5-deb285b9636d"
      },
      "execution_count": 60,
      "outputs": [
        {
          "output_type": "stream",
          "name": "stdout",
          "text": [
            "   batsman  fifties  hundreds  Player_Id\n",
            "0      110        3       107        110\n",
            "1      126        3         8        126\n",
            "2       21        2       141         21\n",
            "3      162        2        90        162\n",
            "4      131        2        17        131\n"
          ]
        }
      ]
    },
    {
      "cell_type": "code",
      "source": [
        "query_4 = \"\"\"\n",
        "SELECT\n",
        "    p.Player_Name AS bowler,\n",
        "    COUNT(w.Player_Out) AS wickets_taken,\n",
        "    SUM(bs.Runs_Scored) AS runs_conceded,\n",
        "    bb.Bowler AS Player_Id\n",
        "FROM\n",
        "    Ball_by_Ball bb\n",
        "JOIN\n",
        "    Wicket_Taken w ON bb.Match_Id = w.Match_Id AND bb.Over_Id = w.Over_Id AND bb.Ball_Id = w.Ball_Id\n",
        "JOIN\n",
        "    Player p ON p.Player_Id = bb.Bowler\n",
        "LEFT JOIN\n",
        "    Batsman_Scored bs ON bb.Match_Id = bs.Match_Id AND bb.Innings_No = bs.Innings_No AND bb.Bowler = p.Player_Id\n",
        "GROUP BY\n",
        "    bowler\n",
        "ORDER BY\n",
        "    wickets_taken DESC, runs_conceded ASC\n",
        "LIMIT 10;\n",
        "\"\"\"\n",
        "df4 = pd.read_sql_query(query_4, conn)\n",
        "print(df4.head())"
      ],
      "metadata": {
        "colab": {
          "base_uri": "https://localhost:8080/"
        },
        "id": "r0CneTHWu6bw",
        "outputId": "b66cadc3-2ac1-4300-aa50-95aa310f2872"
      },
      "execution_count": 61,
      "outputs": [
        {
          "output_type": "stream",
          "name": "stdout",
          "text": [
            "            bowler  wickets_taken  runs_conceded  Player_Id\n",
            "0       SL Malinga          34408          41095        194\n",
            "1         DJ Bravo          27728          33930         71\n",
            "2    R Vinay Kumar          27652          34401         81\n",
            "3  Harbhajan Singh          27066          32771         50\n",
            "4         A Mishra          26150          31436        136\n"
          ]
        }
      ]
    },
    {
      "cell_type": "code",
      "source": [
        "total_batting_metrics = df2.groupby('Player_Id').agg(\n",
        "    total_runs=('total_runs', 'sum'),\n",
        "    fifties=('total_runs', lambda x: ((x >= 50) & (x < 100)).sum()),\n",
        "    hundreds=('total_runs', lambda x: (x >= 100).sum())\n",
        ").reset_index()\n",
        "\n",
        "total_bowling_metrics = df4.groupby('Player_Id').agg(\n",
        "    wickets_taken=('wickets_taken', 'sum'),\n",
        "    runs_conceded=('runs_conceded', 'sum')\n",
        ").reset_index()\n",
        "\n",
        "career_metrics_df = pd.merge(total_batting_metrics, total_bowling_metrics, on='Player_Id', how='outer')\n",
        "player_names = df1[['Player_Id', 'Player_Name']]\n",
        "career_metrics_df = pd.merge(career_metrics_df, player_names, on='Player_Id', how='left')\n",
        "\n",
        "print(career_metrics_df)"
      ],
      "metadata": {
        "colab": {
          "base_uri": "https://localhost:8080/"
        },
        "id": "zUXyeOswwavt",
        "outputId": "dad1e984-e6d9-463a-9094-57bcea965f31"
      },
      "execution_count": 62,
      "outputs": [
        {
          "output_type": "stream",
          "name": "stdout",
          "text": [
            "     Player_Id  total_runs  fifties  hundreds  wickets_taken  runs_conceded  \\\n",
            "0            1      379585        0         1            NaN            NaN   \n",
            "1            2      577009        0         1            NaN            NaN   \n",
            "2            3       35662        0         1            NaN            NaN   \n",
            "3            4      317211        0         1            NaN            NaN   \n",
            "4            5       19948        0         1            NaN            NaN   \n",
            "..         ...         ...      ...       ...            ...            ...   \n",
            "429        430         262        0         1            NaN            NaN   \n",
            "430        431       22463        0         1            NaN            NaN   \n",
            "431        432         332        0         1            NaN            NaN   \n",
            "432        433        4518        0         1            NaN            NaN   \n",
            "433        434        1540        0         1            NaN            NaN   \n",
            "\n",
            "         Player_Name  \n",
            "0         SC Ganguly  \n",
            "1        BB McCullum  \n",
            "2         RT Ponting  \n",
            "3          DJ Hussey  \n",
            "4    Mohammad Hafeez  \n",
            "..               ...  \n",
            "429          A Zampa  \n",
            "430           N Rana  \n",
            "431        S Kaushik  \n",
            "432       ER Dwivedi  \n",
            "433        CJ Jordan  \n",
            "\n",
            "[434 rows x 7 columns]\n"
          ]
        }
      ]
    }
  ]
}